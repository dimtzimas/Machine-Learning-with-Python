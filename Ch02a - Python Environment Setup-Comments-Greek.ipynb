{
 "cells": [
  {
   "cell_type": "code",
   "execution_count": 1,
   "metadata": {},
   "outputs": [
    {
     "name": "stdout",
     "output_type": "stream",
     "text": [
      "Python 3.7.6\n"
     ]
    }
   ],
   "source": [
    "!python --version"
   ]
  },
  {
   "cell_type": "code",
   "execution_count": 3,
   "metadata": {},
   "outputs": [
    {
     "name": "stdout",
     "output_type": "stream",
     "text": [
      "Welcome to Python\n",
      "Καλωσήλθατε στην Python\n"
     ]
    }
   ],
   "source": [
    "print('Welcome to Python')\n",
    "print('Καλωσήλθατε στην Python')"
   ]
  },
  {
   "cell_type": "code",
   "execution_count": 3,
   "metadata": {},
   "outputs": [
    {
     "name": "stderr",
     "output_type": "stream",
     "text": [
      "'grep' is not recognized as an internal or external command,\n",
      "operable program or batch file.\n"
     ]
    }
   ],
   "source": [
    "!pip freeze | grep pandas"
   ]
  },
  {
   "cell_type": "code",
   "execution_count": 4,
   "metadata": {},
   "outputs": [
    {
     "name": "stdout",
     "output_type": "stream",
     "text": [
      "Requirement already satisfied: pandas in c:\\users\\user\\anaconda3\\lib\\site-packages (1.0.1)\n",
      "Requirement already satisfied: python-dateutil>=2.6.1 in c:\\users\\user\\anaconda3\\lib\\site-packages (from pandas) (2.8.1)\n",
      "Requirement already satisfied: numpy>=1.13.3 in c:\\users\\user\\anaconda3\\lib\\site-packages (from pandas) (1.18.1)\n",
      "Requirement already satisfied: pytz>=2017.2 in c:\\users\\user\\anaconda3\\lib\\site-packages (from pandas) (2019.3)\n",
      "Requirement already satisfied: six>=1.5 in c:\\users\\user\\anaconda3\\lib\\site-packages (from python-dateutil>=2.6.1->pandas) (1.14.0)\n"
     ]
    }
   ],
   "source": [
    "!pip install pandas"
   ]
  },
  {
   "cell_type": "code",
   "execution_count": 5,
   "metadata": {},
   "outputs": [
    {
     "name": "stdout",
     "output_type": "stream",
     "text": [
      "Collecting pandas\n",
      "  Downloading pandas-1.0.3-cp37-cp37m-win_amd64.whl (8.7 MB)\n",
      "Requirement already satisfied, skipping upgrade: numpy>=1.13.3 in c:\\users\\user\\anaconda3\\lib\\site-packages (from pandas) (1.18.1)\n",
      "Requirement already satisfied, skipping upgrade: python-dateutil>=2.6.1 in c:\\users\\user\\anaconda3\\lib\\site-packages (from pandas) (2.8.1)\n",
      "Requirement already satisfied, skipping upgrade: pytz>=2017.2 in c:\\users\\user\\anaconda3\\lib\\site-packages (from pandas) (2019.3)\n",
      "Requirement already satisfied, skipping upgrade: six>=1.5 in c:\\users\\user\\anaconda3\\lib\\site-packages (from python-dateutil>=2.6.1->pandas) (1.14.0)\n",
      "Installing collected packages: pandas\n",
      "  Attempting uninstall: pandas\n",
      "    Found existing installation: pandas 1.0.1\n",
      "    Uninstalling pandas-1.0.1:\n",
      "      Successfully uninstalled pandas-1.0.1\n"
     ]
    },
    {
     "name": "stderr",
     "output_type": "stream",
     "text": [
      "ERROR: Could not install packages due to an EnvironmentError: [WinError 5] Δεν επιτρέπεται η πρόσβαση: 'c:\\\\users\\\\user\\\\anaconda3\\\\lib\\\\site-packages\\\\~andas\\\\_libs\\\\algos.cp37-win_amd64.pyd'\n",
      "Consider using the `--user` option or check the permissions.\n",
      "\n"
     ]
    }
   ],
   "source": [
    "!pip install pandas --upgrade"
   ]
  },
  {
   "cell_type": "markdown",
   "metadata": {},
   "source": [
    "```\n",
    "\n",
    "C:\\> conda install pandas\n",
    "Solving environment: done\n",
    "\n",
    "## Package Plan ##\n",
    "\n",
    "  environment location: C:\\Program Files\\Anaconda3\n",
    "\n",
    "  added / updated specs:\n",
    "    - pandas\n",
    "\n",
    "\n",
    "The following packages will be downloaded:\n",
    "\n",
    "    package                    |            build\n",
    "    ---------------------------|-----------------\n",
    "    pandas-0.23.3              |           py35_0         8.6 MB  conda-forge\n",
    "\n",
    "The following packages will be UPDATED:\n",
    "\n",
    "    pandas: 0.20.3-py35_1 conda-forge --> 0.23.3-py35_0 conda-forge\n",
    "\n",
    "Proceed ([y]/n)? y\n",
    "\n",
    "\n",
    "Downloading and Extracting Packages\n",
    "pandas-0.23.3        |  8.6 MB | ########################################################### | 100%\n",
    "Preparing transaction: done\n",
    "Verifying transaction: done\n",
    "Executing transaction: done\n",
    "```"
   ]
  },
  {
   "cell_type": "code",
   "execution_count": 5,
   "metadata": {},
   "outputs": [
    {
     "name": "stdout",
     "output_type": "stream",
     "text": [
      "pandas==0.23.3\n"
     ]
    },
    {
     "name": "stderr",
     "output_type": "stream",
     "text": [
      "You are using pip version 9.0.1, however version 10.0.1 is available.\n",
      "You should consider upgrading via the 'python -m pip install --upgrade pip' command.\n"
     ]
    }
   ],
   "source": [
    "!pip freeze | grep pandas"
   ]
  },
  {
   "cell_type": "markdown",
   "metadata": {},
   "source": [
    "```\n",
    "E:\\>mkdir Apress\n",
    "E:\\>cd Apress\n",
    "E:\\Apress>pip install virtualenv\n",
    "Collecting virtualenv\n",
    "Installing collected packages: virtualenv\n",
    "Successfully installed virtualenv-16.0.0\n",
    "\n",
    "E:\\Apress>mkdir test_proj && chdir test_proj\n",
    "\n",
    "E:\\Apress\\test_proj>virtualenv venv\n",
    "Using base prefix 'c:\\\\program files\\\\anaconda3'\n",
    "New python executable in E:\\Apress\\test_proj\\venv\\Scripts\\python.exe\n",
    "Installing setuptools, pip, wheel...done.\n",
    "\n",
    "E:\\Apress\\test_proj>echo 'This is Global System Python'\n",
    "'This is Global System Python'\n",
    "\n",
    "E:\\Apress\\test_proj>pip freeze | grep pandas\n",
    "pandas==0.23.3\n",
    "\n",
    "\n",
    "\n",
    "E:\\Apress\\test_proj>venv\\Scripts\\activate\n",
    "\n",
    "(venv) E:\\Apress\\test_proj>echo 'This is VirtualEnv Python'\n",
    "'This is VirtualEnv Python'\n",
    "\n",
    "(venv) E:\\Apress\\test_proj>pip install pandas==0.21.0\n",
    "Collecting pandas==0.21.0\n",
    "    100% |################################| 9.0MB 310kB/s\n",
    "Collecting pytz>=2011k (from pandas==0.21.0)\n",
    "Collecting python-dateutil>=2 (from pandas==0.21.0)\n",
    "Collecting numpy>=1.9.0 (from pandas==0.21.0)\n",
    "Collecting six>=1.5 (from python-dateutil>=2->pandas==0.21.0)\n",
    "\n",
    "Installing collected packages: pytz, six, python-dateutil, numpy, pandas\n",
    "Successfully installed numpy-1.14.5 pandas-0.21.0 python-dateutil-2.7.3 pytz-2018.5 six-1.11.0\n",
    "\n",
    "(venv) E:\\Apress\\test_proj>pip freeze | grep pandas\n",
    "pandas==0.21.0\n",
    "\n",
    "(venv) E:\\Apress\\test_proj>venv\\Scripts\\deactivate\n",
    "E:\\Apress\\test_proj>pip freeze | grep pandas\n",
    "pandas==0.23.3\n",
    "```\n"
   ]
  },
  {
   "cell_type": "markdown",
   "metadata": {},
   "source": [
    "http://docs.python-guide.org/en/latest/dev/virtualenvs/"
   ]
  }
 ],
 "metadata": {
  "anaconda-cloud": {},
  "kernelspec": {
   "display_name": "Python 3",
   "language": "python",
   "name": "python3"
  },
  "language_info": {
   "codemirror_mode": {
    "name": "ipython",
    "version": 3
   },
   "file_extension": ".py",
   "mimetype": "text/x-python",
   "name": "python",
   "nbconvert_exporter": "python",
   "pygments_lexer": "ipython3",
   "version": "3.7.6"
  }
 },
 "nbformat": 4,
 "nbformat_minor": 2
}
