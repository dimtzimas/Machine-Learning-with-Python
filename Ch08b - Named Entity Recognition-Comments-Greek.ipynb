{
 "cells": [
  {
   "cell_type": "markdown",
   "metadata": {},
   "source": [
    "# Named Entity Recognition (entity chunking/extraction)\n",
    "\n",
    "In any text document, there are particular terms that represent specific entities that are more informative and have a unique context. These entities are known as named entities, which more specifically refer to terms that represent real-world objects like people, places, organizations, and so on, which are often denoted by proper names. \n",
    "\n",
    "__Named entity recognition (NER)__ , also known as entity chunking/extraction, is a popular technique used in information extraction to identify and segment the named entities and classify or categorize them under various predefined classes.\n",
    "\n",
    "There are out of the box NER taggers available through popular libraries like __`nltk`__ and __`spacy`__. Each library follows a different approach to solve the problem."
   ]
  },
  {
   "cell_type": "markdown",
   "metadata": {},
   "source": [
    "# NER with SpaCy"
   ]
  },
  {
   "cell_type": "code",
   "execution_count": 1,
   "metadata": {},
   "outputs": [
    {
     "name": "stdout",
     "output_type": "stream",
     "text": [
      "Three more countries have joined an “international grand committee” of parliaments, adding to calls for \n",
      "Facebook’s boss, Mark Zuckerberg, to give evidence on misinformation to the coalition. Brazil, Latvia and Singapore \n",
      "bring the total to eight different parliaments across the world, with plans to send representatives to London on 27 \n",
      "November with the intention of hearing from Zuckerberg. Since the Cambridge Analytica scandal broke, the Facebook chief \n",
      "has only appeared in front of two legislatures: the American Senate and House of Representatives, and the European parliament. \n",
      "Facebook has consistently rebuffed attempts from others, including the UK and Canadian parliaments, to hear from Zuckerberg. \n",
      "He added that an article in the New York Times on Thursday, in which the paper alleged a pattern of behaviour from Facebook \n",
      "to “delay, deny and deflect” negative news stories, “raises further questions about how recent data breaches were allegedly \n",
      "dealt with within Facebook.”\n",
      "\n"
     ]
    }
   ],
   "source": [
    "text = \"\"\"Three more countries have joined an “international grand committee” of parliaments, adding to calls for \n",
    "Facebook’s boss, Mark Zuckerberg, to give evidence on misinformation to the coalition. Brazil, Latvia and Singapore \n",
    "bring the total to eight different parliaments across the world, with plans to send representatives to London on 27 \n",
    "November with the intention of hearing from Zuckerberg. Since the Cambridge Analytica scandal broke, the Facebook chief \n",
    "has only appeared in front of two legislatures: the American Senate and House of Representatives, and the European parliament. \n",
    "Facebook has consistently rebuffed attempts from others, including the UK and Canadian parliaments, to hear from Zuckerberg. \n",
    "He added that an article in the New York Times on Thursday, in which the paper alleged a pattern of behaviour from Facebook \n",
    "to “delay, deny and deflect” negative news stories, “raises further questions about how recent data breaches were allegedly \n",
    "dealt with within Facebook.”\n",
    "\"\"\"\n",
    "print(text)"
   ]
  },
  {
   "cell_type": "code",
   "execution_count": null,
   "metadata": {},
   "outputs": [],
   "source": [
    "# The greek language models support the following NER tags: ORG, PERSON, LOC, GPE, EVENT, PRODUCT. \n",
    "# Having one of the greek models, you can use the NER tagger.\n",
    "# https://github.com/eellak/gsoc2018-spacy"
   ]
  },
  {
   "cell_type": "code",
   "execution_count": 6,
   "metadata": {},
   "outputs": [
    {
     "name": "stdout",
     "output_type": "stream",
     "text": [
      "οκτώ 8 Παρασκευή 3 Νοεμβρίου 2018 Zuckeberg Ευρωπαϊκή Ένωση: αποτελείται από 27 μέλη, τα οποία συναντιούνται κατ' ιδίαν για να συμφωνήσουν σχετικά με τις κοινές θέσεις τους και αντιπροσωπεύεται από τη χώρα που έχει την προεδρία. Σημειώνεται ότι η Ευρωπαϊκή Ένωση είναι η πιο ενεργή ομάδα όσον αφορά στις διαπραγματεύσεις για την προστασία του περιβάλλοντος και πιέζει συνεχώς για τη λήψη αυστηρών μέτρων. Σημειώνεται ότι την περίοδο των διαπραγματεύσεων η Ευρωπαϊκή Ένωση αποτελούνταν από 15 κράτη μέλη, με αυτά όμως συμμάχησαν και τα 12 νέα μέλη της διεύρυνσης.\n",
      "«Λέσχη του Άνθρακα» (“Carbon Club”): περιλαμβάνει τις χώρες «JUSCANZ» (από τα αρχικά των χωρών Ιαπωνία, ΗΠΑ, Καναδάς, Αυστραλία, Νέα Ζηλανδία στα Αγγλικά), τις χώρες μέλη του ΟΠΕΚ, τη Ρωσία και τη Νορβηγία, στις οποίες γενικά τα συμφέροντά τους θίγονται από το Πρωτόκολλο του Κιότο (είτε επειδή θα πρέπει να μειώσουν την παραγωγή τους είτε επειδή προτείνεται η στροφή προς διαφορετικά καύσιμα) και κατά συνέπεια αντιτίθενται στην καθιέρωση των δικαιωμάτων και στη λήψη αυστηρών μέτρων.\n",
      "Συμμαχία των Μικρών Νησιωτικών Κρατών (AOSIS): είναι ένας συνασπισμός περίπου 43 μικρών νησιωτικών κρατών, τα οποία είναι ιδιαίτερα ευάλωτα στην άνοδο της στάθμης της θάλασσας. Τα κράτη αυτά κινδυνεύουν να εξαφανιστούν από το χάρτη εξαιτίας του μικρού τους υψομέτρου σε σχέση με το επίπεδο της θάλασσας και επομένως απειλείται άμεσα η ίδια τους η επιβίωση. Οι χώρες της ομάδας αυτής ήταν μάλιστα οι πρώτες που πρότειναν ένα σχέδιο κειμένου κατά τη διάρκεια των διαπραγματεύσεων του πρωτοκόλλου του Κιότο ζητώντας μία μείωση στις εκπομπές διοξειδίου του άνθρακα της τάξης του 20% έως το 2005 σε σχέση με τα επίπεδα του 1990.\n",
      "Λιγότερο αναπτυγμένες χώρες: πρόκειται για 48 χώρες, οι οποίες συμμετείχαν όλο και πιο ενεργά στη διαδικασία των διαπραγματεύσεων για την αλλαγή του κλίματος, συχνά για να υπερασπιστούν τα ιδιαίτερα συμφέροντά τους και την εύθραυστη οικονομία τους, όπως για παράδειγμα την παροχή μέτρων για να μπορέσουν να προσαρμοστούν στην αλλαγή του κλίματος και να μην είναι τόσο ευάλωτες.\n",
      "Ομάδα των 77 (G-77): πρόκειται για εκείνες τις αναπτυσσόμενες χώρες που είναι αναδυόμενες, όπως η Ινδία και η Κίνα, που θεωρούν ότι βρίσκονται σε τροχιά ανάπτυξης και ότι είναι εις βάρος τους να δεσμευτούν να περιορίσουν τις εκπομπές τους. Η δε απαίτηση των βιομηχανικών χωρών (που είναι κυρίως υπεύθυνες για τις μεγαλύτερες εκπομπές αερίων του θερμοκηπίου παγκοσμίως) να αντιμετωπιστούν επί ίσοις όροις με τις αναπτυσσόμενες χώρες τους φαίνεται άδικη και παράλογη.\n",
      "\n"
     ]
    }
   ],
   "source": [
    "text = \"\"\"οκτώ 8 Παρασκευή 3 Νοεμβρίου 2018 Zuckeberg Ευρωπαϊκή Ένωση: αποτελείται από 27 μέλη, τα οποία συναντιούνται κατ' ιδίαν για να συμφωνήσουν σχετικά με τις κοινές θέσεις τους και αντιπροσωπεύεται από τη χώρα που έχει την προεδρία. Σημειώνεται ότι η Ευρωπαϊκή Ένωση είναι η πιο ενεργή ομάδα όσον αφορά στις διαπραγματεύσεις για την προστασία του περιβάλλοντος και πιέζει συνεχώς για τη λήψη αυστηρών μέτρων. Σημειώνεται ότι την περίοδο των διαπραγματεύσεων η Ευρωπαϊκή Ένωση αποτελούνταν από 15 κράτη μέλη, με αυτά όμως συμμάχησαν και τα 12 νέα μέλη της διεύρυνσης.\n",
    "«Λέσχη του Άνθρακα» (“Carbon Club”): περιλαμβάνει τις χώρες «JUSCANZ» (από τα αρχικά των χωρών Ιαπωνία, ΗΠΑ, Καναδάς, Αυστραλία, Νέα Ζηλανδία στα Αγγλικά), τις χώρες μέλη του ΟΠΕΚ, τη Ρωσία και τη Νορβηγία, στις οποίες γενικά τα συμφέροντά τους θίγονται από το Πρωτόκολλο του Κιότο (είτε επειδή θα πρέπει να μειώσουν την παραγωγή τους είτε επειδή προτείνεται η στροφή προς διαφορετικά καύσιμα) και κατά συνέπεια αντιτίθενται στην καθιέρωση των δικαιωμάτων και στη λήψη αυστηρών μέτρων.\n",
    "Συμμαχία των Μικρών Νησιωτικών Κρατών (AOSIS): είναι ένας συνασπισμός περίπου 43 μικρών νησιωτικών κρατών, τα οποία είναι ιδιαίτερα ευάλωτα στην άνοδο της στάθμης της θάλασσας. Τα κράτη αυτά κινδυνεύουν να εξαφανιστούν από το χάρτη εξαιτίας του μικρού τους υψομέτρου σε σχέση με το επίπεδο της θάλασσας και επομένως απειλείται άμεσα η ίδια τους η επιβίωση. Οι χώρες της ομάδας αυτής ήταν μάλιστα οι πρώτες που πρότειναν ένα σχέδιο κειμένου κατά τη διάρκεια των διαπραγματεύσεων του πρωτοκόλλου του Κιότο ζητώντας μία μείωση στις εκπομπές διοξειδίου του άνθρακα της τάξης του 20% έως το 2005 σε σχέση με τα επίπεδα του 1990.\n",
    "Λιγότερο αναπτυγμένες χώρες: πρόκειται για 48 χώρες, οι οποίες συμμετείχαν όλο και πιο ενεργά στη διαδικασία των διαπραγματεύσεων για την αλλαγή του κλίματος, συχνά για να υπερασπιστούν τα ιδιαίτερα συμφέροντά τους και την εύθραυστη οικονομία τους, όπως για παράδειγμα την παροχή μέτρων για να μπορέσουν να προσαρμοστούν στην αλλαγή του κλίματος και να μην είναι τόσο ευάλωτες.\n",
    "Ομάδα των 77 (G-77): πρόκειται για εκείνες τις αναπτυσσόμενες χώρες που είναι αναδυόμενες, όπως η Ινδία και η Κίνα, που θεωρούν ότι βρίσκονται σε τροχιά ανάπτυξης και ότι είναι εις βάρος τους να δεσμευτούν να περιορίσουν τις εκπομπές τους. Η δε απαίτηση των βιομηχανικών χωρών (που είναι κυρίως υπεύθυνες για τις μεγαλύτερες εκπομπές αερίων του θερμοκηπίου παγκοσμίως) να αντιμετωπιστούν επί ίσοις όροις με τις αναπτυσσόμενες χώρες τους φαίνεται άδικη και παράλογη.\n",
    "\"\"\"\n",
    "print(text)"
   ]
  },
  {
   "cell_type": "code",
   "execution_count": 7,
   "metadata": {},
   "outputs": [
    {
     "data": {
      "text/plain": [
       "\"οκτώ 8 Παρασκευή 3 Νοεμβρίου 2018 Zuckeberg Ευρωπαϊκή Ένωση: αποτελείται από 27 μέλη, τα οποία συναντιούνται κατ' ιδίαν για να συμφωνήσουν σχετικά με τις κοινές θέσεις τους και αντιπροσωπεύεται από τη χώρα που έχει την προεδρία. Σημειώνεται ότι η Ευρωπαϊκή Ένωση είναι η πιο ενεργή ομάδα όσον αφορά στις διαπραγματεύσεις για την προστασία του περιβάλλοντος και πιέζει συνεχώς για τη λήψη αυστηρών μέτρων. Σημειώνεται ότι την περίοδο των διαπραγματεύσεων η Ευρωπαϊκή Ένωση αποτελούνταν από 15 κράτη μέλη, με αυτά όμως συμμάχησαν και τα 12 νέα μέλη της διεύρυνσης.«Λέσχη του Άνθρακα» (“Carbon Club”): περιλαμβάνει τις χώρες «JUSCANZ» (από τα αρχικά των χωρών Ιαπωνία, ΗΠΑ, Καναδάς, Αυστραλία, Νέα Ζηλανδία στα Αγγλικά), τις χώρες μέλη του ΟΠΕΚ, τη Ρωσία και τη Νορβηγία, στις οποίες γενικά τα συμφέροντά τους θίγονται από το Πρωτόκολλο του Κιότο (είτε επειδή θα πρέπει να μειώσουν την παραγωγή τους είτε επειδή προτείνεται η στροφή προς διαφορετικά καύσιμα) και κατά συνέπεια αντιτίθενται στην καθιέρωση των δικαιωμάτων και στη λήψη αυστηρών μέτρων.Συμμαχία των Μικρών Νησιωτικών Κρατών (AOSIS): είναι ένας συνασπισμός περίπου 43 μικρών νησιωτικών κρατών, τα οποία είναι ιδιαίτερα ευάλωτα στην άνοδο της στάθμης της θάλασσας. Τα κράτη αυτά κινδυνεύουν να εξαφανιστούν από το χάρτη εξαιτίας του μικρού τους υψομέτρου σε σχέση με το επίπεδο της θάλασσας και επομένως απειλείται άμεσα η ίδια τους η επιβίωση. Οι χώρες της ομάδας αυτής ήταν μάλιστα οι πρώτες που πρότειναν ένα σχέδιο κειμένου κατά τη διάρκεια των διαπραγματεύσεων του πρωτοκόλλου του Κιότο ζητώντας μία μείωση στις εκπομπές διοξειδίου του άνθρακα της τάξης του 20% έως το 2005 σε σχέση με τα επίπεδα του 1990.Λιγότερο αναπτυγμένες χώρες: πρόκειται για 48 χώρες, οι οποίες συμμετείχαν όλο και πιο ενεργά στη διαδικασία των διαπραγματεύσεων για την αλλαγή του κλίματος, συχνά για να υπερασπιστούν τα ιδιαίτερα συμφέροντά τους και την εύθραυστη οικονομία τους, όπως για παράδειγμα την παροχή μέτρων για να μπορέσουν να προσαρμοστούν στην αλλαγή του κλίματος και να μην είναι τόσο ευάλωτες.Ομάδα των 77 (G-77): πρόκειται για εκείνες τις αναπτυσσόμενες χώρες που είναι αναδυόμενες, όπως η Ινδία και η Κίνα, που θεωρούν ότι βρίσκονται σε τροχιά ανάπτυξης και ότι είναι εις βάρος τους να δεσμευτούν να περιορίσουν τις εκπομπές τους. Η δε απαίτηση των βιομηχανικών χωρών (που είναι κυρίως υπεύθυνες για τις μεγαλύτερες εκπομπές αερίων του θερμοκηπίου παγκοσμίως) να αντιμετωπιστούν επί ίσοις όροις με τις αναπτυσσόμενες χώρες τους φαίνεται άδικη και παράλογη.\""
      ]
     },
     "execution_count": 7,
     "metadata": {},
     "output_type": "execute_result"
    }
   ],
   "source": [
    "import re\n",
    "\n",
    "text = re.sub(r'\\n', '', text)\n",
    "text"
   ]
  },
  {
   "cell_type": "code",
   "execution_count": 3,
   "metadata": {},
   "outputs": [],
   "source": [
    "import spacy\n",
    "\n",
    "# nlp = spacy.load('en_core_web_sm')\n",
    "# text_nlp = nlp(text)\n",
    "import el_core_news_md\n",
    "nlp = el_core_news_md.load()"
   ]
  },
  {
   "cell_type": "code",
   "execution_count": 18,
   "metadata": {},
   "outputs": [
    {
     "ename": "SyntaxError",
     "evalue": "invalid syntax (<ipython-input-18-0bba0d738be7>, line 1)",
     "output_type": "error",
     "traceback": [
      "\u001b[1;36m  File \u001b[1;32m\"<ipython-input-18-0bba0d738be7>\"\u001b[1;36m, line \u001b[1;32m1\u001b[0m\n\u001b[1;33m    python -m spacy download el_core_news_sm\u001b[0m\n\u001b[1;37m                  ^\u001b[0m\n\u001b[1;31mSyntaxError\u001b[0m\u001b[1;31m:\u001b[0m invalid syntax\n"
     ]
    }
   ],
   "source": [
    "python -m spacy download el_core_news_sm\n",
    "\n",
    "import el_core_news_lg"
   ]
  },
  {
   "cell_type": "code",
   "execution_count": 13,
   "metadata": {},
   "outputs": [
    {
     "name": "stdout",
     "output_type": "stream",
     "text": [
      "Entity:Google, Label:ORG\n",
      "Entity:Καλιφόρνια, Label:GPE\n"
     ]
    }
   ],
   "source": [
    "text1 = '''Η εταιρεία Google έχει τα γραφεία της στην Καλιφόρνια.'''\n",
    "doc = nlp(text1)\n",
    "for ent in doc.ents:\n",
    "  print(\"Entity:{}, Label:{}\".format(ent.text, ent.label_))"
   ]
  },
  {
   "cell_type": "code",
   "execution_count": 8,
   "metadata": {},
   "outputs": [],
   "source": [
    "text_nlp = nlp(text)"
   ]
  },
  {
   "cell_type": "code",
   "execution_count": 9,
   "metadata": {},
   "outputs": [
    {
     "name": "stdout",
     "output_type": "stream",
     "text": [
      "[('οκτώ', ''), ('8', ''), ('Παρασκευή', ''), ('3', ''), ('Νοεμβρίου', ''), ('2018', ''), ('Zuckeberg', ''), ('Ευρωπαϊκή', 'ORG'), ('Ένωση', 'ORG'), (':', ''), ('αποτελείται', ''), ('από', ''), ('27', ''), ('μέλη', ''), (',', ''), ('τα', ''), ('οποία', ''), ('συναντιούνται', ''), (\"κατ'\", ''), ('ιδίαν', ''), ('για', ''), ('να', ''), ('συμφωνήσουν', ''), ('σχετικά', ''), ('με', ''), ('τις', ''), ('κοινές', ''), ('θέσεις', ''), ('τους', ''), ('και', ''), ('αντιπροσωπεύεται', ''), ('από', ''), ('τη', ''), ('χώρα', ''), ('που', ''), ('έχει', ''), ('την', ''), ('προεδρία', ''), ('.', ''), ('Σημειώνεται', ''), ('ότι', ''), ('η', ''), ('Ευρωπαϊκή', 'ORG'), ('Ένωση', 'ORG'), ('είναι', ''), ('η', ''), ('πιο', ''), ('ενεργή', ''), ('ομάδα', ''), ('όσον', ''), ('αφορά', ''), ('στις', ''), ('διαπραγματεύσεις', ''), ('για', ''), ('την', ''), ('προστασία', ''), ('του', ''), ('περιβάλλοντος', ''), ('και', ''), ('πιέζει', ''), ('συνεχώς', ''), ('για', ''), ('τη', ''), ('λήψη', ''), ('αυστηρών', ''), ('μέτρων', ''), ('.', ''), ('Σημειώνεται', ''), ('ότι', ''), ('την', ''), ('περίοδο', ''), ('των', ''), ('διαπραγματεύσεων', ''), ('η', ''), ('Ευρωπαϊκή', 'ORG'), ('Ένωση', 'ORG'), ('αποτελούνταν', ''), ('από', ''), ('15', ''), ('κράτη', ''), ('μέλη', ''), (',', ''), ('με', ''), ('αυτά', ''), ('όμως', ''), ('συμμάχησαν', ''), ('και', ''), ('τα', ''), ('12', ''), ('νέα', ''), ('μέλη', ''), ('της', ''), ('διεύρυνσης.«Λέσχη', ''), ('του', ''), ('Άνθρακα', ''), ('»', ''), ('(', ''), ('“', ''), ('Carbon', 'EVENT'), ('Club', 'EVENT'), ('”', ''), (')', ''), (':', ''), ('περιλαμβάνει', ''), ('τις', ''), ('χώρες', ''), ('«', ''), ('JUSCANZ', 'ORG'), ('»', ''), ('(', ''), ('από', ''), ('τα', ''), ('αρχικά', ''), ('των', ''), ('χωρών', ''), ('Ιαπωνία', 'GPE'), (',', ''), ('ΗΠΑ', 'GPE'), (',', ''), ('Καναδάς', 'GPE'), (',', ''), ('Αυστραλία', 'GPE'), (',', ''), ('Νέα', 'GPE'), ('Ζηλανδία', 'GPE'), ('στα', ''), ('Αγγλικά', ''), (')', ''), (',', ''), ('τις', ''), ('χώρες', ''), ('μέλη', ''), ('του', ''), ('ΟΠΕΚ', 'ORG'), (',', ''), ('τη', ''), ('Ρωσία', 'GPE'), ('και', ''), ('τη', ''), ('Νορβηγία', 'GPE'), (',', ''), ('στις', ''), ('οποίες', ''), ('γενικά', ''), ('τα', ''), ('συμφέροντά', ''), ('τους', ''), ('θίγονται', ''), ('από', ''), ('το', ''), ('Πρωτόκολλο', 'ORG'), ('του', 'ORG'), ('Κιότο', 'ORG'), ('(', ''), ('είτε', ''), ('επειδή', ''), ('θα', ''), ('πρέπει', ''), ('να', ''), ('μειώσουν', ''), ('την', ''), ('παραγωγή', ''), ('τους', ''), ('είτε', ''), ('επειδή', ''), ('προτείνεται', ''), ('η', ''), ('στροφή', ''), ('προς', ''), ('διαφορετικά', ''), ('καύσιμα', ''), (')', ''), ('και', ''), ('κατά', ''), ('συνέπεια', ''), ('αντιτίθενται', ''), ('στην', ''), ('καθιέρωση', ''), ('των', ''), ('δικαιωμάτων', ''), ('και', ''), ('στη', ''), ('λήψη', ''), ('αυστηρών', ''), ('μέτρων', ''), ('.', ''), ('Συμμαχία', ''), ('των', ''), ('Μικρών', ''), ('Νησιωτικών', 'ORG'), ('Κρατών', 'ORG'), ('(', ''), ('AOSIS', 'PRODUCT'), (')', ''), (':', ''), ('είναι', ''), ('ένας', ''), ('συνασπισμός', ''), ('περίπου', ''), ('43', ''), ('μικρών', ''), ('νησιωτικών', ''), ('κρατών', ''), (',', ''), ('τα', ''), ('οποία', ''), ('είναι', ''), ('ιδιαίτερα', ''), ('ευάλωτα', ''), ('στην', ''), ('άνοδο', ''), ('της', ''), ('στάθμης', ''), ('της', ''), ('θάλασσας', ''), ('.', ''), ('Τα', ''), ('κράτη', ''), ('αυτά', ''), ('κινδυνεύουν', ''), ('να', ''), ('εξαφανιστούν', ''), ('από', ''), ('το', ''), ('χάρτη', ''), ('εξαιτίας', ''), ('του', ''), ('μικρού', ''), ('τους', ''), ('υψομέτρου', ''), ('σε', ''), ('σχέση', ''), ('με', ''), ('το', ''), ('επίπεδο', ''), ('της', ''), ('θάλασσας', ''), ('και', ''), ('επομένως', ''), ('απειλείται', ''), ('άμεσα', ''), ('η', ''), ('ίδια', ''), ('τους', ''), ('η', ''), ('επιβίωση', ''), ('.', ''), ('Οι', ''), ('χώρες', ''), ('της', ''), ('ομάδας', ''), ('αυτής', ''), ('ήταν', ''), ('μάλιστα', ''), ('οι', ''), ('πρώτες', ''), ('που', ''), ('πρότειναν', ''), ('ένα', ''), ('σχέδιο', ''), ('κειμένου', ''), ('κατά', ''), ('τη', ''), ('διάρκεια', ''), ('των', ''), ('διαπραγματεύσεων', ''), ('του', ''), ('πρωτοκόλλου', ''), ('του', ''), ('Κιότο', 'GPE'), ('ζητώντας', ''), ('μία', ''), ('μείωση', ''), ('στις', ''), ('εκπομπές', ''), ('διοξειδίου', ''), ('του', ''), ('άνθρακα', ''), ('της', ''), ('τάξης', ''), ('του', ''), ('20%', ''), ('έως', ''), ('το', ''), ('2005', ''), ('σε', ''), ('σχέση', ''), ('με', ''), ('τα', ''), ('επίπεδα', ''), ('του', ''), ('1990.Λιγότερο', ''), ('αναπτυγμένες', ''), ('χώρες', ''), (':', ''), ('πρόκειται', ''), ('για', ''), ('48', ''), ('χώρες', ''), (',', ''), ('οι', ''), ('οποίες', ''), ('συμμετείχαν', ''), ('όλο', ''), ('και', ''), ('πιο', ''), ('ενεργά', ''), ('στη', ''), ('διαδικασία', ''), ('των', ''), ('διαπραγματεύσεων', ''), ('για', ''), ('την', ''), ('αλλαγή', ''), ('του', ''), ('κλίματος', ''), (',', ''), ('συχνά', ''), ('για', ''), ('να', ''), ('υπερασπιστούν', ''), ('τα', ''), ('ιδιαίτερα', ''), ('συμφέροντά', ''), ('τους', ''), ('και', ''), ('την', ''), ('εύθραυστη', ''), ('οικονομία', ''), ('τους', ''), (',', ''), ('όπως', ''), ('για', ''), ('παράδειγμα', ''), ('την', ''), ('παροχή', ''), ('μέτρων', ''), ('για', ''), ('να', ''), ('μπορέσουν', ''), ('να', ''), ('προσαρμοστούν', ''), ('στην', ''), ('αλλαγή', ''), ('του', ''), ('κλίματος', ''), ('και', ''), ('να', ''), ('μην', ''), ('είναι', ''), ('τόσο', ''), ('ευάλωτες', ''), ('.', ''), ('Ομάδα', ''), ('των', ''), ('77', ''), ('(', ''), ('G-77', ''), (')', ''), (':', ''), ('πρόκειται', ''), ('για', ''), ('εκείνες', ''), ('τις', ''), ('αναπτυσσόμενες', ''), ('χώρες', ''), ('που', ''), ('είναι', ''), ('αναδυόμενες', ''), (',', ''), ('όπως', ''), ('η', ''), ('Ινδία', 'GPE'), ('και', ''), ('η', ''), ('Κίνα', 'GPE'), (',', ''), ('που', ''), ('θεωρούν', ''), ('ότι', ''), ('βρίσκονται', ''), ('σε', ''), ('τροχιά', ''), ('ανάπτυξης', ''), ('και', ''), ('ότι', ''), ('είναι', ''), ('εις', ''), ('βάρος', ''), ('τους', ''), ('να', ''), ('δεσμευτούν', ''), ('να', ''), ('περιορίσουν', ''), ('τις', ''), ('εκπομπές', ''), ('τους', ''), ('.', ''), ('Η', ''), ('δε', ''), ('απαίτηση', ''), ('των', ''), ('βιομηχανικών', ''), ('χωρών', ''), ('(', ''), ('που', ''), ('είναι', ''), ('κυρίως', ''), ('υπεύθυνες', ''), ('για', ''), ('τις', ''), ('μεγαλύτερες', ''), ('εκπομπές', ''), ('αερίων', ''), ('του', ''), ('θερμοκηπίου', ''), ('παγκοσμίως', ''), (')', ''), ('να', ''), ('αντιμετωπιστούν', ''), ('επί', ''), ('ίσοις', ''), ('όροις', ''), ('με', ''), ('τις', ''), ('αναπτυσσόμενες', ''), ('χώρες', ''), ('τους', ''), ('φαίνεται', ''), ('άδικη', ''), ('και', ''), ('παράλογη', ''), ('.', '')]\n"
     ]
    }
   ],
   "source": [
    "# print named entities in article\n",
    "ner_tagged = [(word.text, word.ent_type_) for word in text_nlp]\n",
    "print(ner_tagged)"
   ]
  },
  {
   "cell_type": "code",
   "execution_count": 5,
   "metadata": {},
   "outputs": [
    {
     "data": {
      "text/html": [
       "<span class=\"tex2jax_ignore\"><div class=\"entities\" style=\"line-height: 2.5; direction: ltr\">Ευρωπαϊκή Ένωση: αποτελείται από 27 μέλη, τα οποία συναντιούνται κατ' ιδίαν για να συμφωνήσουν σχετικά με τις κοινές θέσεις τους και αντιπροσωπεύεται από τη χώρα που έχει την προεδρία. Σημειώνεται ότι η \n",
       "<mark class=\"entity\" style=\"background: #7aecec; padding: 0.45em 0.6em; margin: 0 0.25em; line-height: 1; border-radius: 0.35em;\">\n",
       "    Ευρωπαϊκή Ένωση\n",
       "    <span style=\"font-size: 0.8em; font-weight: bold; line-height: 1; border-radius: 0.35em; text-transform: uppercase; vertical-align: middle; margin-left: 0.5rem\">ORG</span>\n",
       "</mark>\n",
       " είναι η πιο ενεργή ομάδα όσον αφορά στις διαπραγματεύσεις για την προστασία του περιβάλλοντος και πιέζει συνεχώς για τη λήψη αυστηρών μέτρων. Σημειώνεται ότι την περίοδο των διαπραγματεύσεων η \n",
       "<mark class=\"entity\" style=\"background: #7aecec; padding: 0.45em 0.6em; margin: 0 0.25em; line-height: 1; border-radius: 0.35em;\">\n",
       "    Ευρωπαϊκή Ένωση\n",
       "    <span style=\"font-size: 0.8em; font-weight: bold; line-height: 1; border-radius: 0.35em; text-transform: uppercase; vertical-align: middle; margin-left: 0.5rem\">ORG</span>\n",
       "</mark>\n",
       " αποτελούνταν από 15 κράτη μέλη, με αυτά όμως συμμάχησαν και τα 12 νέα μέλη της διεύρυνσης.«Λέσχη του Άνθρακα» (“\n",
       "<mark class=\"entity\" style=\"background: #ffeb80; padding: 0.45em 0.6em; margin: 0 0.25em; line-height: 1; border-radius: 0.35em;\">\n",
       "    Carbon Club\n",
       "    <span style=\"font-size: 0.8em; font-weight: bold; line-height: 1; border-radius: 0.35em; text-transform: uppercase; vertical-align: middle; margin-left: 0.5rem\">EVENT</span>\n",
       "</mark>\n",
       "”): περιλαμβάνει τις χώρες «\n",
       "<mark class=\"entity\" style=\"background: #7aecec; padding: 0.45em 0.6em; margin: 0 0.25em; line-height: 1; border-radius: 0.35em;\">\n",
       "    JUSCANZ\n",
       "    <span style=\"font-size: 0.8em; font-weight: bold; line-height: 1; border-radius: 0.35em; text-transform: uppercase; vertical-align: middle; margin-left: 0.5rem\">ORG</span>\n",
       "</mark>\n",
       "» (από τα αρχικά των χωρών \n",
       "<mark class=\"entity\" style=\"background: #feca74; padding: 0.45em 0.6em; margin: 0 0.25em; line-height: 1; border-radius: 0.35em;\">\n",
       "    Ιαπωνία\n",
       "    <span style=\"font-size: 0.8em; font-weight: bold; line-height: 1; border-radius: 0.35em; text-transform: uppercase; vertical-align: middle; margin-left: 0.5rem\">GPE</span>\n",
       "</mark>\n",
       ", \n",
       "<mark class=\"entity\" style=\"background: #feca74; padding: 0.45em 0.6em; margin: 0 0.25em; line-height: 1; border-radius: 0.35em;\">\n",
       "    ΗΠΑ\n",
       "    <span style=\"font-size: 0.8em; font-weight: bold; line-height: 1; border-radius: 0.35em; text-transform: uppercase; vertical-align: middle; margin-left: 0.5rem\">GPE</span>\n",
       "</mark>\n",
       ", \n",
       "<mark class=\"entity\" style=\"background: #feca74; padding: 0.45em 0.6em; margin: 0 0.25em; line-height: 1; border-radius: 0.35em;\">\n",
       "    Καναδάς\n",
       "    <span style=\"font-size: 0.8em; font-weight: bold; line-height: 1; border-radius: 0.35em; text-transform: uppercase; vertical-align: middle; margin-left: 0.5rem\">GPE</span>\n",
       "</mark>\n",
       ", \n",
       "<mark class=\"entity\" style=\"background: #feca74; padding: 0.45em 0.6em; margin: 0 0.25em; line-height: 1; border-radius: 0.35em;\">\n",
       "    Αυστραλία\n",
       "    <span style=\"font-size: 0.8em; font-weight: bold; line-height: 1; border-radius: 0.35em; text-transform: uppercase; vertical-align: middle; margin-left: 0.5rem\">GPE</span>\n",
       "</mark>\n",
       ", \n",
       "<mark class=\"entity\" style=\"background: #feca74; padding: 0.45em 0.6em; margin: 0 0.25em; line-height: 1; border-radius: 0.35em;\">\n",
       "    Νέα Ζηλανδία\n",
       "    <span style=\"font-size: 0.8em; font-weight: bold; line-height: 1; border-radius: 0.35em; text-transform: uppercase; vertical-align: middle; margin-left: 0.5rem\">GPE</span>\n",
       "</mark>\n",
       " στα Αγγλικά), τις χώρες μέλη του \n",
       "<mark class=\"entity\" style=\"background: #7aecec; padding: 0.45em 0.6em; margin: 0 0.25em; line-height: 1; border-radius: 0.35em;\">\n",
       "    ΟΠΕΚ\n",
       "    <span style=\"font-size: 0.8em; font-weight: bold; line-height: 1; border-radius: 0.35em; text-transform: uppercase; vertical-align: middle; margin-left: 0.5rem\">ORG</span>\n",
       "</mark>\n",
       ", τη \n",
       "<mark class=\"entity\" style=\"background: #feca74; padding: 0.45em 0.6em; margin: 0 0.25em; line-height: 1; border-radius: 0.35em;\">\n",
       "    Ρωσία\n",
       "    <span style=\"font-size: 0.8em; font-weight: bold; line-height: 1; border-radius: 0.35em; text-transform: uppercase; vertical-align: middle; margin-left: 0.5rem\">GPE</span>\n",
       "</mark>\n",
       " και τη \n",
       "<mark class=\"entity\" style=\"background: #feca74; padding: 0.45em 0.6em; margin: 0 0.25em; line-height: 1; border-radius: 0.35em;\">\n",
       "    Νορβηγία\n",
       "    <span style=\"font-size: 0.8em; font-weight: bold; line-height: 1; border-radius: 0.35em; text-transform: uppercase; vertical-align: middle; margin-left: 0.5rem\">GPE</span>\n",
       "</mark>\n",
       ", στις οποίες γενικά τα συμφέροντά τους θίγονται από το \n",
       "<mark class=\"entity\" style=\"background: #7aecec; padding: 0.45em 0.6em; margin: 0 0.25em; line-height: 1; border-radius: 0.35em;\">\n",
       "    Πρωτόκολλο του Κιότο\n",
       "    <span style=\"font-size: 0.8em; font-weight: bold; line-height: 1; border-radius: 0.35em; text-transform: uppercase; vertical-align: middle; margin-left: 0.5rem\">ORG</span>\n",
       "</mark>\n",
       " (είτε επειδή θα πρέπει να μειώσουν την παραγωγή τους είτε επειδή προτείνεται η στροφή προς διαφορετικά καύσιμα) και κατά συνέπεια αντιτίθενται στην καθιέρωση των δικαιωμάτων και στη λήψη αυστηρών μέτρων.Συμμαχία των Μικρών \n",
       "<mark class=\"entity\" style=\"background: #7aecec; padding: 0.45em 0.6em; margin: 0 0.25em; line-height: 1; border-radius: 0.35em;\">\n",
       "    Νησιωτικών Κρατών\n",
       "    <span style=\"font-size: 0.8em; font-weight: bold; line-height: 1; border-radius: 0.35em; text-transform: uppercase; vertical-align: middle; margin-left: 0.5rem\">ORG</span>\n",
       "</mark>\n",
       " (\n",
       "<mark class=\"entity\" style=\"background: #bfeeb7; padding: 0.45em 0.6em; margin: 0 0.25em; line-height: 1; border-radius: 0.35em;\">\n",
       "    AOSIS\n",
       "    <span style=\"font-size: 0.8em; font-weight: bold; line-height: 1; border-radius: 0.35em; text-transform: uppercase; vertical-align: middle; margin-left: 0.5rem\">PRODUCT</span>\n",
       "</mark>\n",
       "): είναι ένας συνασπισμός περίπου 43 μικρών νησιωτικών κρατών, τα οποία είναι ιδιαίτερα ευάλωτα στην άνοδο της στάθμης της θάλασσας. Τα κράτη αυτά κινδυνεύουν να εξαφανιστούν από το χάρτη εξαιτίας του μικρού τους υψομέτρου σε σχέση με το επίπεδο της θάλασσας και επομένως απειλείται άμεσα η ίδια τους η επιβίωση. Οι χώρες της ομάδας αυτής ήταν μάλιστα οι πρώτες που πρότειναν ένα σχέδιο κειμένου κατά τη διάρκεια των διαπραγματεύσεων του πρωτοκόλλου του \n",
       "<mark class=\"entity\" style=\"background: #feca74; padding: 0.45em 0.6em; margin: 0 0.25em; line-height: 1; border-radius: 0.35em;\">\n",
       "    Κιότο\n",
       "    <span style=\"font-size: 0.8em; font-weight: bold; line-height: 1; border-radius: 0.35em; text-transform: uppercase; vertical-align: middle; margin-left: 0.5rem\">GPE</span>\n",
       "</mark>\n",
       " ζητώντας μία μείωση στις εκπομπές διοξειδίου του άνθρακα της τάξης του 20% έως το 2005 σε σχέση με τα επίπεδα του 1990.Λιγότερο αναπτυγμένες χώρες: πρόκειται για 48 χώρες, οι οποίες συμμετείχαν όλο και πιο ενεργά στη διαδικασία των διαπραγματεύσεων για την αλλαγή του κλίματος, συχνά για να υπερασπιστούν τα ιδιαίτερα συμφέροντά τους και την εύθραυστη οικονομία τους, όπως για παράδειγμα την παροχή μέτρων για να μπορέσουν να προσαρμοστούν στην αλλαγή του κλίματος και να μην είναι τόσο ευάλωτες.Ομάδα των 77 (G-77): πρόκειται για εκείνες τις αναπτυσσόμενες χώρες που είναι αναδυόμενες, όπως η \n",
       "<mark class=\"entity\" style=\"background: #feca74; padding: 0.45em 0.6em; margin: 0 0.25em; line-height: 1; border-radius: 0.35em;\">\n",
       "    Ινδία\n",
       "    <span style=\"font-size: 0.8em; font-weight: bold; line-height: 1; border-radius: 0.35em; text-transform: uppercase; vertical-align: middle; margin-left: 0.5rem\">GPE</span>\n",
       "</mark>\n",
       " και η \n",
       "<mark class=\"entity\" style=\"background: #feca74; padding: 0.45em 0.6em; margin: 0 0.25em; line-height: 1; border-radius: 0.35em;\">\n",
       "    Κίνα\n",
       "    <span style=\"font-size: 0.8em; font-weight: bold; line-height: 1; border-radius: 0.35em; text-transform: uppercase; vertical-align: middle; margin-left: 0.5rem\">GPE</span>\n",
       "</mark>\n",
       ", που θεωρούν ότι βρίσκονται σε τροχιά ανάπτυξης και ότι είναι εις βάρος τους να δεσμευτούν να περιορίσουν τις εκπομπές τους. Η δε απαίτηση των βιομηχανικών χωρών (που είναι κυρίως υπεύθυνες για τις μεγαλύτερες εκπομπές αερίων του θερμοκηπίου παγκοσμίως) να αντιμετωπιστούν επί ίσοις όροις με τις αναπτυσσόμενες χώρες τους φαίνεται άδικη και παράλογη.</div></span>"
      ],
      "text/plain": [
       "<IPython.core.display.HTML object>"
      ]
     },
     "metadata": {},
     "output_type": "display_data"
    }
   ],
   "source": [
    "from spacy import displacy\n",
    "\n",
    "# visualize named entities\n",
    "displacy.render(text_nlp, style='ent', jupyter=True)\n",
    "# Named entities tagged by spaCy"
   ]
  },
  {
   "cell_type": "markdown",
   "metadata": {},
   "source": [
    "Spacy offers fast NER tagger based on a number of techniques. The exact algorithm hasn't been talked about in much detail but the documentation marks it as <font color=blue> \"The exact algorithm is a pastiche of well-known methods, and is not currently described in any single publication \" </font>\n",
    "\n",
    "The entities identified by spacy NER tagger are as shown in the following table \\(details here: [spacy_documentation](https://spacy.io/api/annotation#named-entities)\\)\n",
    "\n",
    "![](spacy_ner.png)"
   ]
  },
  {
   "cell_type": "code",
   "execution_count": 10,
   "metadata": {},
   "outputs": [],
   "source": [
    "named_entities = []\n",
    "temp_entity_name = ''\n",
    "temp_named_entity = None\n",
    "for term, tag in ner_tagged:\n",
    "    if tag:\n",
    "        temp_entity_name = ' '.join([temp_entity_name, term]).strip()\n",
    "        temp_named_entity = (temp_entity_name, tag)\n",
    "    else:\n",
    "        if temp_named_entity:\n",
    "            named_entities.append(temp_named_entity)\n",
    "            temp_entity_name = ''\n",
    "            temp_named_entity = None"
   ]
  },
  {
   "cell_type": "code",
   "execution_count": 11,
   "metadata": {},
   "outputs": [
    {
     "name": "stdout",
     "output_type": "stream",
     "text": [
      "[('Ευρωπαϊκή Ένωση', 'ORG'), ('Ευρωπαϊκή Ένωση', 'ORG'), ('Ευρωπαϊκή Ένωση', 'ORG'), ('Carbon Club', 'EVENT'), ('JUSCANZ', 'ORG'), ('Ιαπωνία', 'GPE'), ('ΗΠΑ', 'GPE'), ('Καναδάς', 'GPE'), ('Αυστραλία', 'GPE'), ('Νέα Ζηλανδία', 'GPE'), ('ΟΠΕΚ', 'ORG'), ('Ρωσία', 'GPE'), ('Νορβηγία', 'GPE'), ('Πρωτόκολλο του Κιότο', 'ORG'), ('Νησιωτικών Κρατών', 'ORG'), ('AOSIS', 'PRODUCT'), ('Κιότο', 'GPE'), ('Ινδία', 'GPE'), ('Κίνα', 'GPE')]\n"
     ]
    }
   ],
   "source": [
    "print(named_entities)"
   ]
  },
  {
   "cell_type": "code",
   "execution_count": 12,
   "metadata": {},
   "outputs": [
    {
     "data": {
      "text/plain": [
       "[('GPE', 10), ('ORG', 7), ('EVENT', 1), ('PRODUCT', 1)]"
      ]
     },
     "execution_count": 12,
     "metadata": {},
     "output_type": "execute_result"
    }
   ],
   "source": [
    "# viewing the top entity types\n",
    "from collections import Counter\n",
    "c = Counter([item[1] for item in named_entities])\n",
    "c.most_common()"
   ]
  },
  {
   "cell_type": "markdown",
   "metadata": {},
   "source": [
    "# NER with Stanford NLP\n",
    "\n",
    "Stanford’s Named Entity Recognizer is based on an implementation of linear chain __Conditional Random Field (CRF)__ sequence models. \n",
    "\n",
    "__Prerequisites:__ Download the official Stanford NER Tagger from [here](http://nlp.stanford.edu/software/stanford-ner-2014-08-27.zip), which seems to work quite well. You can try out a later version by going to [this website](https://nlp.stanford.edu/software/CRF-NER.shtml#Download)\n",
    "\n",
    "This model is only trained on instances of _PERSON, ORGANIZATION and LOCATION_ types. The model is exposed through ```nltk``` wrappers."
   ]
  },
  {
   "cell_type": "code",
   "execution_count": 11,
   "metadata": {},
   "outputs": [
    {
     "data": {
      "text/plain": [
       "<nltk.tag.stanford.StanfordNERTagger at 0x205a9ded0b8>"
      ]
     },
     "execution_count": 11,
     "metadata": {},
     "output_type": "execute_result"
    }
   ],
   "source": [
    "import os\n",
    "from nltk.tag import StanfordNERTagger\n",
    "\n",
    "JAVA_PATH = r'C:\\Program Files\\Java\\jre1.8.0_192\\bin\\java.exe'\n",
    "os.environ['JAVAHOME'] = JAVA_PATH\n",
    "\n",
    "STANFORD_CLASSIFIER_PATH = 'E:/stanford/stanford-ner-2014-08-27/classifiers/english.all.3class.distsim.crf.ser.gz'\n",
    "STANFORD_NER_JAR_PATH = 'E:/stanford/stanford-ner-2014-08-27/stanford-ner.jar'\n",
    "\n",
    "sn = StanfordNERTagger(STANFORD_CLASSIFIER_PATH,\n",
    "                       path_to_jar=STANFORD_NER_JAR_PATH)\n",
    "sn"
   ]
  },
  {
   "cell_type": "code",
   "execution_count": 12,
   "metadata": {},
   "outputs": [
    {
     "name": "stdout",
     "output_type": "stream",
     "text": [
      "[('Three', 'O'), ('more', 'O'), ('countries', 'O'), ('have', 'O'), ('joined', 'O'), ('an', 'O'), ('international', 'O'), ('grand', 'O'), ('committee', 'O'), ('of', 'O'), ('parliaments,', 'O'), ('adding', 'O'), ('to', 'O'), ('calls', 'O'), ('for', 'O'), ('Facebooks', 'ORGANIZATION'), ('boss,', 'O'), ('Mark', 'O'), ('Zuckerberg,', 'O'), ('to', 'O'), ('give', 'O'), ('evidence', 'O'), ('on', 'O'), ('misinformation', 'O'), ('to', 'O'), ('the', 'O'), ('coalition.', 'O'), ('Brazil,', 'O'), ('Latvia', 'LOCATION'), ('and', 'O'), ('Singapore', 'LOCATION'), ('bring', 'O'), ('the', 'O'), ('total', 'O'), ('to', 'O'), ('eight', 'O'), ('different', 'O'), ('parliaments', 'O'), ('across', 'O'), ('the', 'O'), ('world,', 'O'), ('with', 'O'), ('plans', 'O'), ('to', 'O'), ('send', 'O'), ('representatives', 'O'), ('to', 'O'), ('London', 'LOCATION'), ('on', 'O'), ('27', 'O'), ('November', 'O'), ('with', 'O'), ('the', 'O'), ('intention', 'O'), ('of', 'O'), ('hearing', 'O'), ('from', 'O'), ('Zuckerberg.', 'O'), ('Since', 'O'), ('the', 'O'), ('Cambridge', 'ORGANIZATION'), ('Analytica', 'ORGANIZATION'), ('scandal', 'O'), ('broke,', 'O'), ('the', 'O'), ('Facebook', 'ORGANIZATION'), ('chief', 'O'), ('has', 'O'), ('only', 'O'), ('appeared', 'O'), ('in', 'O'), ('front', 'O'), ('of', 'O'), ('two', 'O'), ('legislatures:', 'O'), ('the', 'O'), ('American', 'O'), ('Senate', 'ORGANIZATION'), ('and', 'O'), ('House', 'O'), ('of', 'O'), ('Representatives,', 'O'), ('and', 'O'), ('the', 'O'), ('European', 'O'), ('parliament.', 'O'), ('Facebook', 'ORGANIZATION'), ('has', 'O'), ('consistently', 'O'), ('rebuffed', 'O'), ('attempts', 'O'), ('from', 'O'), ('others,', 'O'), ('including', 'O'), ('the', 'O'), ('UK', 'LOCATION'), ('and', 'O'), ('Canadian', 'O'), ('parliaments,', 'O'), ('to', 'O'), ('hear', 'O'), ('from', 'O'), ('Zuckerberg.', 'O'), ('He', 'O'), ('added', 'O'), ('that', 'O'), ('an', 'O'), ('article', 'O'), ('in', 'O'), ('the', 'O'), ('New', 'ORGANIZATION'), ('York', 'ORGANIZATION'), ('Times', 'ORGANIZATION'), ('on', 'O'), ('Thursday,', 'O'), ('in', 'O'), ('which', 'O'), ('the', 'O'), ('paper', 'O'), ('alleged', 'O'), ('a', 'O'), ('pattern', 'O'), ('of', 'O'), ('behaviour', 'O'), ('from', 'O'), ('Facebook', 'ORGANIZATION'), ('to', 'O'), ('delay,', 'O'), ('deny', 'O'), ('and', 'O'), ('deflect', 'O'), ('negative', 'O'), ('news', 'O'), ('stories,', 'O'), ('raises', 'O'), ('further', 'O'), ('questions', 'O'), ('about', 'O'), ('how', 'O'), ('recent', 'O'), ('data', 'O'), ('breaches', 'O'), ('were', 'O'), ('allegedly', 'O'), ('dealt', 'O'), ('with', 'O'), ('within', 'O'), ('Facebook.', 'O')]\n"
     ]
    }
   ],
   "source": [
    "text_enc = text.encode('ascii', errors='ignore').decode('utf-8')\n",
    "ner_tagged = sn.tag(text_enc.split())\n",
    "print(ner_tagged)"
   ]
  },
  {
   "cell_type": "code",
   "execution_count": 13,
   "metadata": {},
   "outputs": [],
   "source": [
    "named_entities = []\n",
    "temp_entity_name = ''\n",
    "temp_named_entity = None\n",
    "for term, tag in ner_tagged:\n",
    "    if tag != 'O':\n",
    "        temp_entity_name = ' '.join([temp_entity_name, term]).strip()\n",
    "        temp_named_entity = (temp_entity_name, tag)\n",
    "    else:\n",
    "        if temp_named_entity:\n",
    "            named_entities.append(temp_named_entity)\n",
    "            temp_entity_name = ''\n",
    "            temp_named_entity = None"
   ]
  },
  {
   "cell_type": "code",
   "execution_count": 14,
   "metadata": {},
   "outputs": [
    {
     "name": "stdout",
     "output_type": "stream",
     "text": [
      "[('Facebooks', 'ORGANIZATION'), ('Latvia', 'LOCATION'), ('Singapore', 'LOCATION'), ('London', 'LOCATION'), ('Cambridge Analytica', 'ORGANIZATION'), ('Facebook', 'ORGANIZATION'), ('Senate', 'ORGANIZATION'), ('Facebook', 'ORGANIZATION'), ('UK', 'LOCATION'), ('New York Times', 'ORGANIZATION'), ('Facebook', 'ORGANIZATION')]\n"
     ]
    }
   ],
   "source": [
    "print(named_entities)"
   ]
  },
  {
   "cell_type": "code",
   "execution_count": 15,
   "metadata": {},
   "outputs": [
    {
     "data": {
      "text/plain": [
       "[('ORGANIZATION', 7), ('LOCATION', 4)]"
      ]
     },
     "execution_count": 15,
     "metadata": {},
     "output_type": "execute_result"
    }
   ],
   "source": [
    "c = Counter([item[1] for item in named_entities])\n",
    "c.most_common()"
   ]
  },
  {
   "cell_type": "markdown",
   "metadata": {},
   "source": [
    "# NER with Stanford CoreNLP\n",
    "\n",
    "NLTK is slowly deprecating the old Stanford Parsers in favor of the more active Stanford Core NLP Project. It might even get removed after `nltk` version `3.4` so best to stay updated.\n",
    "\n",
    "Details: https://github.com/nltk/nltk/issues/1839\n",
    "\n",
    "Step by Step Tutorial here: https://github.com/nltk/nltk/wiki/Stanford-CoreNLP-API-in-NLTK\n",
    "\n",
    "Sadly a lot of things have changed in the process so we need to do some extra effort to make it work!\n",
    "\n",
    "Get CoreNLP from [here](https://stanfordnlp.github.io/CoreNLP/)\n",
    "\n",
    "After you download, go to the folder and spin up a terminal and start the Core NLP Server locally\n",
    "\n",
    "```\n",
    "E:\\> java -mx4g -cp \"*\" edu.stanford.nlp.pipeline.StanfordCoreNLPServer -preload tokenize,ssplit,pos,lemma,ner,parse,depparse -status_port 9000 -port 9000 -timeout 15000\n",
    "```\n",
    "\n",
    "If it runs successfully you should see the following messages on the terminal\n",
    "\n",
    "```\n",
    "E:\\stanford\\stanford-corenlp-full-2018-02-27>java -mx4g -cp \"*\" edu.stanford.nlp.pipeline.StanfordCoreNLPServer -preload tokenize,ssplit,pos,lemma,ner,parse,depparse -status_port 9000 -port 9000 -timeout 15000\n",
    "[main] INFO CoreNLP - --- StanfordCoreNLPServer#main() called ---\n",
    "[main] INFO CoreNLP - setting default constituency parser\n",
    "[main] INFO CoreNLP - warning: cannot find edu/stanford/nlp/models/srparser/englishSR.ser.gz\n",
    "[main] INFO CoreNLP - using: edu/stanford/nlp/models/lexparser/englishPCFG.ser.gz instead\n",
    "[main] INFO CoreNLP - to use shift reduce parser download English models jar from:\n",
    "[main] INFO CoreNLP - http://stanfordnlp.github.io/CoreNLP/download.html\n",
    "[main] INFO CoreNLP -     Threads: 4\n",
    "[main] INFO edu.stanford.nlp.pipeline.StanfordCoreNLP - Adding annotator tokenize\n",
    "[main] INFO edu.stanford.nlp.pipeline.TokenizerAnnotator - No tokenizer type provided. Defaulting to PTBTokenizer.\n",
    "[main] INFO edu.stanford.nlp.pipeline.StanfordCoreNLP - Adding annotator ssplit\n",
    "[main] INFO edu.stanford.nlp.pipeline.StanfordCoreNLP - Adding annotator pos\n",
    "[main] INFO edu.stanford.nlp.tagger.maxent.MaxentTagger - Loading POS tagger from edu/stanford/nlp/models/pos-tagger/english-left3words/english-left3words-distsim.tagger ... done [1.4 sec].\n",
    "[main] INFO edu.stanford.nlp.pipeline.StanfordCoreNLP - Adding annotator lemma\n",
    "[main] INFO edu.stanford.nlp.pipeline.StanfordCoreNLP - Adding annotator ner\n",
    "[main] INFO edu.stanford.nlp.ie.AbstractSequenceClassifier - Loading classifier from edu/stanford/nlp/models/ner/english.all.3class.distsim.crf.ser.gz ... done [1.9 sec].\n",
    "[main] INFO edu.stanford.nlp.ie.AbstractSequenceClassifier - Loading classifier from edu/stanford/nlp/models/ner/english.muc.7class.distsim.crf.ser.gz ... done [2.0 sec].\n",
    "[main] INFO edu.stanford.nlp.ie.AbstractSequenceClassifier - Loading classifier from edu/stanford/nlp/models/ner/english.conll.4class.distsim.crf.ser.gz ... done [0.8 sec].\n",
    "[main] INFO edu.stanford.nlp.time.JollyDayHolidays - Initializing JollyDayHoliday for SUTime from classpath edu/stanford/nlp/models/sutime/jollyday/Holidays_sutime.xml as sutime.binder.1.\n",
    "[main] INFO edu.stanford.nlp.time.TimeExpressionExtractorImpl - Using following SUTime rules: edu/stanford/nlp/models/sutime/defs.sutime.txt,edu/stanford/nlp/models/sutime/english.sutime.txt,edu/stanford/nlp/models/sutime/english.holidays.sutime.txt\n",
    "[main] INFO edu.stanford.nlp.pipeline.TokensRegexNERAnnotator - TokensRegexNERAnnotator ner.fine.regexner: Read 580641 unique entries out of 581790 from edu/stanford/nlp/models/kbp/regexner_caseless.tab, 0 TokensRegex patterns.\n",
    "[main] INFO edu.stanford.nlp.pipeline.TokensRegexNERAnnotator - TokensRegexNERAnnotator ner.fine.regexner: Read 4857 unique entries out of 4868 from edu/stanford/nlp/models/kbp/regexner_cased.tab, 0 TokensRegex patterns.\n",
    "[main] INFO edu.stanford.nlp.pipeline.TokensRegexNERAnnotator - TokensRegexNERAnnotator ner.fine.regexner: Read 585498 unique entries from 2 files\n",
    "[main] INFO edu.stanford.nlp.pipeline.StanfordCoreNLP - Adding annotator parse\n",
    "[main] INFO edu.stanford.nlp.parser.common.ParserGrammar - Loading parser from serialized file edu/stanford/nlp/models/lexparser/englishPCFG.ser.gz ... done [4.6 sec].\n",
    "[main] INFO edu.stanford.nlp.pipeline.StanfordCoreNLP - Adding annotator depparse\n",
    "[main] INFO edu.stanford.nlp.parser.nndep.DependencyParser - Loading depparse model: edu/stanford/nlp/models/parser/nndep/english_UD.gz ...\n",
    "[main] INFO edu.stanford.nlp.parser.nndep.Classifier - PreComputed 99996, Elapsed Time: 22.43 (s)\n",
    "[main] INFO edu.stanford.nlp.parser.nndep.DependencyParser - Initializing dependency parser ... done [24.4 sec].\n",
    "[main] INFO CoreNLP - Starting server...\n",
    "[main] INFO CoreNLP - StanfordCoreNLPServer listening at /0:0:0:0:0:0:0:0:9000\n",
    "```"
   ]
  },
  {
   "cell_type": "markdown",
   "metadata": {},
   "source": [
    "![](corenlp_ner.png)"
   ]
  },
  {
   "cell_type": "code",
   "execution_count": 17,
   "metadata": {},
   "outputs": [
    {
     "data": {
      "text/plain": [
       "<nltk.parse.corenlp.CoreNLPParser at 0x2059cbfb4a8>"
      ]
     },
     "execution_count": 17,
     "metadata": {},
     "output_type": "execute_result"
    }
   ],
   "source": [
    "from nltk.parse import CoreNLPParser\n",
    "\n",
    "ner_tagger = CoreNLPParser(url='http://localhost:9000', tagtype='ner')\n",
    "ner_tagger"
   ]
  },
  {
   "cell_type": "code",
   "execution_count": 27,
   "metadata": {},
   "outputs": [
    {
     "name": "stdout",
     "output_type": "stream",
     "text": [
      "[('Three', 'NUMBER'), ('more', 'O'), ('countries', 'O'), ('have', 'O'), ('joined', 'O'), ('an', 'O'), ('``', 'O'), ('international', 'O'), ('grand', 'O'), ('committee', 'O'), (\"''\", 'O'), ('of', 'O'), ('parliaments', 'O'), (',', 'O'), ('adding', 'O'), ('to', 'O'), ('calls', 'O'), ('for', 'O'), ('Facebook', 'ORGANIZATION'), (\"'s\", 'O'), ('boss', 'TITLE'), (',', 'O'), ('Mark', 'PERSON'), ('Zuckerberg', 'PERSON'), (',', 'O'), ('to', 'O'), ('give', 'O'), ('evidence', 'O'), ('on', 'O'), ('misinformation', 'O'), ('to', 'O'), ('the', 'O'), ('coalition', 'O'), ('.', 'O'), ('Brazil', 'COUNTRY'), (',', 'O'), ('Latvia', 'COUNTRY'), ('and', 'O'), ('Singapore', 'COUNTRY'), ('bring', 'O'), ('the', 'O'), ('total', 'O'), ('to', 'O'), ('eight', 'NUMBER'), ('different', 'O'), ('parliaments', 'O'), ('across', 'O'), ('the', 'O'), ('world', 'O'), (',', 'O'), ('with', 'O'), ('plans', 'O'), ('to', 'O'), ('send', 'O'), ('representatives', 'O'), ('to', 'O'), ('London', 'CITY'), ('on', 'O'), ('27', 'DATE'), ('November', 'DATE'), ('with', 'O'), ('the', 'O'), ('intention', 'O'), ('of', 'O'), ('hearing', 'O'), ('from', 'O'), ('Zuckerberg', 'PERSON'), ('.', 'O'), ('Since', 'O'), ('the', 'O'), ('Cambridge', 'ORGANIZATION'), ('Analytica', 'ORGANIZATION'), ('scandal', 'O'), ('broke', 'O'), (',', 'O'), ('the', 'O'), ('Facebook', 'ORGANIZATION'), ('chief', 'O'), ('has', 'O'), ('only', 'O'), ('appeared', 'O'), ('in', 'O'), ('front', 'O'), ('of', 'O'), ('two', 'NUMBER'), ('legislatures', 'O'), (':', 'O'), ('the', 'O'), ('American', 'NATIONALITY'), ('Senate', 'ORGANIZATION'), ('and', 'O'), ('House', 'ORGANIZATION'), ('of', 'ORGANIZATION'), ('Representatives', 'ORGANIZATION'), (',', 'O'), ('and', 'O'), ('the', 'O'), ('European', 'NATIONALITY'), ('parliament', 'O'), ('.', 'O'), ('Facebook', 'ORGANIZATION'), ('has', 'O'), ('consistently', 'O'), ('rebuffed', 'O'), ('attempts', 'O'), ('from', 'O'), ('others', 'O'), (',', 'O'), ('including', 'O'), ('the', 'O'), ('UK', 'COUNTRY'), ('and', 'O'), ('Canadian', 'NATIONALITY'), ('parliaments', 'O'), (',', 'O'), ('to', 'O'), ('hear', 'O'), ('from', 'O'), ('Zuckerberg', 'PERSON'), ('.', 'O'), ('He', 'O'), ('added', 'O'), ('that', 'O'), ('an', 'O'), ('article', 'O'), ('in', 'O'), ('the', 'O'), ('New', 'ORGANIZATION'), ('York', 'ORGANIZATION'), ('Times', 'ORGANIZATION'), ('on', 'O'), ('Thursday', 'DATE'), (',', 'O'), ('in', 'O'), ('which', 'O'), ('the', 'O'), ('paper', 'O'), ('alleged', 'O'), ('a', 'O'), ('pattern', 'O'), ('of', 'O'), ('behaviour', 'O'), ('from', 'O'), ('Facebook', 'ORGANIZATION'), ('to', 'O'), ('``', 'O'), ('delay', 'O'), (',', 'O'), ('deny', 'O'), ('and', 'O'), ('deflect', 'O'), (\"''\", 'O'), ('negative', 'O'), ('news', 'O'), ('stories', 'O'), (',', 'O'), ('``', 'O'), ('raises', 'O'), ('further', 'O'), ('questions', 'O'), ('about', 'O'), ('how', 'O'), ('recent', 'O'), ('data', 'O'), ('breaches', 'O'), ('were', 'O'), ('allegedly', 'O'), ('dealt', 'O'), ('with', 'O'), ('within', 'O'), ('Facebook', 'ORGANIZATION'), ('.', 'O'), (\"''\", 'O')]\n"
     ]
    }
   ],
   "source": [
    "import nltk\n",
    "\n",
    "tags = list(ner_tagger.raw_tag_sents(nltk.sent_tokenize(text)))\n",
    "tags = [sublist[0] for sublist in tags]\n",
    "tags = [word_tag for sublist in tags for word_tag in sublist]\n",
    "print(tags)"
   ]
  },
  {
   "cell_type": "code",
   "execution_count": 28,
   "metadata": {},
   "outputs": [
    {
     "name": "stdout",
     "output_type": "stream",
     "text": [
      "[('Three', 'NUMBER'), ('Facebook', 'ORGANIZATION'), ('boss', 'TITLE'), ('Mark Zuckerberg', 'PERSON'), ('Brazil', 'COUNTRY'), ('Latvia', 'COUNTRY'), ('Singapore', 'COUNTRY'), ('eight', 'NUMBER'), ('London', 'CITY'), ('27 November', 'DATE'), ('Zuckerberg', 'PERSON'), ('Cambridge Analytica', 'ORGANIZATION'), ('Facebook', 'ORGANIZATION'), ('two', 'NUMBER'), ('American Senate', 'ORGANIZATION'), ('House of Representatives', 'ORGANIZATION'), ('European', 'NATIONALITY'), ('Facebook', 'ORGANIZATION'), ('UK', 'COUNTRY'), ('Canadian', 'NATIONALITY'), ('Zuckerberg', 'PERSON'), ('New York Times', 'ORGANIZATION'), ('Thursday', 'DATE'), ('Facebook', 'ORGANIZATION'), ('Facebook', 'ORGANIZATION')]\n"
     ]
    }
   ],
   "source": [
    "named_entities = []\n",
    "temp_entity_name = ''\n",
    "temp_named_entity = None\n",
    "for term, tag in tags:\n",
    "    if tag != 'O':\n",
    "        temp_entity_name = ' '.join([temp_entity_name, term]).strip()\n",
    "        temp_named_entity = (temp_entity_name, tag)\n",
    "    else:\n",
    "        if temp_named_entity:\n",
    "            named_entities.append(temp_named_entity)\n",
    "            temp_entity_name = ''\n",
    "            temp_named_entity = None\n",
    "\n",
    "print(named_entities)"
   ]
  },
  {
   "cell_type": "code",
   "execution_count": 29,
   "metadata": {},
   "outputs": [
    {
     "data": {
      "text/plain": [
       "[('ORGANIZATION', 9),\n",
       " ('COUNTRY', 4),\n",
       " ('NUMBER', 3),\n",
       " ('PERSON', 3),\n",
       " ('DATE', 2),\n",
       " ('NATIONALITY', 2),\n",
       " ('TITLE', 1),\n",
       " ('CITY', 1)]"
      ]
     },
     "execution_count": 29,
     "metadata": {},
     "output_type": "execute_result"
    }
   ],
   "source": [
    "c = Counter([item[1] for item in named_entities])\n",
    "c.most_common()"
   ]
  }
 ],
 "metadata": {
  "kernelspec": {
   "display_name": "Python 3",
   "language": "python",
   "name": "python3"
  },
  "language_info": {
   "codemirror_mode": {
    "name": "ipython",
    "version": 3
   },
   "file_extension": ".py",
   "mimetype": "text/x-python",
   "name": "python",
   "nbconvert_exporter": "python",
   "pygments_lexer": "ipython3",
   "version": "3.7.6"
  }
 },
 "nbformat": 4,
 "nbformat_minor": 2
}
