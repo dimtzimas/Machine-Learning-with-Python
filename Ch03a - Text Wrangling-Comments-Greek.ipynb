{
 "cells": [
  {
   "cell_type": "code",
   "execution_count": 313,
   "metadata": {},
   "outputs": [
    {
     "name": "stdout",
     "output_type": "stream",
     "text": [
      "\n",
      "html http http:// https https:// head tagΗ Python είναι διερμηνευόμενη (interprited), γενικού σκοπού (general-purpose) και υψηλού επιπέδου, γλώσσα προγραμματισμού.[1][2][3] Ανήκει στις γλώσσες προστακτικού προγραμματισμού (Imperative programming) και υποστηρίζει τόσο το διαδικαστικό (procedural programming) όσο και το αντικειμενοστρεφές (object-oriented programming) προγραμματιστικό υπόδειγμα (programming paradigm). Είναι δυναμική γλώσσα προγραμματισμού ( dynamically typed) και υποστηρίζει συλλογή απορριμμάτων (garbage collection ή GC).\n",
      "iframe urlΔημιουργήθηκε από τον Ολλανδό Γκίντο βαν Ρόσσουμ (Guido van Rossum) στο ερευνητικό κέντρο Centrum Wiskunde & Informatica (CWI) το 1989[4] και κυκλοφόρησε για πρώτη φορά το 1991.[5][4]\n",
      "Ο κύριος στόχος της είναι η αναγνωσιμότητα του κώδικά της και η ευκολία χρήσης της. Το συντακτικό της επιτρέπει στους προγραμματιστές να εκφράσουν έννοιες σε λιγότερες γραμμές κώδικα από ότι θα ήταν δυνατόν σε γλώσσες όπως η C++ ή η Java.[6][7][3] Διακρίνεται λό\n",
      "60\n"
     ]
    }
   ],
   "source": [
    "# web scraping\n",
    "import requests\n",
    "\n",
    "data1 = requests.get('http://www.gutenberg.org/cache/epub/8001/pg8001.html')\n",
    "# data = requests.get('https://eclass02.sch.gr/modules/document/file.php/PDE11117/page_2.html')\n",
    "data = \"\"\"\n",
    "html http http:// https https:// head tagΗ Python είναι διερμηνευόμενη (interprited), γενικού σκοπού (general-purpose) και υψηλού επιπέδου, γλώσσα προγραμματισμού.[1][2][3] Ανήκει στις γλώσσες προστακτικού προγραμματισμού (Imperative programming) και υποστηρίζει τόσο το διαδικαστικό (procedural programming) όσο και το αντικειμενοστρεφές (object-oriented programming) προγραμματιστικό υπόδειγμα (programming paradigm). Είναι δυναμική γλώσσα προγραμματισμού ( dynamically typed) και υποστηρίζει συλλογή απορριμμάτων (garbage collection ή GC).\n",
    "iframe urlΔημιουργήθηκε από τον Ολλανδό Γκίντο βαν Ρόσσουμ (Guido van Rossum) στο ερευνητικό κέντρο Centrum Wiskunde & Informatica (CWI) το 1989[4] και κυκλοφόρησε για πρώτη φορά το 1991.[5][4]\n",
    "Ο κύριος στόχος της είναι η αναγνωσιμότητα του κώδικά της και η ευκολία χρήσης της. Το συντακτικό της επιτρέπει στους προγραμματιστές να εκφράσουν έννοιες σε λιγότερες γραμμές κώδικα από ότι θα ήταν δυνατόν σε γλώσσες όπως η C++ ή η Java.[6][7][3] Διακρίνεται λόγω του ότι έχει πολλές βιβλιοθήκες που διευκολύνουν ιδιαίτερα αρκετές συνηθισμένες εργασίες και για την ταχύτητα εκμάθησης της. Μειονεκτεί στο ότι επειδή είναι διερμηνευόμενη είναι πιο αργή από τις μεταγλωττιζόμενες (compiled) γλώσσες όπως η C και η C++. Γιαυτό το λόγο δεν είναι κατάλληλη για γραφή λειτουργικών συστημάτων.[8]\n",
    "http Οι διερμηνευτές της Python είναι διαθέσιμοι για εγκατάσταση σε πολλά λειτουργικά συστήματα, επιτρέποντας στην Python την εκτέλεση κώδικα σε ευρεία γκάμα συστημάτων. Χρησιμοποιώντας εργαλεία τρίτων, όπως το Py2exe ή το Pyinstaller,[9] ο κώδικας της Python μπορεί να πακεταριστεί σε αυτόνομα εκτελέσιμα προγράμματα για μερικά από τα πιο δημοφιλή λειτουργικά συστήματα, επιτρέποντας τη διανομή του βασισμένου σε Python λογισμικού για χρήση σε αυτά τα περιβάλλοντα χωρίς να απαιτείται εγκατάσταση του διερμηνευτή της Python.\n",
    "https://Η Python αναπτύσσεται ως ανοιχτό λογισμικό (open source) και η διαχείρισή της γίνεται από τον μη κερδοσκοπικό οργανισμό Python Software Foundation.[8] Ο κώδικας διανέμεται με την άδεια Python Software Foundation License η οποία είναι συμβατή με την GPL. Το όνομα της γλώσσας προέρχεται από την ομάδα των Άγγλων κωμικών Μόντυ Πάιθον και δεν έχει καμιά σχέση με το φίδι πύθωνα, παρότι το λογότυπό της παραπέμπει σε κάτι τέτοιο.[10][11][4]\n",
    "\"\"\"\n",
    "\n",
    "# content = data.content\n",
    "content = data\n",
    "print(content[0:1000])\n",
    "print(data1.content[0])"
   ]
  },
  {
   "cell_type": "markdown",
   "metadata": {},
   "source": [
    "## Removing HTML Tags"
   ]
  },
  {
   "cell_type": "code",
   "execution_count": 18,
   "metadata": {},
   "outputs": [
    {
     "name": "stdout",
     "output_type": "stream",
     "text": [
      "\n",
      "html http http:// https https:// head tagΗ Python είναι διερμηνευόμενη (interprited), γενικού σκοπού (general-purpose) και υψηλού επιπέδου, γλώσσα προγραμματισμού.[1][2][3] Ανήκει στις γλώσσες προστακτικού προγραμματισμού (Imperative programming) και υποστηρίζει τόσο το διαδικαστικό (procedural programming) όσο και το αντικειμενοστρεφές (object-oriented programming) προγραμματιστικό υπόδειγμα (programming paradigm). Είναι δυναμική γλώσσα προγραμματισμού ( dynamically typed) και υποστηρίζει συλλογή απορριμμάτων (garbage collection ή GC).\n",
      "iframe urlΔημιουργήθηκε από τον Ολλανδό Γκίντο βαν Ρόσσουμ (Guido van Rossum) στο ερευνητικό κέντρο Centrum Wiskunde & Informatica (CWI) το 1989[4] και κυκλοφόρησε για πρώτη φορά το 1991.[5][4]\n",
      "Ο κύριος στόχος της είναι η αναγνωσιμότητα του κώδικά της και η ευκολία χρήσης της. Το συντακτικό της επιτρέπει στους προγραμματιστές να εκφράσουν έννοιες σε λιγότερες γραμμές κώδικα από ότι θα ήταν δυνατόν σε γλώσσες όπως η C++ ή η Java.[6][7][3] Διακρίνεται λό\n"
     ]
    }
   ],
   "source": [
    "# unnecessary HTML tags\n",
    "# The BeautifulSoup library provides us with some handy functions that help us remove these unnecessary tags with ease.\n",
    "# We then have a clean body of text that’s easier to interpret and understand.\n",
    "import re\n",
    "from bs4 import BeautifulSoup\n",
    "\n",
    "def strip_html_tags(text):\n",
    "    soup = BeautifulSoup(text, \"html.parser\")\n",
    "    [s.extract() for s in soup(['iframe', 'script'])]\n",
    "    stripped_text = soup.get_text()\n",
    "    stripped_text = re.sub(r'[\\r|\\n|\\r\\n]+', '\\n', stripped_text)\n",
    "    return stripped_text\n",
    "\n",
    "clean_content = strip_html_tags(content)\n",
    "print(clean_content[0:1000])"
   ]
  },
  {
   "cell_type": "markdown",
   "metadata": {},
   "source": [
    "# Tokenization"
   ]
  },
  {
   "cell_type": "markdown",
   "metadata": {},
   "source": [
    "## Sentence Tokenization"
   ]
  },
  {
   "cell_type": "code",
   "execution_count": 19,
   "metadata": {},
   "outputs": [],
   "source": [
    "# We will use the NLTK framework, which provides various interfaces for performing sentence tokenization\n",
    "# focus on the following sentence tokenizers:\n",
    "# • sent_tokenize\n",
    "# • Pretrained sentence tokenization models\n",
    "# • PunktSentenceTokenizer\n",
    "# • RegexpTokenizer\n",
    "import nltk\n",
    "from nltk.corpus import gutenberg\n",
    "from pprint import pprint\n",
    "import numpy as np\n",
    "\n",
    "# loading text corpora\n",
    "alice = gutenberg.raw(fileids='carroll-alice.txt')\n",
    "# sample_text = (\"US unveils world's most powerful supercomputer, beats China. \" \n",
    "#                \"The US has unveiled the world's most powerful supercomputer called 'Summit', \" \n",
    "#                \"beating the previous record-holder China's Sunway TaihuLight. With a peak performance \"\n",
    "#                \"of 200,000 trillion calculations per second, it is over twice as fast as Sunway TaihuLight, \"\n",
    "#                \"which is capable of 93,000 trillion calculations per second. Summit has 4,608 servers, \"\n",
    "#                \"which reportedly take up the size of two tennis courts.\")\n",
    "sample_text = (\"Η Python είναι διερμηνευόμενη (interprited), γενικού σκοπού (general-purpose) και υψηλού επιπέδου, γλώσσα προγραμματισμού. \" \n",
    "               \"Δημιουργήθηκε από τον Ολλανδό Γκίντο βαν Ρόσσουμ (Guido van Rossum) στο ερευνητικό, \" \n",
    "               \"Ο κύριος στόχος της είναι η αναγνωσιμότητα του κώδικά της και η ευκολία χρήσης της. Το συντακτικό της επιτρέπει.\")"
   ]
  },
  {
   "cell_type": "code",
   "execution_count": 20,
   "metadata": {},
   "outputs": [
    {
     "data": {
      "text/plain": [
       "144395"
      ]
     },
     "execution_count": 20,
     "metadata": {},
     "output_type": "execute_result"
    }
   ],
   "source": [
    "# Total characters in Alice in Wonderland\n",
    "len(alice)"
   ]
  },
  {
   "cell_type": "code",
   "execution_count": 21,
   "metadata": {},
   "outputs": [
    {
     "data": {
      "text/plain": [
       "\"[Alice's Adventures in Wonderland by Lewis Carroll 1865]\\n\\nCHAPTER I. Down the Rabbit-Hole\\n\\nAlice was\""
      ]
     },
     "execution_count": 21,
     "metadata": {},
     "output_type": "execute_result"
    }
   ],
   "source": [
    "# First 100 characters in the corpus\n",
    "alice[0:100]"
   ]
  },
  {
   "cell_type": "markdown",
   "metadata": {},
   "source": [
    "### Default sentence tokenizer"
   ]
  },
  {
   "cell_type": "code",
   "execution_count": 22,
   "metadata": {},
   "outputs": [
    {
     "name": "stdout",
     "output_type": "stream",
     "text": [
      "Total sentences in sample_text: 3\n",
      "Sample text sentences :-\n",
      "['Η Python είναι διερμηνευόμενη (interprited), γενικού σκοπού (general-purpose) και υψηλού επιπέδου, γλώσσα προγραμματισμού.'\n",
      " 'Δημιουργήθηκε από τον Ολλανδό Γκίντο βαν Ρόσσουμ (Guido van Rossum) στο ερευνητικό, Ο κύριος στόχος της είναι η αναγνωσιμότητα του κώδικά της και η ευκολία χρήσης της.'\n",
      " 'Το συντακτικό της επιτρέπει.']\n",
      "\n",
      "Total sentences in alice: 1625\n",
      "First 5 sentences in alice:-\n",
      "[\"[Alice's Adventures in Wonderland by Lewis Carroll 1865]\\n\\nCHAPTER I.\"\n",
      " \"Down the Rabbit-Hole\\n\\nAlice was beginning to get very tired of sitting by her sister on the\\nbank, and of having nothing to do: once or twice she had peeped into the\\nbook her sister was reading, but it had no pictures or conversations in\\nit, 'and what is the use of a book,' thought Alice 'without pictures or\\nconversation?'\"\n",
      " 'So she was considering in her own mind (as well as she could, for the\\nhot day made her feel very sleepy and stupid), whether the pleasure\\nof making a daisy-chain would be worth the trouble of getting up and\\npicking the daisies, when suddenly a White Rabbit with pink eyes ran\\nclose by her.'\n",
      " \"There was nothing so VERY remarkable in that; nor did Alice think it so\\nVERY much out of the way to hear the Rabbit say to itself, 'Oh dear!\"\n",
      " 'Oh dear!']\n"
     ]
    }
   ],
   "source": [
    "# The nltk.sent_tokenize(...) function is the default sentence tokenization function that NLTK recommends\n",
    "# this is not just a normal object or instance of that class. It has been pretrained on several language!!!!!! models and works really well on many popular languages\n",
    "# besides English\n",
    "default_st = nltk.sent_tokenize\n",
    "alice_sentences = default_st(text=alice)\n",
    "sample_sentences = default_st(text=sample_text)\n",
    "\n",
    "print('Total sentences in sample_text:', len(sample_sentences))\n",
    "print('Sample text sentences :-')\n",
    "print(np.array(sample_sentences))\n",
    "\n",
    "print('\\nTotal sentences in alice:', len(alice_sentences))\n",
    "print('First 5 sentences in alice:-')\n",
    "print(np.array(alice_sentences[0:5]))"
   ]
  },
  {
   "cell_type": "markdown",
   "metadata": {},
   "source": [
    "### Other languages sentence tokenization"
   ]
  },
  {
   "cell_type": "code",
   "execution_count": 7,
   "metadata": {},
   "outputs": [
    {
     "name": "stdout",
     "output_type": "stream",
     "text": [
      "157171\n",
      " \n",
      "Wiederaufnahme der Sitzungsperiode Ich erkläre die am Freitag , dem 17. Dezember unterbrochene Sit\n"
     ]
    }
   ],
   "source": [
    "# We can use sent_tokenize, which is already trained, or load a pretrained tokenization model on German text into a\n",
    "# PunktSentenceTokenizer instance and perform the same operation\n",
    "from nltk.corpus import europarl_raw\n",
    "\n",
    "german_text = europarl_raw.german.raw(fileids='ep-00-01-17.de')\n",
    "# Total characters in the corpus\n",
    "print(len(german_text))\n",
    "# First 100 characters in the corpus\n",
    "print(german_text[0:100])"
   ]
  },
  {
   "cell_type": "code",
   "execution_count": 8,
   "metadata": {},
   "outputs": [],
   "source": [
    "# default sentence tokenizer \n",
    "# Next, we tokenize the text corpus into sentences using the default sent_tokenize(...) tokenizer and a pretrained German language tokenizer by loading it\n",
    "# from the NLTK resources.\n",
    "german_sentences_def = default_st(text=german_text, language='german')\n",
    "\n",
    "# loading german text tokenizer into a PunktSentenceTokenizer instance  \n",
    "german_tokenizer = nltk.data.load(resource_url='tokenizers/punkt/german.pickle')\n",
    "german_sentences = german_tokenizer.tokenize(german_text)"
   ]
  },
  {
   "cell_type": "code",
   "execution_count": 9,
   "metadata": {},
   "outputs": [
    {
     "name": "stdout",
     "output_type": "stream",
     "text": [
      "<class 'nltk.tokenize.punkt.PunktSentenceTokenizer'>\n"
     ]
    }
   ],
   "source": [
    "# verify the type of german_tokenizer\n",
    "# should be PunktSentenceTokenizer\n",
    "print(type(german_tokenizer))"
   ]
  },
  {
   "cell_type": "code",
   "execution_count": 10,
   "metadata": {},
   "outputs": [
    {
     "name": "stdout",
     "output_type": "stream",
     "text": [
      "True\n"
     ]
    }
   ],
   "source": [
    "# check if results of both tokenizers match \n",
    "# should be True\n",
    "print(german_sentences_def == german_sentences)\n",
    "# Thus we see that our assumption was indeed correct and you can tokenize sentences belonging to different languages in two different ways"
   ]
  },
  {
   "cell_type": "code",
   "execution_count": 11,
   "metadata": {},
   "outputs": [
    {
     "name": "stdout",
     "output_type": "stream",
     "text": [
      "[' \\nWiederaufnahme der Sitzungsperiode Ich erkläre die am Freitag , dem 17. Dezember unterbrochene Sitzungsperiode des Europäischen Parlaments für wiederaufgenommen , wünsche Ihnen nochmals alles Gute zum Jahreswechsel und hoffe , daß Sie schöne Ferien hatten .'\n",
      " 'Wie Sie feststellen konnten , ist der gefürchtete \" Millenium-Bug \" nicht eingetreten .'\n",
      " 'Doch sind Bürger einiger unserer Mitgliedstaaten Opfer von schrecklichen Naturkatastrophen geworden .'\n",
      " 'Im Parlament besteht der Wunsch nach einer Aussprache im Verlauf dieser Sitzungsperiode in den nächsten Tagen .'\n",
      " 'Heute möchte ich Sie bitten - das ist auch der Wunsch einiger Kolleginnen und Kollegen - , allen Opfern der Stürme , insbesondere in den verschiedenen Ländern der Europäischen Union , in einer Schweigeminute zu gedenken .']\n"
     ]
    }
   ],
   "source": [
    "# print first 5 sentences of the corpus\n",
    "print(np.array(german_sentences[:5]))"
   ]
  },
  {
   "cell_type": "markdown",
   "metadata": {},
   "source": [
    "### Using PunktSentenceTokenizer for sentence tokenization"
   ]
  },
  {
   "cell_type": "code",
   "execution_count": 23,
   "metadata": {},
   "outputs": [
    {
     "name": "stdout",
     "output_type": "stream",
     "text": [
      "['Η Python είναι διερμηνευόμενη (interprited), γενικού σκοπού (general-purpose) και υψηλού επιπέδου, γλώσσα προγραμματισμού.'\n",
      " 'Δημιουργήθηκε από τον Ολλανδό Γκίντο βαν Ρόσσουμ (Guido van Rossum) στο ερευνητικό, Ο κύριος στόχος της είναι η αναγνωσιμότητα του κώδικά της και η ευκολία χρήσης της.'\n",
      " 'Το συντακτικό της επιτρέπει.']\n"
     ]
    }
   ],
   "source": [
    "# Using the default PunktSentenceTokenizer class is also pretty straightforward, as the following snippet shows\n",
    "punkt_st = nltk.tokenize.PunktSentenceTokenizer()\n",
    "sample_sentences = punkt_st.tokenize(sample_text)\n",
    "print(np.array(sample_sentences))"
   ]
  },
  {
   "cell_type": "markdown",
   "metadata": {},
   "source": [
    "### Using RegexpTokenizer for sentence tokenization"
   ]
  },
  {
   "cell_type": "code",
   "execution_count": 24,
   "metadata": {},
   "outputs": [
    {
     "name": "stdout",
     "output_type": "stream",
     "text": [
      "['Η Python είναι διερμηνευόμενη (interprited), γενικού σκοπού (general-purpose) και υψηλού επιπέδου, γλώσσα προγραμματισμού.'\n",
      " 'Δημιουργήθηκε από τον Ολλανδό Γκίντο βαν Ρόσσουμ (Guido van Rossum) στο ερευνητικό, Ο κύριος στόχος της είναι η αναγνωσιμότητα του κώδικά της και η ευκολία χρήσης της.'\n",
      " 'Το συντακτικό της επιτρέπει.']\n"
     ]
    }
   ],
   "source": [
    "SENTENCE_TOKENS_PATTERN = r'(?<!\\w\\.\\w.)(?<![A-Z][a-z]\\.)(?<![A-Z]\\.)(?<=\\.|\\?|\\!)\\s'\n",
    "regex_st = nltk.tokenize.RegexpTokenizer(\n",
    "            pattern=SENTENCE_TOKENS_PATTERN,\n",
    "            gaps=True)\n",
    "sample_sentences = regex_st.tokenize(sample_text)\n",
    "print(np.array(sample_sentences)) "
   ]
  },
  {
   "cell_type": "markdown",
   "metadata": {},
   "source": [
    "## Word Tokenization"
   ]
  },
  {
   "cell_type": "markdown",
   "metadata": {},
   "source": [
    "### Default word tokenizer"
   ]
  },
  {
   "cell_type": "code",
   "execution_count": 25,
   "metadata": {},
   "outputs": [
    {
     "data": {
      "text/plain": [
       "array(['Η', 'Python', 'είναι', 'διερμηνευόμενη', '(', 'interprited', ')',\n",
       "       ',', 'γενικού', 'σκοπού', '(', 'general-purpose', ')', 'και',\n",
       "       'υψηλού', 'επιπέδου', ',', 'γλώσσα', 'προγραμματισμού', '.',\n",
       "       'Δημιουργήθηκε', 'από', 'τον', 'Ολλανδό', 'Γκίντο', 'βαν',\n",
       "       'Ρόσσουμ', '(', 'Guido', 'van', 'Rossum', ')', 'στο', 'ερευνητικό',\n",
       "       ',', 'Ο', 'κύριος', 'στόχος', 'της', 'είναι', 'η',\n",
       "       'αναγνωσιμότητα', 'του', 'κώδικά', 'της', 'και', 'η', 'ευκολία',\n",
       "       'χρήσης', 'της', '.', 'Το', 'συντακτικό', 'της', 'επιτρέπει', '.'],\n",
       "      dtype='<U15')"
      ]
     },
     "execution_count": 25,
     "metadata": {},
     "output_type": "execute_result"
    }
   ],
   "source": [
    "# The nltk.word_tokenize(...) function is the default and recommended word\n",
    "# tokenizer, as specified by NLTK\n",
    "default_wt = nltk.word_tokenize\n",
    "words = default_wt(sample_text)\n",
    "np.array(words)"
   ]
  },
  {
   "cell_type": "markdown",
   "metadata": {},
   "source": [
    "### Treebank word tokenizer"
   ]
  },
  {
   "cell_type": "code",
   "execution_count": 26,
   "metadata": {},
   "outputs": [
    {
     "data": {
      "text/plain": [
       "array(['Η', 'Python', 'είναι', 'διερμηνευόμενη', '(', 'interprited', ')',\n",
       "       ',', 'γενικού', 'σκοπού', '(', 'general-purpose', ')', 'και',\n",
       "       'υψηλού', 'επιπέδου', ',', 'γλώσσα', 'προγραμματισμού.',\n",
       "       'Δημιουργήθηκε', 'από', 'τον', 'Ολλανδό', 'Γκίντο', 'βαν',\n",
       "       'Ρόσσουμ', '(', 'Guido', 'van', 'Rossum', ')', 'στο', 'ερευνητικό',\n",
       "       ',', 'Ο', 'κύριος', 'στόχος', 'της', 'είναι', 'η',\n",
       "       'αναγνωσιμότητα', 'του', 'κώδικά', 'της', 'και', 'η', 'ευκολία',\n",
       "       'χρήσης', 'της.', 'Το', 'συντακτικό', 'της', 'επιτρέπει', '.'],\n",
       "      dtype='<U16')"
      ]
     },
     "execution_count": 26,
     "metadata": {},
     "output_type": "execute_result"
    }
   ],
   "source": [
    "# one primary assumption here is that we have\n",
    "# already performed sentence tokenization beforehand\n",
    "treebank_wt = nltk.TreebankWordTokenizer()\n",
    "words = treebank_wt.tokenize(sample_text)\n",
    "np.array(words)\n",
    "# the output is similar to word_tokenize(), since they use the same\n",
    "# tokenizing mechanism."
   ]
  },
  {
   "cell_type": "markdown",
   "metadata": {},
   "source": [
    "### TokTok Word Tokenizer "
   ]
  },
  {
   "cell_type": "code",
   "execution_count": 27,
   "metadata": {},
   "outputs": [
    {
     "data": {
      "text/plain": [
       "array(['Η', 'Python', 'είναι', 'διερμηνευόμενη', '(', 'interprited', ')',\n",
       "       ',', 'γενικού', 'σκοπού', '(', 'general-purpose', ')', 'και',\n",
       "       'υψηλού', 'επιπέδου', ',', 'γλώσσα', 'προγραμματισμού.',\n",
       "       'Δημιουργήθηκε', 'από', 'τον', 'Ολλανδό', 'Γκίντο', 'βαν',\n",
       "       'Ρόσσουμ', '(', 'Guido', 'van', 'Rossum', ')', 'στο', 'ερευνητικό',\n",
       "       ',', 'Ο', 'κύριος', 'στόχος', 'της', 'είναι', 'η',\n",
       "       'αναγνωσιμότητα', 'του', 'κώδικά', 'της', 'και', 'η', 'ευκολία',\n",
       "       'χρήσης', 'της.', 'Το', 'συντακτικό', 'της', 'επιτρέπει', '.'],\n",
       "      dtype='<U16')"
      ]
     },
     "execution_count": 27,
     "metadata": {},
     "output_type": "execute_result"
    }
   ],
   "source": [
    "# good results for, English, Persian, Russian, Czech, French, German, Vietnamese, and many other\n",
    "from nltk.tokenize.toktok import ToktokTokenizer\n",
    "tokenizer = ToktokTokenizer()\n",
    "words = tokenizer.tokenize(sample_text)\n",
    "np.array(words)"
   ]
  },
  {
   "cell_type": "markdown",
   "metadata": {},
   "source": [
    "### Regexp word tokenizer"
   ]
  },
  {
   "cell_type": "code",
   "execution_count": 28,
   "metadata": {},
   "outputs": [
    {
     "data": {
      "text/plain": [
       "array(['Η', 'Python', 'είναι', 'διερμηνευόμενη', 'interprited', 'γενικού',\n",
       "       'σκοπού', 'general', 'purpose', 'και', 'υψηλού', 'επιπέδου',\n",
       "       'γλώσσα', 'προγραμματισμού', 'Δημιουργήθηκε', 'από', 'τον',\n",
       "       'Ολλανδό', 'Γκίντο', 'βαν', 'Ρόσσουμ', 'Guido', 'van', 'Rossum',\n",
       "       'στο', 'ερευνητικό', 'Ο', 'κύριος', 'στόχος', 'της', 'είναι', 'η',\n",
       "       'αναγνωσιμότητα', 'του', 'κώδικά', 'της', 'και', 'η', 'ευκολία',\n",
       "       'χρήσης', 'της', 'Το', 'συντακτικό', 'της', 'επιτρέπει'],\n",
       "      dtype='<U15')"
      ]
     },
     "execution_count": 28,
     "metadata": {},
     "output_type": "execute_result"
    }
   ],
   "source": [
    "TOKEN_PATTERN = r'\\w+'        \n",
    "regex_wt = nltk.RegexpTokenizer(pattern=TOKEN_PATTERN,\n",
    "                                gaps=False)\n",
    "words = regex_wt.tokenize(sample_text)\n",
    "np.array(words)"
   ]
  },
  {
   "cell_type": "code",
   "execution_count": 29,
   "metadata": {},
   "outputs": [
    {
     "data": {
      "text/plain": [
       "array(['Η', 'Python', 'είναι', 'διερμηνευόμενη', '(interprited),',\n",
       "       'γενικού', 'σκοπού', '(general-purpose)', 'και', 'υψηλού',\n",
       "       'επιπέδου,', 'γλώσσα', 'προγραμματισμού.', 'Δημιουργήθηκε', 'από',\n",
       "       'τον', 'Ολλανδό', 'Γκίντο', 'βαν', 'Ρόσσουμ', '(Guido', 'van',\n",
       "       'Rossum)', 'στο', 'ερευνητικό,', 'Ο', 'κύριος', 'στόχος', 'της',\n",
       "       'είναι', 'η', 'αναγνωσιμότητα', 'του', 'κώδικά', 'της', 'και', 'η',\n",
       "       'ευκολία', 'χρήσης', 'της.', 'Το', 'συντακτικό', 'της',\n",
       "       'επιτρέπει.'], dtype='<U17')"
      ]
     },
     "execution_count": 29,
     "metadata": {},
     "output_type": "execute_result"
    }
   ],
   "source": [
    "GAP_PATTERN = r'\\s+'        \n",
    "regex_wt = nltk.RegexpTokenizer(pattern=GAP_PATTERN,\n",
    "                                gaps=True)\n",
    "words = regex_wt.tokenize(sample_text)\n",
    "np.array(words)"
   ]
  },
  {
   "cell_type": "code",
   "execution_count": 30,
   "metadata": {},
   "outputs": [
    {
     "name": "stdout",
     "output_type": "stream",
     "text": [
      "[(0, 1), (2, 8), (9, 14), (15, 29), (30, 44), (45, 52), (53, 59), (60, 77), (78, 81), (82, 88), (89, 98), (99, 105), (106, 122), (123, 136), (137, 140), (141, 144), (145, 152), (153, 159), (160, 163), (164, 171), (172, 178), (179, 182), (183, 190), (191, 194), (195, 206), (207, 208), (209, 215), (216, 222), (223, 226), (227, 232), (233, 234), (235, 249), (250, 253), (254, 260), (261, 264), (265, 268), (269, 270), (271, 278), (279, 285), (286, 290), (291, 293), (294, 304), (305, 308), (309, 319)]\n",
      "['Η' 'Python' 'είναι' 'διερμηνευόμενη' '(interprited),' 'γενικού' 'σκοπού'\n",
      " '(general-purpose)' 'και' 'υψηλού' 'επιπέδου,' 'γλώσσα'\n",
      " 'προγραμματισμού.' 'Δημιουργήθηκε' 'από' 'τον' 'Ολλανδό' 'Γκίντο' 'βαν'\n",
      " 'Ρόσσουμ' '(Guido' 'van' 'Rossum)' 'στο' 'ερευνητικό,' 'Ο' 'κύριος'\n",
      " 'στόχος' 'της' 'είναι' 'η' 'αναγνωσιμότητα' 'του' 'κώδικά' 'της' 'και'\n",
      " 'η' 'ευκολία' 'χρήσης' 'της.' 'Το' 'συντακτικό' 'της' 'επιτρέπει.']\n"
     ]
    }
   ],
   "source": [
    "word_indices = list(regex_wt.span_tokenize(sample_text))\n",
    "print(word_indices)\n",
    "print(np.array([sample_text[start:end] for start, end in word_indices]))"
   ]
  },
  {
   "cell_type": "markdown",
   "metadata": {},
   "source": [
    "### Derived regex tokenizers"
   ]
  },
  {
   "cell_type": "code",
   "execution_count": 31,
   "metadata": {},
   "outputs": [
    {
     "data": {
      "text/plain": [
       "array(['Η', 'Python', 'είναι', 'διερμηνευόμενη', '(', 'interprited', '),',\n",
       "       'γενικού', 'σκοπού', '(', 'general', '-', 'purpose', ')', 'και',\n",
       "       'υψηλού', 'επιπέδου', ',', 'γλώσσα', 'προγραμματισμού', '.',\n",
       "       'Δημιουργήθηκε', 'από', 'τον', 'Ολλανδό', 'Γκίντο', 'βαν',\n",
       "       'Ρόσσουμ', '(', 'Guido', 'van', 'Rossum', ')', 'στο', 'ερευνητικό',\n",
       "       ',', 'Ο', 'κύριος', 'στόχος', 'της', 'είναι', 'η',\n",
       "       'αναγνωσιμότητα', 'του', 'κώδικά', 'της', 'και', 'η', 'ευκολία',\n",
       "       'χρήσης', 'της', '.', 'Το', 'συντακτικό', 'της', 'επιτρέπει', '.'],\n",
       "      dtype='<U15')"
      ]
     },
     "execution_count": 31,
     "metadata": {},
     "output_type": "execute_result"
    }
   ],
   "source": [
    "# Besides the base RegexpTokenizer class, there are several derived classes that\n",
    "# perform different types of word tokenization\n",
    "\n",
    "# The WordPunktTokenizer uses the pattern\n",
    "# r'\\w+|[^\\w\\s]+' to tokenize sentences into independent alphabetic and\n",
    "# non-alphabetic tokens.\n",
    "wordpunkt_wt = nltk.WordPunctTokenizer()\n",
    "words = wordpunkt_wt.tokenize(sample_text)\n",
    "np.array(words)"
   ]
  },
  {
   "cell_type": "code",
   "execution_count": 32,
   "metadata": {},
   "outputs": [
    {
     "data": {
      "text/plain": [
       "array(['Η', 'Python', 'είναι', 'διερμηνευόμενη', '(interprited),',\n",
       "       'γενικού', 'σκοπού', '(general-purpose)', 'και', 'υψηλού',\n",
       "       'επιπέδου,', 'γλώσσα', 'προγραμματισμού.', 'Δημιουργήθηκε', 'από',\n",
       "       'τον', 'Ολλανδό', 'Γκίντο', 'βαν', 'Ρόσσουμ', '(Guido', 'van',\n",
       "       'Rossum)', 'στο', 'ερευνητικό,', 'Ο', 'κύριος', 'στόχος', 'της',\n",
       "       'είναι', 'η', 'αναγνωσιμότητα', 'του', 'κώδικά', 'της', 'και', 'η',\n",
       "       'ευκολία', 'χρήσης', 'της.', 'Το', 'συντακτικό', 'της',\n",
       "       'επιτρέπει.'], dtype='<U17')"
      ]
     },
     "execution_count": 32,
     "metadata": {},
     "output_type": "execute_result"
    }
   ],
   "source": [
    "# The WhitespaceTokenizer tokenizes sentences into words based on whitespace, like\n",
    "# tabs, newlines, and spaces\n",
    "whitespace_wt = nltk.WhitespaceTokenizer()\n",
    "words = whitespace_wt.tokenize(sample_text)\n",
    "np.array(words)"
   ]
  },
  {
   "cell_type": "markdown",
   "metadata": {},
   "source": [
    "## Building Tokenizers with NLTK and spaCy (optional)"
   ]
  },
  {
   "cell_type": "code",
   "execution_count": 33,
   "metadata": {},
   "outputs": [
    {
     "data": {
      "text/plain": [
       "array([list(['Η', 'Python', 'είναι', 'διερμηνευόμενη', '(', 'interprited', ')', ',', 'γενικού', 'σκοπού', '(', 'general-purpose', ')', 'και', 'υψηλού', 'επιπέδου', ',', 'γλώσσα', 'προγραμματισμού', '.']),\n",
       "       list(['Δημιουργήθηκε', 'από', 'τον', 'Ολλανδό', 'Γκίντο', 'βαν', 'Ρόσσουμ', '(', 'Guido', 'van', 'Rossum', ')', 'στο', 'ερευνητικό', ',', 'Ο', 'κύριος', 'στόχος', 'της', 'είναι', 'η', 'αναγνωσιμότητα', 'του', 'κώδικά', 'της', 'και', 'η', 'ευκολία', 'χρήσης', 'της', '.']),\n",
       "       list(['Το', 'συντακτικό', 'της', 'επιτρέπει', '.'])], dtype=object)"
      ]
     },
     "execution_count": 33,
     "metadata": {},
     "output_type": "execute_result"
    }
   ],
   "source": [
    "# leverage NLTK\n",
    "# sentence-level tokenization\n",
    "def tokenize_text(text):\n",
    "    sentences = nltk.sent_tokenize(text)\n",
    "    word_tokens = [nltk.word_tokenize(sentence) for sentence in sentences] \n",
    "    return word_tokens\n",
    "\n",
    "sents = tokenize_text(sample_text)\n",
    "np.array(sents)"
   ]
  },
  {
   "cell_type": "code",
   "execution_count": 34,
   "metadata": {},
   "outputs": [
    {
     "data": {
      "text/plain": [
       "array(['Η', 'Python', 'είναι', 'διερμηνευόμενη', '(', 'interprited', ')',\n",
       "       ',', 'γενικού', 'σκοπού', '(', 'general-purpose', ')', 'και',\n",
       "       'υψηλού', 'επιπέδου', ',', 'γλώσσα', 'προγραμματισμού', '.',\n",
       "       'Δημιουργήθηκε', 'από', 'τον', 'Ολλανδό', 'Γκίντο', 'βαν',\n",
       "       'Ρόσσουμ', '(', 'Guido', 'van', 'Rossum', ')', 'στο', 'ερευνητικό',\n",
       "       ',', 'Ο', 'κύριος', 'στόχος', 'της', 'είναι', 'η',\n",
       "       'αναγνωσιμότητα', 'του', 'κώδικά', 'της', 'και', 'η', 'ευκολία',\n",
       "       'χρήσης', 'της', '.', 'Το', 'συντακτικό', 'της', 'επιτρέπει', '.'],\n",
       "      dtype='<U15')"
      ]
     },
     "execution_count": 34,
     "metadata": {},
     "output_type": "execute_result"
    }
   ],
   "source": [
    "# word-level tokenization\n",
    "words = [word for sentence in sents for word in sentence]\n",
    "np.array(words)"
   ]
  },
  {
   "cell_type": "code",
   "execution_count": 36,
   "metadata": {},
   "outputs": [
    {
     "name": "stdout",
     "output_type": "stream",
     "text": [
      "Η\n",
      "Python\n",
      "είναι\n",
      "διερμηνευόμενη\n",
      "(\n",
      "interprited\n",
      ")\n",
      ",\n",
      "γενικού\n",
      "σκοπού\n",
      "(\n",
      "general-purpose\n",
      ")\n",
      "και\n",
      "υψηλού\n",
      "επιπέδου\n",
      ",\n",
      "γλώσσα\n",
      "προγραμματισμού\n",
      ".\n",
      "Δημιουργήθηκε\n",
      "από\n",
      "τον\n",
      "Ολλανδό\n",
      "Γκίντο\n",
      "βαν\n",
      "Ρόσσουμ\n",
      "(\n",
      "Guido\n",
      "van\n",
      "Rossum\n",
      ")\n",
      "στο\n",
      "ερευνητικό\n",
      ",\n",
      "Ο\n",
      "κύριος\n",
      "στόχος\n",
      "της\n",
      "είναι\n",
      "η\n",
      "αναγνωσιμότητα\n",
      "του\n",
      "κώδικά\n",
      "της\n",
      "και\n",
      "η\n",
      "ευκολία\n",
      "χρήσης\n",
      "της\n",
      ".\n",
      "Το\n",
      "συντακτικό\n",
      "της\n",
      "επιτρέπει\n",
      ".\n"
     ]
    }
   ],
   "source": [
    "# we can leverage spaCy to perform sentence- and word-level\n",
    "# tokenizations really quickly\n",
    "import spacy\n",
    "# nlp = spacy.load('en_core_web_sm', parse = True, tag=True, entity=True)\n",
    "import el_core_news_md\n",
    "nlp = el_core_news_md.load()\n",
    "# nlp = spacy.load('el', parse = True, tag=True, entity=True)\n",
    "\n",
    "text_spacy = nlp(sample_text)\n",
    "doc = text_spacy\n",
    "for token in doc:\n",
    "    print(token)"
   ]
  },
  {
   "cell_type": "code",
   "execution_count": 37,
   "metadata": {},
   "outputs": [
    {
     "data": {
      "text/plain": [
       "array([Η Python είναι διερμηνευόμενη (interprited), γενικού σκοπού (general-purpose) και υψηλού επιπέδου, γλώσσα προγραμματισμού.,\n",
       "       Δημιουργήθηκε από τον Ολλανδό Γκίντο βαν Ρόσσουμ (Guido van Rossum) στο ερευνητικό, Ο κύριος στόχος της είναι η αναγνωσιμότητα του κώδικά της και η ευκολία χρήσης της.,\n",
       "       Το συντακτικό της επιτρέπει.], dtype=object)"
      ]
     },
     "execution_count": 37,
     "metadata": {},
     "output_type": "execute_result"
    }
   ],
   "source": [
    "sents = np.array(list(text_spacy.sents))\n",
    "sents"
   ]
  },
  {
   "cell_type": "code",
   "execution_count": 38,
   "metadata": {},
   "outputs": [
    {
     "data": {
      "text/plain": [
       "array([list(['Η', 'Python', 'είναι', 'διερμηνευόμενη', '(', 'interprited', ')', ',', 'γενικού', 'σκοπού', '(', 'general-purpose', ')', 'και', 'υψηλού', 'επιπέδου', ',', 'γλώσσα', 'προγραμματισμού', '.']),\n",
       "       list(['Δημιουργήθηκε', 'από', 'τον', 'Ολλανδό', 'Γκίντο', 'βαν', 'Ρόσσουμ', '(', 'Guido', 'van', 'Rossum', ')', 'στο', 'ερευνητικό', ',', 'Ο', 'κύριος', 'στόχος', 'της', 'είναι', 'η', 'αναγνωσιμότητα', 'του', 'κώδικά', 'της', 'και', 'η', 'ευκολία', 'χρήσης', 'της', '.']),\n",
       "       list(['Το', 'συντακτικό', 'της', 'επιτρέπει', '.'])], dtype=object)"
      ]
     },
     "execution_count": 38,
     "metadata": {},
     "output_type": "execute_result"
    }
   ],
   "source": [
    "sent_words = [[word.text for word in sent] for sent in sents]\n",
    "np.array(sent_words)"
   ]
  },
  {
   "cell_type": "code",
   "execution_count": 39,
   "metadata": {},
   "outputs": [
    {
     "data": {
      "text/plain": [
       "array(['Η', 'Python', 'είναι', 'διερμηνευόμενη', '(', 'interprited', ')',\n",
       "       ',', 'γενικού', 'σκοπού', '(', 'general-purpose', ')', 'και',\n",
       "       'υψηλού', 'επιπέδου', ',', 'γλώσσα', 'προγραμματισμού', '.',\n",
       "       'Δημιουργήθηκε', 'από', 'τον', 'Ολλανδό', 'Γκίντο', 'βαν',\n",
       "       'Ρόσσουμ', '(', 'Guido', 'van', 'Rossum', ')', 'στο', 'ερευνητικό',\n",
       "       ',', 'Ο', 'κύριος', 'στόχος', 'της', 'είναι', 'η',\n",
       "       'αναγνωσιμότητα', 'του', 'κώδικά', 'της', 'και', 'η', 'ευκολία',\n",
       "       'χρήσης', 'της', '.', 'Το', 'συντακτικό', 'της', 'επιτρέπει', '.'],\n",
       "      dtype='<U15')"
      ]
     },
     "execution_count": 39,
     "metadata": {},
     "output_type": "execute_result"
    }
   ],
   "source": [
    "words = [word.text for word in text_spacy]\n",
    "np.array(words)"
   ]
  },
  {
   "cell_type": "markdown",
   "metadata": {},
   "source": [
    "# Removing Accented Characters"
   ]
  },
  {
   "cell_type": "code",
   "execution_count": 51,
   "metadata": {},
   "outputs": [
    {
     "data": {
      "text/plain": [
       "\"οτ~ανΕ'''Κ΄Κ;E;e~e\""
      ]
     },
     "execution_count": 51,
     "metadata": {},
     "output_type": "execute_result"
    }
   ],
   "source": [
    "import unicodedata\n",
    "def strip_accents(s):\n",
    "   return ''.join(c for c in unicodedata.normalize('NFD', s)\n",
    "                  if unicodedata.category(c) != 'Mn')\n",
    "\n",
    "strip_accents(u\"ότ~ανΈ'''Κ΄Κ;E;e~e\")"
   ]
  },
  {
   "cell_type": "code",
   "execution_count": 286,
   "metadata": {},
   "outputs": [
    {
     "data": {
      "text/plain": [
       "';otanοταν ε πΙι'"
      ]
     },
     "execution_count": 286,
     "metadata": {},
     "output_type": "execute_result"
    }
   ],
   "source": [
    "import unicodedata\n",
    "\n",
    "def remove_accents(input_str):\n",
    "    nfkd_form = unicodedata.normalize('NFKD', input_str)\n",
    "    return u\"\".join([c for c in nfkd_form if not unicodedata.combining(c)])\n",
    "\n",
    "remove_accents(\";otanόταν¨ε¨πΪϊ\")"
   ]
  },
  {
   "cell_type": "code",
   "execution_count": 282,
   "metadata": {},
   "outputs": [
    {
     "data": {
      "text/plain": [
       "'montreal_uber_1289_mere_francoise_noel_889_'"
      ]
     },
     "execution_count": 282,
     "metadata": {},
     "output_type": "execute_result"
    }
   ],
   "source": [
    "import re\n",
    "import unicodedata\n",
    "\n",
    "def strip_accents(text):\n",
    "    \"\"\"\n",
    "    Strip accents from input String.\n",
    "\n",
    "    :param text: The input string.\n",
    "    :type text: String.\n",
    "\n",
    "    :returns: The processed String.\n",
    "    :rtype: String.\n",
    "    \"\"\"\n",
    "    try:\n",
    "        text = unicode(text, 'utf-8')\n",
    "    except (TypeError, NameError): # unicode is a default on python 3 \n",
    "        pass\n",
    "    text = unicodedata.normalize('NFD', text)\n",
    "    text = text.encode('ascii', 'ignore')\n",
    "    text = text.decode(\"utf-8\")\n",
    "    return str(text)\n",
    "\n",
    "def text_to_id(text):\n",
    "    \"\"\"\n",
    "    Convert input text to id.\n",
    "\n",
    "    :param text: The input string.\n",
    "    :type text: String.\n",
    "\n",
    "    :returns: The processed String.\n",
    "    :rtype: String.\n",
    "    \"\"\"\n",
    "    text = strip_accents(text.lower())\n",
    "    text = re.sub('[ ]+', '_', text)\n",
    "    text = re.sub('[^0-9α-ωΑ-Ωa-zA-Z_-]', '', text)\n",
    "    return text\n",
    "\n",
    "text_to_id(\"Montréal, über, 12.89, Mère, Françoise, noël, 889, μέρα\")"
   ]
  },
  {
   "cell_type": "code",
   "execution_count": 281,
   "metadata": {},
   "outputs": [
    {
     "ename": "TypeError",
     "evalue": "name() argument 1 must be a unicode character, not str",
     "output_type": "error",
     "traceback": [
      "\u001b[1;31m---------------------------------------------------------------------------\u001b[0m",
      "\u001b[1;31mTypeError\u001b[0m                                 Traceback (most recent call last)",
      "\u001b[1;32m<ipython-input-281-0393ffe63d23>\u001b[0m in \u001b[0;36m<module>\u001b[1;34m\u001b[0m\n\u001b[0;32m     16\u001b[0m     \u001b[1;32mreturn\u001b[0m \u001b[0mchar\u001b[0m\u001b[1;33m\u001b[0m\u001b[1;33m\u001b[0m\u001b[0m\n\u001b[0;32m     17\u001b[0m \u001b[1;33m\u001b[0m\u001b[0m\n\u001b[1;32m---> 18\u001b[1;33m \u001b[0mrmdiacritics\u001b[0m \u001b[1;33m(\u001b[0m\u001b[1;34m\"ϊι\"\u001b[0m\u001b[1;33m)\u001b[0m\u001b[1;33m\u001b[0m\u001b[1;33m\u001b[0m\u001b[0m\n\u001b[0m",
      "\u001b[1;32m<ipython-input-281-0393ffe63d23>\u001b[0m in \u001b[0;36mrmdiacritics\u001b[1;34m(char)\u001b[0m\n\u001b[0;32m      6\u001b[0m     \u001b[0mdiacritics\u001b[0m \u001b[0mlike\u001b[0m \u001b[0maccents\u001b[0m \u001b[1;32mor\u001b[0m \u001b[0mcurls\u001b[0m \u001b[1;32mand\u001b[0m \u001b[0mstrokes\u001b[0m \u001b[1;32mand\u001b[0m \u001b[0mthe\u001b[0m \u001b[0mlike\u001b[0m\u001b[1;33m.\u001b[0m\u001b[1;33m\u001b[0m\u001b[1;33m\u001b[0m\u001b[0m\n\u001b[0;32m      7\u001b[0m     '''\n\u001b[1;32m----> 8\u001b[1;33m     \u001b[0mdesc\u001b[0m \u001b[1;33m=\u001b[0m \u001b[0mud\u001b[0m\u001b[1;33m.\u001b[0m\u001b[0mname\u001b[0m\u001b[1;33m(\u001b[0m\u001b[0mchar\u001b[0m\u001b[1;33m)\u001b[0m\u001b[1;33m\u001b[0m\u001b[1;33m\u001b[0m\u001b[0m\n\u001b[0m\u001b[0;32m      9\u001b[0m     \u001b[0mcutoff\u001b[0m \u001b[1;33m=\u001b[0m \u001b[0mdesc\u001b[0m\u001b[1;33m.\u001b[0m\u001b[0mfind\u001b[0m\u001b[1;33m(\u001b[0m\u001b[1;34m' WITH '\u001b[0m\u001b[1;33m)\u001b[0m\u001b[1;33m\u001b[0m\u001b[1;33m\u001b[0m\u001b[0m\n\u001b[0;32m     10\u001b[0m     \u001b[1;32mif\u001b[0m \u001b[0mcutoff\u001b[0m \u001b[1;33m!=\u001b[0m \u001b[1;33m-\u001b[0m\u001b[1;36m1\u001b[0m\u001b[1;33m:\u001b[0m\u001b[1;33m\u001b[0m\u001b[1;33m\u001b[0m\u001b[0m\n",
      "\u001b[1;31mTypeError\u001b[0m: name() argument 1 must be a unicode character, not str"
     ]
    }
   ],
   "source": [
    "import unicodedata as ud\n",
    "\n",
    "def rmdiacritics(char):\n",
    "    '''\n",
    "    Return the base character of char, by \"removing\" any\n",
    "    diacritics like accents or curls and strokes and the like.\n",
    "    '''\n",
    "    desc = ud.name(char)\n",
    "    cutoff = desc.find(' WITH ')\n",
    "    if cutoff != -1:\n",
    "        desc = desc[:cutoff]\n",
    "        try:\n",
    "            char = ud.lookup(desc)\n",
    "        except KeyError:\n",
    "            pass  # removing \"WITH ...\" produced an invalid name\n",
    "    return char\n",
    "\n",
    "rmdiacritics (\"ϊ\")"
   ]
  },
  {
   "cell_type": "code",
   "execution_count": 280,
   "metadata": {},
   "outputs": [
    {
     "data": {
      "text/plain": [
       "'Some Accented text  '"
      ]
     },
     "execution_count": 280,
     "metadata": {},
     "output_type": "execute_result"
    }
   ],
   "source": [
    "# English language\n",
    "import unicodedata\n",
    "\n",
    "def remove_accented_chars(text):\n",
    "    text = unicodedata.normalize('NFKD', text).encode('ascii', 'ignore').decode('utf-8', 'ignore')\n",
    "    return text\n",
    "\n",
    "remove_accented_chars('Sómě Áccěntěd těxt μια χαρά')"
   ]
  },
  {
   "cell_type": "markdown",
   "metadata": {},
   "source": [
    "# Expanding Contractions"
   ]
  },
  {
   "cell_type": "code",
   "execution_count": 5,
   "metadata": {},
   "outputs": [
    {
     "name": "stdout",
     "output_type": "stream",
     "text": [
      "Hey I am Yann, how are you and how is it going ? That is interesting: I would love to hear more about it.ασ΄τον\n"
     ]
    }
   ],
   "source": [
    "# -*- coding: utf-8 -*-\n",
    "\n",
    "import re\n",
    "\n",
    "def decontracted(phrase):\n",
    "    # specific\n",
    "    phrase = re.sub(r\"won\\'t\", \"will not\", phrase)\n",
    "    phrase = re.sub(r\"can\\'t\", \"can not\", phrase)\n",
    "    phrase = re.sub(r\"ασ\\'τον\", \"ασετον\", phrase)\n",
    "\n",
    "    # general\n",
    "    phrase = re.sub(r\"n\\'t\", \" not\", phrase)\n",
    "    phrase = re.sub(r\"\\'re\", \" are\", phrase)\n",
    "    phrase = re.sub(r\"\\'s\", \" is\", phrase)\n",
    "    phrase = re.sub(r\"\\'d\", \" would\", phrase)\n",
    "    phrase = re.sub(r\"\\'ll\", \" will\", phrase)\n",
    "    phrase = re.sub(r\"\\'t\", \" not\", phrase)\n",
    "    phrase = re.sub(r\"\\'ve\", \" have\", phrase)\n",
    "    phrase = re.sub(r\"\\'m\", \" am\", phrase)\n",
    "    return phrase\n",
    "\n",
    "\n",
    "test = \"Hey I'm Yann, how're you and how's it going ? That's interesting: I'd love to hear more about it.ασ΄τον\"\n",
    "print(decontracted(test))"
   ]
  },
  {
   "cell_type": "code",
   "execution_count": 278,
   "metadata": {},
   "outputs": [],
   "source": [
    "# a vocabulary for contractions and their corresponding expanded forms, which you can\n",
    "# access in the file named contractions.py in a Python dictionary\n",
    "from contractions1 import CONTRACTION_MAP\n",
    "import re\n",
    "\n",
    "def expand_contractions(text, contraction_mapping=CONTRACTION_MAP):\n",
    "    \n",
    "    contractions_pattern = re.compile('({})'.format('|'.join(contraction_mapping.keys())), \n",
    "                                      flags=re.IGNORECASE|re.DOTALL)\n",
    "    def expand_match(contraction):\n",
    "        match = contraction.group(0)\n",
    "        first_char = match[0]\n",
    "        expanded_contraction = contraction_mapping.get(match)\\\n",
    "                                if contraction_mapping.get(match)\\\n",
    "                                else contraction_mapping.get(match.lower())                       \n",
    "        expanded_contraction = first_char+expanded_contraction[1:]\n",
    "        return expanded_contraction\n",
    "        \n",
    "    expanded_text = contractions_pattern.sub(expand_match, text)\n",
    "    expanded_text = re.sub(\"'\", \"\", expanded_text)\n",
    "    return expanded_text"
   ]
  },
  {
   "cell_type": "code",
   "execution_count": 279,
   "metadata": {},
   "outputs": [
    {
     "data": {
      "text/plain": [
       "'You all cannot expand contractions I would think σ΄εχω'"
      ]
     },
     "execution_count": 279,
     "metadata": {},
     "output_type": "execute_result"
    }
   ],
   "source": [
    "# On matching any contraction, we substitute it with its corresponding expanded version and retain the\n",
    "# correct case of the word.\n",
    "expand_contractions(\"Y'all can't expand contractions I'd think σ΄εχω\")"
   ]
  },
  {
   "cell_type": "markdown",
   "metadata": {},
   "source": [
    "# Removing Special Characters"
   ]
  },
  {
   "cell_type": "code",
   "execution_count": 288,
   "metadata": {},
   "outputs": [
    {
     "data": {
      "text/plain": [
       "'Well this was fun What do you think όμΟρφα'"
      ]
     },
     "execution_count": 288,
     "metadata": {},
     "output_type": "execute_result"
    }
   ],
   "source": [
    "# simple regular expressions (regexes) can be used to remove them.\n",
    "def remove_special_characters(text, remove_digits=False):\n",
    "    pattern = r'[^a-zA-zα-ωΑ-Ωάέίόώήύ0-9\\s]' if not remove_digits else r'[^a-zA-zα-ωΑ-Ωάέίόώήύ\\s]'\n",
    "    text = re.sub(pattern, '', text)\n",
    "    return text\n",
    "\n",
    "remove_special_characters(\"Well this was fun! What do you think? 123#@!όμΟρφα\", \n",
    "                          remove_digits=True)"
   ]
  },
  {
   "cell_type": "markdown",
   "metadata": {},
   "source": [
    "# Case conversion"
   ]
  },
  {
   "cell_type": "code",
   "execution_count": 81,
   "metadata": {},
   "outputs": [
    {
     "data": {
      "text/plain": [
       "'the quick brown fox jumped over the big dog καλοκαιράκι βραδυνό μπανάκι'"
      ]
     },
     "execution_count": 81,
     "metadata": {},
     "output_type": "execute_result"
    }
   ],
   "source": [
    "text = 'The quick brown fox jumped over The Big Dog Καλοκαιράκι Βραδυνό μπανάκι'\n",
    "text.lower()"
   ]
  },
  {
   "cell_type": "code",
   "execution_count": 82,
   "metadata": {},
   "outputs": [
    {
     "data": {
      "text/plain": [
       "'THE QUICK BROWN FOX JUMPED OVER THE BIG DOG ΚΑΛΟΚΑΙΡΆΚΙ ΒΡΑΔΥΝΌ ΜΠΑΝΆΚΙ'"
      ]
     },
     "execution_count": 82,
     "metadata": {},
     "output_type": "execute_result"
    }
   ],
   "source": [
    "text.upper()"
   ]
  },
  {
   "cell_type": "code",
   "execution_count": 83,
   "metadata": {},
   "outputs": [
    {
     "data": {
      "text/plain": [
       "'The Quick Brown Fox Jumped Over The Big Dog Καλοκαιράκι Βραδυνό Μπανάκι'"
      ]
     },
     "execution_count": 83,
     "metadata": {},
     "output_type": "execute_result"
    }
   ],
   "source": [
    "text.title()"
   ]
  },
  {
   "cell_type": "markdown",
   "metadata": {},
   "source": [
    "# Text Correction"
   ]
  },
  {
   "cell_type": "markdown",
   "metadata": {},
   "source": [
    "## Correcting repeating characters"
   ]
  },
  {
   "cell_type": "code",
   "execution_count": 85,
   "metadata": {},
   "outputs": [
    {
     "name": "stdout",
     "output_type": "stream",
     "text": [
      "Step: 1 Word: finalllyyyομμορφφφαέέέ\n",
      "Step: 2 Word: finalllyyyομμορφφφαέέ\n",
      "Step: 3 Word: finalllyyyομμορφφφαέ\n",
      "Step: 4 Word: finalllyyyομμορφφαέ\n",
      "Step: 5 Word: finalllyyyομμορφαέ\n",
      "Step: 6 Word: finalllyyyομορφαέ\n",
      "Step: 7 Word: finalllyyομορφαέ\n",
      "Step: 8 Word: finalllyομορφαέ\n",
      "Step: 9 Word: finallyομορφαέ\n",
      "Step: 10 Word: finalyομορφαέ\n",
      "Final word: finalyομορφαέ\n"
     ]
    }
   ],
   "source": [
    "# we keep iterating through this process until no repeated characters remain\n",
    "old_word = 'finalllyyyομμορφφφαέέέέ'\n",
    "repeat_pattern = re.compile(r'(\\w*)(\\w)\\2(\\w*)')\n",
    "match_substitution = r'\\1\\2\\3'\n",
    "step = 1\n",
    "\n",
    "while True:\n",
    "    # remove one repeated character\n",
    "    new_word = repeat_pattern.sub(match_substitution,\n",
    "                                  old_word)\n",
    "    if new_word != old_word:\n",
    "         print('Step: {} Word: {}'.format(step, new_word))\n",
    "         step += 1 # update step\n",
    "         # update old word to last substituted state\n",
    "         old_word = new_word  \n",
    "         continue\n",
    "    else:\n",
    "         print(\"Final word:\", new_word)\n",
    "         break"
   ]
  },
  {
   "cell_type": "code",
   "execution_count": 97,
   "metadata": {},
   "outputs": [
    {
     "ename": "NameError",
     "evalue": "name 'wn' is not defined",
     "output_type": "error",
     "traceback": [
      "\u001b[1;31m---------------------------------------------------------------------------\u001b[0m",
      "\u001b[1;31mNameError\u001b[0m                                 Traceback (most recent call last)",
      "\u001b[1;32m<ipython-input-97-592eb51b2400>\u001b[0m in \u001b[0;36m<module>\u001b[1;34m\u001b[0m\n\u001b[1;32m----> 1\u001b[1;33m \u001b[0msorted\u001b[0m\u001b[1;33m(\u001b[0m\u001b[0mwn\u001b[0m\u001b[1;33m.\u001b[0m\u001b[0mlangs\u001b[0m\u001b[1;33m(\u001b[0m\u001b[1;33m)\u001b[0m\u001b[1;33m)\u001b[0m\u001b[1;33m\u001b[0m\u001b[1;33m\u001b[0m\u001b[0m\n\u001b[0m",
      "\u001b[1;31mNameError\u001b[0m: name 'wn' is not defined"
     ]
    }
   ],
   "source": [
    "sorted(wn.langs())"
   ]
  },
  {
   "cell_type": "code",
   "execution_count": 275,
   "metadata": {},
   "outputs": [
    {
     "name": "stdout",
     "output_type": "stream",
     "text": [
      "['als', 'arb', 'bul', 'cat', 'cmn', 'dan', 'ell', 'eng', 'eus', 'fas', 'fin', 'fra', 'glg', 'heb', 'hrv', 'ind', 'ita', 'jpn', 'nld', 'nno', 'nob', 'pol', 'por', 'qcn', 'slv', 'spa', 'swe', 'tha', 'zsm']\n",
      "Step: 1 Word: διάλειμμμμμα\n",
      "Step: 2 Word: διάλειμμμμα\n",
      "Step: 3 Word: διάλειμμμα\n",
      "Step: 4 Word: διάλειμμα\n",
      "Final correct word: διάλειμμα\n"
     ]
    }
   ],
   "source": [
    "# We will now utilize the WordNet corpus to check for valid words at each stage and terminate the loop once it is obtained.\n",
    "# This introduces the semantic correction needed for our algorithm...adhering to both syntax and semantics\n",
    "from nltk.corpus import wordnet as wn\n",
    "print (sorted(wn.langs()))\n",
    "# old_word = 'finalllyyy'\n",
    "old_word = 'διάλειμμμμμμα'\n",
    "\n",
    "repeat_pattern = re.compile(r'(\\w*)(\\w)\\2(\\w*)')\n",
    "match_substitution = r'\\1\\2\\3'\n",
    "step = 1\n",
    "\n",
    "# import el_core_news_md\n",
    "# nlp = el_core_news_md.load()\n",
    "\n",
    "while True:\n",
    "    # check for semantically correct word\n",
    "    # if wordnet.synsets(old_word):\n",
    "    # if nlp(old_word):\n",
    "    if wordnet.synsets(old_word, lang='ell'):\n",
    "        print(\"Final correct word:\", old_word)\n",
    "        break\n",
    "    # remove one repeated character\n",
    "    new_word = repeat_pattern.sub(match_substitution,\n",
    "                                  old_word)\n",
    "    if new_word != old_word:\n",
    "        print('Step: {} Word: {}'.format(step, new_word))\n",
    "        step += 1 # update step\n",
    "        # update old word to last substituted state\n",
    "        old_word = new_word  \n",
    "        continue\n",
    "    else:\n",
    "        print(\"Final word:\", new_word)\n",
    "        break"
   ]
  },
  {
   "cell_type": "code",
   "execution_count": 103,
   "metadata": {},
   "outputs": [],
   "source": [
    "# writing the logic in a function, as depicted here, to make it\n",
    "# more generic to deal with incorrect tokens from a list of tokens.\n",
    "from nltk.corpus import wordnet\n",
    "\n",
    "def remove_repeated_characters(tokens):\n",
    "    repeat_pattern = re.compile(r'(\\w*)(\\w)\\2(\\w*)')\n",
    "    match_substitution = r'\\1\\2\\3'\n",
    "    def replace(old_word):\n",
    "        if wordnet.synsets(old_word, lang='ell'):\n",
    "            return old_word\n",
    "        new_word = repeat_pattern.sub(match_substitution, old_word)\n",
    "        return replace(new_word) if new_word != old_word else new_word\n",
    "            \n",
    "    correct_tokens = [replace(word) for word in tokens]\n",
    "    return correct_tokens"
   ]
  },
  {
   "cell_type": "code",
   "execution_count": 105,
   "metadata": {},
   "outputs": [
    {
     "data": {
      "text/plain": [
       "'άλλος άμμος διάλειμμα'"
      ]
     },
     "execution_count": 105,
     "metadata": {},
     "output_type": "execute_result"
    }
   ],
   "source": [
    "sample_sentence = 'άλλλλλος άμμμος διάλειμμμμα'\n",
    "correct_tokens = remove_repeated_characters(nltk.word_tokenize(sample_sentence))\n",
    "' '.join(correct_tokens)"
   ]
  },
  {
   "cell_type": "markdown",
   "metadata": {},
   "source": [
    "## Correcting spellings"
   ]
  },
  {
   "cell_type": "code",
   "execution_count": 244,
   "metadata": {},
   "outputs": [
    {
     "data": {
      "text/plain": [
       "[('το', 11),\n",
       " ('της', 11),\n",
       " ('η', 10),\n",
       " ('και', 10),\n",
       " ('python', 9),\n",
       " ('ε', 8),\n",
       " ('ναι', 8),\n",
       " ('κ', 8),\n",
       " ('σε', 8),\n",
       " ('ς', 7),\n",
       " ('γλ', 6),\n",
       " ('απ', 6),\n",
       " ('για', 6),\n",
       " ('των', 5),\n",
       " ('τι', 5),\n",
       " ('την', 5),\n",
       " ('programming', 4),\n",
       " ('του', 4),\n",
       " ('α', 4),\n",
       " ('προγραμματισμο', 3)]"
      ]
     },
     "execution_count": 244,
     "metadata": {},
     "output_type": "execute_result"
    }
   ],
   "source": [
    "import re, collections\n",
    "\n",
    "def tokens(text): \n",
    "    \"\"\"\n",
    "    Get all words from the corpus\n",
    "    \"\"\"\n",
    "    return re.findall('[a-zα-ω]+', text.lower()) \n",
    "\n",
    "import codecs\n",
    "with codecs.open(\"big1.txt\", \"r\", encoding=\"utf-8\") as fd:\n",
    "    text = fd.read()\n",
    "WORDS = tokens(text)\n",
    "\n",
    "# WORDS = tokens(open('big.txt').read())\n",
    "WORD_COUNTS = collections.Counter(WORDS)\n",
    "# top 10 words in corpus\n",
    "WORD_COUNTS.most_common(20)"
   ]
  },
  {
   "cell_type": "code",
   "execution_count": 245,
   "metadata": {},
   "outputs": [],
   "source": [
    "# These edits can be made by the means of insertions, deletions, additions, and transpositions\n",
    "def edits0(word): \n",
    "    \"\"\"\n",
    "    Return all strings that are zero edits away \n",
    "    from the input word (i.e., the word itself).\n",
    "    \"\"\"\n",
    "    return {word}\n",
    "\n",
    "\n",
    "\n",
    "def edits1(word):\n",
    "    \"\"\"\n",
    "    Return all strings that are one edit away \n",
    "    from the input word.\n",
    "    \"\"\"\n",
    "#     alphabet = 'abcdefghijklmnopqrstuvwxyz'\n",
    "    alphabet = 'αβγδεζηθικλμνξοπρστυφχψω'\n",
    "\n",
    "    def splits(word):\n",
    "        \"\"\"\n",
    "        Return a list of all possible (first, rest) pairs \n",
    "        that the input word is made of.\n",
    "        \"\"\"\n",
    "        return [(word[:i], word[i:]) \n",
    "                for i in range(len(word)+1)]\n",
    "                \n",
    "    pairs      = splits(word)\n",
    "    deletes    = [a+b[1:]           for (a, b) in pairs if b]\n",
    "    transposes = [a+b[1]+b[0]+b[2:] for (a, b) in pairs if len(b) > 1]\n",
    "    replaces   = [a+c+b[1:]         for (a, b) in pairs for c in alphabet if b]\n",
    "    inserts    = [a+c+b             for (a, b) in pairs for c in alphabet]\n",
    "    return set(deletes + transposes + replaces + inserts)\n",
    "\n",
    "\n",
    "def edits2(word):\n",
    "    \"\"\"Return all strings that are two edits away \n",
    "    from the input word.\n",
    "    \"\"\"\n",
    "    return {e2 for e1 in edits1(word) for e2 in edits1(e1)}"
   ]
  },
  {
   "cell_type": "code",
   "execution_count": 246,
   "metadata": {},
   "outputs": [],
   "source": [
    "def known(words):\n",
    "    \"\"\"\n",
    "    Return the subset of words that are actually \n",
    "    in our WORD_COUNTS dictionary.\n",
    "    \"\"\"\n",
    "    return {w for w in words if w in WORD_COUNTS}"
   ]
  },
  {
   "cell_type": "code",
   "execution_count": 247,
   "metadata": {},
   "outputs": [
    {
     "data": {
      "text/plain": [
       "{'προγραμματισμ'}"
      ]
     },
     "execution_count": 247,
     "metadata": {},
     "output_type": "execute_result"
    }
   ],
   "source": [
    "# see these functions in action\n",
    "# input word\n",
    "word = 'προγραμματισμ'\n",
    "\n",
    "# zero edit distance from input word\n",
    "edits0(word)"
   ]
  },
  {
   "cell_type": "code",
   "execution_count": 248,
   "metadata": {},
   "outputs": [
    {
     "data": {
      "text/plain": [
       "set()"
      ]
     },
     "execution_count": 248,
     "metadata": {},
     "output_type": "execute_result"
    }
   ],
   "source": [
    "# returns null set since it is not a valid word\n",
    "known(edits0(word))"
   ]
  },
  {
   "cell_type": "code",
   "execution_count": 249,
   "metadata": {},
   "outputs": [
    {
     "data": {
      "text/plain": [
       "{'απρογραμματισμ',\n",
       " 'αρογραμματισμ',\n",
       " 'βπρογραμματισμ',\n",
       " 'βρογραμματισμ',\n",
       " 'γπρογραμματισμ',\n",
       " 'γρογραμματισμ',\n",
       " 'δπρογραμματισμ',\n",
       " 'δρογραμματισμ',\n",
       " 'επρογραμματισμ',\n",
       " 'ερογραμματισμ',\n",
       " 'ζπρογραμματισμ',\n",
       " 'ζρογραμματισμ',\n",
       " 'ηπρογραμματισμ',\n",
       " 'ηρογραμματισμ',\n",
       " 'θπρογραμματισμ',\n",
       " 'θρογραμματισμ',\n",
       " 'ιπρογραμματισμ',\n",
       " 'ιρογραμματισμ',\n",
       " 'κπρογραμματισμ',\n",
       " 'κρογραμματισμ',\n",
       " 'λπρογραμματισμ',\n",
       " 'λρογραμματισμ',\n",
       " 'μπρογραμματισμ',\n",
       " 'μρογραμματισμ',\n",
       " 'νπρογραμματισμ',\n",
       " 'νρογραμματισμ',\n",
       " 'ξπρογραμματισμ',\n",
       " 'ξρογραμματισμ',\n",
       " 'οπρογραμματισμ',\n",
       " 'ορογραμματισμ',\n",
       " 'παογραμματισμ',\n",
       " 'παρογραμματισμ',\n",
       " 'πβογραμματισμ',\n",
       " 'πβρογραμματισμ',\n",
       " 'πγογραμματισμ',\n",
       " 'πγρογραμματισμ',\n",
       " 'πδογραμματισμ',\n",
       " 'πδρογραμματισμ',\n",
       " 'πεογραμματισμ',\n",
       " 'περογραμματισμ',\n",
       " 'πζογραμματισμ',\n",
       " 'πζρογραμματισμ',\n",
       " 'πηογραμματισμ',\n",
       " 'πηρογραμματισμ',\n",
       " 'πθογραμματισμ',\n",
       " 'πθρογραμματισμ',\n",
       " 'πιογραμματισμ',\n",
       " 'πιρογραμματισμ',\n",
       " 'πκογραμματισμ',\n",
       " 'πκρογραμματισμ',\n",
       " 'πλογραμματισμ',\n",
       " 'πλρογραμματισμ',\n",
       " 'πμογραμματισμ',\n",
       " 'πμρογραμματισμ',\n",
       " 'πνογραμματισμ',\n",
       " 'πνρογραμματισμ',\n",
       " 'πξογραμματισμ',\n",
       " 'πξρογραμματισμ',\n",
       " 'πογραμματισμ',\n",
       " 'ποογραμματισμ',\n",
       " 'ποργραμματισμ',\n",
       " 'πορογραμματισμ',\n",
       " 'ππογραμματισμ',\n",
       " 'ππρογραμματισμ',\n",
       " 'πραγραμματισμ',\n",
       " 'πραογραμματισμ',\n",
       " 'πρβγραμματισμ',\n",
       " 'πρβογραμματισμ',\n",
       " 'πργγραμματισμ',\n",
       " 'πργογραμματισμ',\n",
       " 'πργοραμματισμ',\n",
       " 'πργραμματισμ',\n",
       " 'πρδγραμματισμ',\n",
       " 'πρδογραμματισμ',\n",
       " 'πρεγραμματισμ',\n",
       " 'πρεογραμματισμ',\n",
       " 'πρζγραμματισμ',\n",
       " 'πρζογραμματισμ',\n",
       " 'πρηγραμματισμ',\n",
       " 'πρηογραμματισμ',\n",
       " 'πρθγραμματισμ',\n",
       " 'πρθογραμματισμ',\n",
       " 'πριγραμματισμ',\n",
       " 'πριογραμματισμ',\n",
       " 'πρκγραμματισμ',\n",
       " 'πρκογραμματισμ',\n",
       " 'πρλγραμματισμ',\n",
       " 'πρλογραμματισμ',\n",
       " 'πρμγραμματισμ',\n",
       " 'πρμογραμματισμ',\n",
       " 'πρνγραμματισμ',\n",
       " 'πρνογραμματισμ',\n",
       " 'πρξγραμματισμ',\n",
       " 'πρξογραμματισμ',\n",
       " 'προαγραμματισμ',\n",
       " 'προαραμματισμ',\n",
       " 'προβγραμματισμ',\n",
       " 'προβραμματισμ',\n",
       " 'προγααμματισμ',\n",
       " 'προγαμματισμ',\n",
       " 'προγαραμματισμ',\n",
       " 'προγαρμματισμ',\n",
       " 'προγβαμματισμ',\n",
       " 'προγβραμματισμ',\n",
       " 'προγγαμματισμ',\n",
       " 'προγγραμματισμ',\n",
       " 'προγδαμματισμ',\n",
       " 'προγδραμματισμ',\n",
       " 'προγεαμματισμ',\n",
       " 'προγεραμματισμ',\n",
       " 'προγζαμματισμ',\n",
       " 'προγζραμματισμ',\n",
       " 'προγηαμματισμ',\n",
       " 'προγηραμματισμ',\n",
       " 'προγθαμματισμ',\n",
       " 'προγθραμματισμ',\n",
       " 'προγιαμματισμ',\n",
       " 'προγιραμματισμ',\n",
       " 'προγκαμματισμ',\n",
       " 'προγκραμματισμ',\n",
       " 'προγλαμματισμ',\n",
       " 'προγλραμματισμ',\n",
       " 'προγμαμματισμ',\n",
       " 'προγμραμματισμ',\n",
       " 'προγναμματισμ',\n",
       " 'προγνραμματισμ',\n",
       " 'προγξαμματισμ',\n",
       " 'προγξραμματισμ',\n",
       " 'προγοαμματισμ',\n",
       " 'προγοραμματισμ',\n",
       " 'προγπαμματισμ',\n",
       " 'προγπραμματισμ',\n",
       " 'προγρααματισμ',\n",
       " 'προγρααμματισμ',\n",
       " 'προγραβματισμ',\n",
       " 'προγραβμματισμ',\n",
       " 'προγραγματισμ',\n",
       " 'προγραγμματισμ',\n",
       " 'προγραδματισμ',\n",
       " 'προγραδμματισμ',\n",
       " 'προγραεματισμ',\n",
       " 'προγραεμματισμ',\n",
       " 'προγραζματισμ',\n",
       " 'προγραζμματισμ',\n",
       " 'προγραηματισμ',\n",
       " 'προγραημματισμ',\n",
       " 'προγραθματισμ',\n",
       " 'προγραθμματισμ',\n",
       " 'προγραιματισμ',\n",
       " 'προγραιμματισμ',\n",
       " 'προγρακματισμ',\n",
       " 'προγρακμματισμ',\n",
       " 'προγραλματισμ',\n",
       " 'προγραλμματισμ',\n",
       " 'προγραμαατισμ',\n",
       " 'προγραμαματισμ',\n",
       " 'προγραμαμτισμ',\n",
       " 'προγραματισμ',\n",
       " 'προγραμβατισμ',\n",
       " 'προγραμβματισμ',\n",
       " 'προγραμγατισμ',\n",
       " 'προγραμγματισμ',\n",
       " 'προγραμδατισμ',\n",
       " 'προγραμδματισμ',\n",
       " 'προγραμεατισμ',\n",
       " 'προγραμεματισμ',\n",
       " 'προγραμζατισμ',\n",
       " 'προγραμζματισμ',\n",
       " 'προγραμηατισμ',\n",
       " 'προγραμηματισμ',\n",
       " 'προγραμθατισμ',\n",
       " 'προγραμθματισμ',\n",
       " 'προγραμιατισμ',\n",
       " 'προγραμιματισμ',\n",
       " 'προγραμκατισμ',\n",
       " 'προγραμκματισμ',\n",
       " 'προγραμλατισμ',\n",
       " 'προγραμλματισμ',\n",
       " 'προγραμμααισμ',\n",
       " 'προγραμμαατισμ',\n",
       " 'προγραμμαβισμ',\n",
       " 'προγραμμαβτισμ',\n",
       " 'προγραμμαγισμ',\n",
       " 'προγραμμαγτισμ',\n",
       " 'προγραμμαδισμ',\n",
       " 'προγραμμαδτισμ',\n",
       " 'προγραμμαεισμ',\n",
       " 'προγραμμαετισμ',\n",
       " 'προγραμμαζισμ',\n",
       " 'προγραμμαζτισμ',\n",
       " 'προγραμμαηισμ',\n",
       " 'προγραμμαητισμ',\n",
       " 'προγραμμαθισμ',\n",
       " 'προγραμμαθτισμ',\n",
       " 'προγραμμαιισμ',\n",
       " 'προγραμμαισμ',\n",
       " 'προγραμμαιτισμ',\n",
       " 'προγραμμαιτσμ',\n",
       " 'προγραμμακισμ',\n",
       " 'προγραμμακτισμ',\n",
       " 'προγραμμαλισμ',\n",
       " 'προγραμμαλτισμ',\n",
       " 'προγραμμαμισμ',\n",
       " 'προγραμμαμτισμ',\n",
       " 'προγραμμανισμ',\n",
       " 'προγραμμαντισμ',\n",
       " 'προγραμμαξισμ',\n",
       " 'προγραμμαξτισμ',\n",
       " 'προγραμμαοισμ',\n",
       " 'προγραμμαοτισμ',\n",
       " 'προγραμμαπισμ',\n",
       " 'προγραμμαπτισμ',\n",
       " 'προγραμμαρισμ',\n",
       " 'προγραμμαρτισμ',\n",
       " 'προγραμμασισμ',\n",
       " 'προγραμμαστισμ',\n",
       " 'προγραμματαισμ',\n",
       " 'προγραμματασμ',\n",
       " 'προγραμματβισμ',\n",
       " 'προγραμματβσμ',\n",
       " 'προγραμματγισμ',\n",
       " 'προγραμματγσμ',\n",
       " 'προγραμματδισμ',\n",
       " 'προγραμματδσμ',\n",
       " 'προγραμματεισμ',\n",
       " 'προγραμματεσμ',\n",
       " 'προγραμματζισμ',\n",
       " 'προγραμματζσμ',\n",
       " 'προγραμματηισμ',\n",
       " 'προγραμματησμ',\n",
       " 'προγραμματθισμ',\n",
       " 'προγραμματθσμ',\n",
       " 'προγραμματιαμ',\n",
       " 'προγραμματιασμ',\n",
       " 'προγραμματιβμ',\n",
       " 'προγραμματιβσμ',\n",
       " 'προγραμματιγμ',\n",
       " 'προγραμματιγσμ',\n",
       " 'προγραμματιδμ',\n",
       " 'προγραμματιδσμ',\n",
       " 'προγραμματιεμ',\n",
       " 'προγραμματιεσμ',\n",
       " 'προγραμματιζμ',\n",
       " 'προγραμματιζσμ',\n",
       " 'προγραμματιημ',\n",
       " 'προγραμματιησμ',\n",
       " 'προγραμματιθμ',\n",
       " 'προγραμματιθσμ',\n",
       " 'προγραμματιιμ',\n",
       " 'προγραμματιισμ',\n",
       " 'προγραμματικμ',\n",
       " 'προγραμματικσμ',\n",
       " 'προγραμματιλμ',\n",
       " 'προγραμματιλσμ',\n",
       " 'προγραμματιμ',\n",
       " 'προγραμματιμμ',\n",
       " 'προγραμματιμσ',\n",
       " 'προγραμματιμσμ',\n",
       " 'προγραμματινμ',\n",
       " 'προγραμματινσμ',\n",
       " 'προγραμματιξμ',\n",
       " 'προγραμματιξσμ',\n",
       " 'προγραμματιομ',\n",
       " 'προγραμματιοσμ',\n",
       " 'προγραμματιπμ',\n",
       " 'προγραμματιπσμ',\n",
       " 'προγραμματιρμ',\n",
       " 'προγραμματιρσμ',\n",
       " 'προγραμματισ',\n",
       " 'προγραμματισα',\n",
       " 'προγραμματισαμ',\n",
       " 'προγραμματισβ',\n",
       " 'προγραμματισβμ',\n",
       " 'προγραμματισγ',\n",
       " 'προγραμματισγμ',\n",
       " 'προγραμματισδ',\n",
       " 'προγραμματισδμ',\n",
       " 'προγραμματισε',\n",
       " 'προγραμματισεμ',\n",
       " 'προγραμματισζ',\n",
       " 'προγραμματισζμ',\n",
       " 'προγραμματιση',\n",
       " 'προγραμματισημ',\n",
       " 'προγραμματισθ',\n",
       " 'προγραμματισθμ',\n",
       " 'προγραμματισι',\n",
       " 'προγραμματισιμ',\n",
       " 'προγραμματισκ',\n",
       " 'προγραμματισκμ',\n",
       " 'προγραμματισλ',\n",
       " 'προγραμματισλμ',\n",
       " 'προγραμματισμ',\n",
       " 'προγραμματισμα',\n",
       " 'προγραμματισμβ',\n",
       " 'προγραμματισμγ',\n",
       " 'προγραμματισμδ',\n",
       " 'προγραμματισμε',\n",
       " 'προγραμματισμζ',\n",
       " 'προγραμματισμη',\n",
       " 'προγραμματισμθ',\n",
       " 'προγραμματισμι',\n",
       " 'προγραμματισμκ',\n",
       " 'προγραμματισμλ',\n",
       " 'προγραμματισμμ',\n",
       " 'προγραμματισμν',\n",
       " 'προγραμματισμξ',\n",
       " 'προγραμματισμο',\n",
       " 'προγραμματισμπ',\n",
       " 'προγραμματισμρ',\n",
       " 'προγραμματισμσ',\n",
       " 'προγραμματισμτ',\n",
       " 'προγραμματισμυ',\n",
       " 'προγραμματισμφ',\n",
       " 'προγραμματισμχ',\n",
       " 'προγραμματισμψ',\n",
       " 'προγραμματισμω',\n",
       " 'προγραμματισν',\n",
       " 'προγραμματισνμ',\n",
       " 'προγραμματισξ',\n",
       " 'προγραμματισξμ',\n",
       " 'προγραμματισο',\n",
       " 'προγραμματισομ',\n",
       " 'προγραμματισπ',\n",
       " 'προγραμματισπμ',\n",
       " 'προγραμματισρ',\n",
       " 'προγραμματισρμ',\n",
       " 'προγραμματισσ',\n",
       " 'προγραμματισσμ',\n",
       " 'προγραμματιστ',\n",
       " 'προγραμματιστμ',\n",
       " 'προγραμματισυ',\n",
       " 'προγραμματισυμ',\n",
       " 'προγραμματισφ',\n",
       " 'προγραμματισφμ',\n",
       " 'προγραμματισχ',\n",
       " 'προγραμματισχμ',\n",
       " 'προγραμματισψ',\n",
       " 'προγραμματισψμ',\n",
       " 'προγραμματισω',\n",
       " 'προγραμματισωμ',\n",
       " 'προγραμματιτμ',\n",
       " 'προγραμματιτσμ',\n",
       " 'προγραμματιυμ',\n",
       " 'προγραμματιυσμ',\n",
       " 'προγραμματιφμ',\n",
       " 'προγραμματιφσμ',\n",
       " 'προγραμματιχμ',\n",
       " 'προγραμματιχσμ',\n",
       " 'προγραμματιψμ',\n",
       " 'προγραμματιψσμ',\n",
       " 'προγραμματιωμ',\n",
       " 'προγραμματιωσμ',\n",
       " 'προγραμματκισμ',\n",
       " 'προγραμματκσμ',\n",
       " 'προγραμματλισμ',\n",
       " 'προγραμματλσμ',\n",
       " 'προγραμματμισμ',\n",
       " 'προγραμματμσμ',\n",
       " 'προγραμματνισμ',\n",
       " 'προγραμματνσμ',\n",
       " 'προγραμματξισμ',\n",
       " 'προγραμματξσμ',\n",
       " 'προγραμματοισμ',\n",
       " 'προγραμματοσμ',\n",
       " 'προγραμματπισμ',\n",
       " 'προγραμματπσμ',\n",
       " 'προγραμματρισμ',\n",
       " 'προγραμματρσμ',\n",
       " 'προγραμματσιμ',\n",
       " 'προγραμματσισμ',\n",
       " 'προγραμματσμ',\n",
       " 'προγραμματσσμ',\n",
       " 'προγραμματτισμ',\n",
       " 'προγραμματτσμ',\n",
       " 'προγραμματυισμ',\n",
       " 'προγραμματυσμ',\n",
       " 'προγραμματφισμ',\n",
       " 'προγραμματφσμ',\n",
       " 'προγραμματχισμ',\n",
       " 'προγραμματχσμ',\n",
       " 'προγραμματψισμ',\n",
       " 'προγραμματψσμ',\n",
       " 'προγραμματωισμ',\n",
       " 'προγραμματωσμ',\n",
       " 'προγραμμαυισμ',\n",
       " 'προγραμμαυτισμ',\n",
       " 'προγραμμαφισμ',\n",
       " 'προγραμμαφτισμ',\n",
       " 'προγραμμαχισμ',\n",
       " 'προγραμμαχτισμ',\n",
       " 'προγραμμαψισμ',\n",
       " 'προγραμμαψτισμ',\n",
       " 'προγραμμαωισμ',\n",
       " 'προγραμμαωτισμ',\n",
       " 'προγραμμβατισμ',\n",
       " 'προγραμμβτισμ',\n",
       " 'προγραμμγατισμ',\n",
       " 'προγραμμγτισμ',\n",
       " 'προγραμμδατισμ',\n",
       " 'προγραμμδτισμ',\n",
       " 'προγραμμεατισμ',\n",
       " 'προγραμμετισμ',\n",
       " 'προγραμμζατισμ',\n",
       " 'προγραμμζτισμ',\n",
       " 'προγραμμηατισμ',\n",
       " 'προγραμμητισμ',\n",
       " 'προγραμμθατισμ',\n",
       " 'προγραμμθτισμ',\n",
       " 'προγραμμιατισμ',\n",
       " 'προγραμμιτισμ',\n",
       " 'προγραμμκατισμ',\n",
       " 'προγραμμκτισμ',\n",
       " 'προγραμμλατισμ',\n",
       " 'προγραμμλτισμ',\n",
       " 'προγραμμματισμ',\n",
       " 'προγραμμμτισμ',\n",
       " 'προγραμμνατισμ',\n",
       " 'προγραμμντισμ',\n",
       " 'προγραμμξατισμ',\n",
       " 'προγραμμξτισμ',\n",
       " 'προγραμμοατισμ',\n",
       " 'προγραμμοτισμ',\n",
       " 'προγραμμπατισμ',\n",
       " 'προγραμμπτισμ',\n",
       " 'προγραμμρατισμ',\n",
       " 'προγραμμρτισμ',\n",
       " 'προγραμμσατισμ',\n",
       " 'προγραμμστισμ',\n",
       " 'προγραμμταισμ',\n",
       " 'προγραμμτατισμ',\n",
       " 'προγραμμτισμ',\n",
       " 'προγραμμττισμ',\n",
       " 'προγραμμυατισμ',\n",
       " 'προγραμμυτισμ',\n",
       " 'προγραμμφατισμ',\n",
       " 'προγραμμφτισμ',\n",
       " 'προγραμμχατισμ',\n",
       " 'προγραμμχτισμ',\n",
       " 'προγραμμψατισμ',\n",
       " 'προγραμμψτισμ',\n",
       " 'προγραμμωατισμ',\n",
       " 'προγραμμωτισμ',\n",
       " 'προγραμνατισμ',\n",
       " 'προγραμνματισμ',\n",
       " 'προγραμξατισμ',\n",
       " 'προγραμξματισμ',\n",
       " 'προγραμοατισμ',\n",
       " 'προγραμοματισμ',\n",
       " 'προγραμπατισμ',\n",
       " 'προγραμπματισμ',\n",
       " 'προγραμρατισμ',\n",
       " 'προγραμρματισμ',\n",
       " 'προγραμσατισμ',\n",
       " 'προγραμσματισμ',\n",
       " 'προγραμτατισμ',\n",
       " 'προγραμτματισμ',\n",
       " 'προγραμυατισμ',\n",
       " 'προγραμυματισμ',\n",
       " 'προγραμφατισμ',\n",
       " 'προγραμφματισμ',\n",
       " 'προγραμχατισμ',\n",
       " 'προγραμχματισμ',\n",
       " 'προγραμψατισμ',\n",
       " 'προγραμψματισμ',\n",
       " 'προγραμωατισμ',\n",
       " 'προγραμωματισμ',\n",
       " 'προγρανματισμ',\n",
       " 'προγρανμματισμ',\n",
       " 'προγραξματισμ',\n",
       " 'προγραξμματισμ',\n",
       " 'προγραοματισμ',\n",
       " 'προγραομματισμ',\n",
       " 'προγραπματισμ',\n",
       " 'προγραπμματισμ',\n",
       " 'προγραρματισμ',\n",
       " 'προγραρμματισμ',\n",
       " 'προγρασματισμ',\n",
       " 'προγρασμματισμ',\n",
       " 'προγρατματισμ',\n",
       " 'προγρατμματισμ',\n",
       " 'προγραυματισμ',\n",
       " 'προγραυμματισμ',\n",
       " 'προγραφματισμ',\n",
       " 'προγραφμματισμ',\n",
       " 'προγραχματισμ',\n",
       " 'προγραχμματισμ',\n",
       " 'προγραψματισμ',\n",
       " 'προγραψμματισμ',\n",
       " 'προγραωματισμ',\n",
       " 'προγραωμματισμ',\n",
       " 'προγρβαμματισμ',\n",
       " 'προγρβμματισμ',\n",
       " 'προγργαμματισμ',\n",
       " 'προγργμματισμ',\n",
       " 'προγρδαμματισμ',\n",
       " 'προγρδμματισμ',\n",
       " 'προγρεαμματισμ',\n",
       " 'προγρεμματισμ',\n",
       " 'προγρζαμματισμ',\n",
       " 'προγρζμματισμ',\n",
       " 'προγρηαμματισμ',\n",
       " 'προγρημματισμ',\n",
       " 'προγρθαμματισμ',\n",
       " 'προγρθμματισμ',\n",
       " 'προγριαμματισμ',\n",
       " 'προγριμματισμ',\n",
       " 'προγρκαμματισμ',\n",
       " 'προγρκμματισμ',\n",
       " 'προγρλαμματισμ',\n",
       " 'προγρλμματισμ',\n",
       " 'προγρμαματισμ',\n",
       " 'προγρμαμματισμ',\n",
       " 'προγρμματισμ',\n",
       " 'προγρμμματισμ',\n",
       " 'προγρναμματισμ',\n",
       " 'προγρνμματισμ',\n",
       " 'προγρξαμματισμ',\n",
       " 'προγρξμματισμ',\n",
       " 'προγροαμματισμ',\n",
       " 'προγρομματισμ',\n",
       " 'προγρπαμματισμ',\n",
       " 'προγρπμματισμ',\n",
       " 'προγρραμματισμ',\n",
       " 'προγρρμματισμ',\n",
       " 'προγρσαμματισμ',\n",
       " 'προγρσμματισμ',\n",
       " 'προγρταμματισμ',\n",
       " 'προγρτμματισμ',\n",
       " 'προγρυαμματισμ',\n",
       " 'προγρυμματισμ',\n",
       " 'προγρφαμματισμ',\n",
       " 'προγρφμματισμ',\n",
       " 'προγρχαμματισμ',\n",
       " 'προγρχμματισμ',\n",
       " 'προγρψαμματισμ',\n",
       " 'προγρψμματισμ',\n",
       " 'προγρωαμματισμ',\n",
       " 'προγρωμματισμ',\n",
       " 'προγσαμματισμ',\n",
       " 'προγσραμματισμ',\n",
       " 'προγταμματισμ',\n",
       " 'προγτραμματισμ',\n",
       " 'προγυαμματισμ',\n",
       " 'προγυραμματισμ',\n",
       " 'προγφαμματισμ',\n",
       " 'προγφραμματισμ',\n",
       " 'προγχαμματισμ',\n",
       " 'προγχραμματισμ',\n",
       " 'προγψαμματισμ',\n",
       " 'προγψραμματισμ',\n",
       " 'προγωαμματισμ',\n",
       " 'προγωραμματισμ',\n",
       " 'προδγραμματισμ',\n",
       " 'προδραμματισμ',\n",
       " 'προεγραμματισμ',\n",
       " 'προεραμματισμ',\n",
       " 'προζγραμματισμ',\n",
       " 'προζραμματισμ',\n",
       " 'προηγραμματισμ',\n",
       " 'προηραμματισμ',\n",
       " 'προθγραμματισμ',\n",
       " 'προθραμματισμ',\n",
       " 'προιγραμματισμ',\n",
       " 'προιραμματισμ',\n",
       " 'προκγραμματισμ',\n",
       " 'προκραμματισμ',\n",
       " 'προλγραμματισμ',\n",
       " 'προλραμματισμ',\n",
       " 'προμγραμματισμ',\n",
       " 'προμραμματισμ',\n",
       " 'προνγραμματισμ',\n",
       " 'προνραμματισμ',\n",
       " 'προξγραμματισμ',\n",
       " 'προξραμματισμ',\n",
       " 'προογραμματισμ',\n",
       " 'προοραμματισμ',\n",
       " 'προπγραμματισμ',\n",
       " 'προπραμματισμ',\n",
       " 'προραμματισμ',\n",
       " 'προργαμματισμ',\n",
       " 'προργραμματισμ',\n",
       " 'προρραμματισμ',\n",
       " 'προσγραμματισμ',\n",
       " 'προσραμματισμ',\n",
       " 'προτγραμματισμ',\n",
       " 'προτραμματισμ',\n",
       " 'προυγραμματισμ',\n",
       " 'προυραμματισμ',\n",
       " 'προφγραμματισμ',\n",
       " 'προφραμματισμ',\n",
       " 'προχγραμματισμ',\n",
       " 'προχραμματισμ',\n",
       " 'προψγραμματισμ',\n",
       " 'προψραμματισμ',\n",
       " 'προωγραμματισμ',\n",
       " 'προωραμματισμ',\n",
       " 'πρπγραμματισμ',\n",
       " 'πρπογραμματισμ',\n",
       " 'πρργραμματισμ',\n",
       " 'πρρογραμματισμ',\n",
       " 'πρσγραμματισμ',\n",
       " 'πρσογραμματισμ',\n",
       " 'πρτγραμματισμ',\n",
       " 'πρτογραμματισμ',\n",
       " 'πρυγραμματισμ',\n",
       " 'πρυογραμματισμ',\n",
       " 'πρφγραμματισμ',\n",
       " 'πρφογραμματισμ',\n",
       " 'πρχγραμματισμ',\n",
       " 'πρχογραμματισμ',\n",
       " 'πρψγραμματισμ',\n",
       " 'πρψογραμματισμ',\n",
       " 'πρωγραμματισμ',\n",
       " 'πρωογραμματισμ',\n",
       " 'πσογραμματισμ',\n",
       " 'πσρογραμματισμ',\n",
       " 'πτογραμματισμ',\n",
       " 'πτρογραμματισμ',\n",
       " 'πυογραμματισμ',\n",
       " 'πυρογραμματισμ',\n",
       " 'πφογραμματισμ',\n",
       " 'πφρογραμματισμ',\n",
       " 'πχογραμματισμ',\n",
       " 'πχρογραμματισμ',\n",
       " 'πψογραμματισμ',\n",
       " 'πψρογραμματισμ',\n",
       " 'πωογραμματισμ',\n",
       " 'πωρογραμματισμ',\n",
       " 'ρογραμματισμ',\n",
       " 'ρπογραμματισμ',\n",
       " 'ρπρογραμματισμ',\n",
       " 'ρρογραμματισμ',\n",
       " 'σπρογραμματισμ',\n",
       " 'σρογραμματισμ',\n",
       " 'τπρογραμματισμ',\n",
       " 'τρογραμματισμ',\n",
       " 'υπρογραμματισμ',\n",
       " 'υρογραμματισμ',\n",
       " 'φπρογραμματισμ',\n",
       " 'φρογραμματισμ',\n",
       " 'χπρογραμματισμ',\n",
       " 'χρογραμματισμ',\n",
       " 'ψπρογραμματισμ',\n",
       " 'ψρογραμματισμ',\n",
       " 'ωπρογραμματισμ',\n",
       " 'ωρογραμματισμ'}"
      ]
     },
     "execution_count": 249,
     "metadata": {},
     "output_type": "execute_result"
    }
   ],
   "source": [
    "# one edit distance from input word\n",
    "edits1(word)"
   ]
  },
  {
   "cell_type": "code",
   "execution_count": 250,
   "metadata": {},
   "outputs": [
    {
     "data": {
      "text/plain": [
       "{'προγραμματισμο', 'προγραμματιστ'}"
      ]
     },
     "execution_count": 250,
     "metadata": {},
     "output_type": "execute_result"
    }
   ],
   "source": [
    "# get correct words from above set\n",
    "known(edits1(word))"
   ]
  },
  {
   "cell_type": "code",
   "execution_count": 251,
   "metadata": {},
   "outputs": [
    {
     "data": {
      "text/plain": [
       "{'προεραομματισμ',\n",
       " 'υπριογραμματισμ',\n",
       " 'προγραμωματισλμ',\n",
       " 'προγρψμμυατισμ',\n",
       " 'προγρατμμαγισμ',\n",
       " 'προγραμματισμαχ',\n",
       " 'απρογραμμηατισμ',\n",
       " 'προδγραμμαπτισμ',\n",
       " 'θπρογραμματεισμ',\n",
       " 'προγραμματιψωσμ',\n",
       " 'προγραγματιρσμ',\n",
       " 'προγραμλματιασμ',\n",
       " 'προγραμθματισι',\n",
       " 'προχρμματισμ',\n",
       " 'προγζραμματγσμ',\n",
       " 'προγραμματλισβμ',\n",
       " 'προγρεμοματισμ',\n",
       " 'προγραμματκσμν',\n",
       " 'πρζθογραμματισμ',\n",
       " 'προγρμμματτισμ',\n",
       " 'προγραμματγισμ',\n",
       " 'προγρυαμμκτισμ',\n",
       " 'προγραμθατιψσμ',\n",
       " 'πβογραμματισκ',\n",
       " 'προγραμσματγσμ',\n",
       " 'προνγραμματιωμ',\n",
       " 'πρτγραμμτισμ',\n",
       " 'τπρογραμματιεσμ',\n",
       " 'προτραμδατισμ',\n",
       " 'προγραωματιλμ',\n",
       " 'προγρχαμματισμτ',\n",
       " 'προγραμχματισμι',\n",
       " 'μπρογραμματιζσμ',\n",
       " 'προγραμμαδτιοσμ',\n",
       " 'προγρατμματγισμ',\n",
       " 'πθρογραμματιστ',\n",
       " 'πρνογρθαμματισμ',\n",
       " 'προεγηραμματισμ',\n",
       " 'προγραθρατισμ',\n",
       " 'πλογραημματισμ',\n",
       " 'ζπρογραμματισλμ',\n",
       " 'προγραδματισαμ',\n",
       " 'πρθγραμματισημ',\n",
       " 'προγραμμακτιπσμ',\n",
       " 'πμογραμμαωισμ',\n",
       " 'προγρειαμματισμ',\n",
       " 'προγρατμματνισμ',\n",
       " 'προγραμμααισθμ',\n",
       " 'προγφαμμβτισμ',\n",
       " 'πρλογραμμιτισμ',\n",
       " 'προξγραωμματισμ',\n",
       " 'πρπγραμματιμ',\n",
       " 'ψρπογραμματισμ',\n",
       " 'πζοοραμματισμ',\n",
       " 'λπρογργμματισμ',\n",
       " 'προγρψαμμαμισμ',\n",
       " 'προγραμματωιωσμ',\n",
       " 'προγρχμμχατισμ',\n",
       " 'σπρογραμματθσμ',\n",
       " 'προκγρυαμματισμ',\n",
       " 'προτγραμτατισμ',\n",
       " 'προγρξαμμνατισμ',\n",
       " 'χπροβραμματισμ',\n",
       " 'πρριογραμματισμ',\n",
       " 'προυγραλμματισμ',\n",
       " 'προγρηαμμρτισμ',\n",
       " 'πρλγραμματισνμ',\n",
       " 'προγραμματδσαμ',\n",
       " 'προθραμματισμσ',\n",
       " 'βπρογραμμαθτισμ',\n",
       " 'πρζγραμματιβσμ',\n",
       " 'πρηοιγραμματισμ',\n",
       " 'προγραμματισρχμ',\n",
       " 'ερογρδαμματισμ',\n",
       " 'προγραμματανσμ',\n",
       " 'πρπογραμματισγμ',\n",
       " 'προγραμνατιμ',\n",
       " 'προγραμμμσατισμ',\n",
       " 'προχγραμματασμ',\n",
       " 'προγραμλατυσμ',\n",
       " 'προγγρυμματισμ',\n",
       " 'προγραβματρισμ',\n",
       " 'αρογρκαμματισμ',\n",
       " 'προγραμαματγισμ',\n",
       " 'προιγραμματφισμ',\n",
       " 'παζγραμματισμ',\n",
       " 'πκρογρμαμματισμ',\n",
       " 'προγραμψματιβμ',\n",
       " 'προυγραμματρσμ',\n",
       " 'προργραμματισμψ',\n",
       " 'πτροβγραμματισμ',\n",
       " 'δππογραμματισμ',\n",
       " 'προγραμθατισυμ',\n",
       " 'ξπρογραμμαπτισμ',\n",
       " 'πγρογραμμαξισμ',\n",
       " 'πρωογραμμαμτισμ',\n",
       " 'μπρογραμματισψ',\n",
       " 'προαραψμματισμ',\n",
       " 'γρογρζαμματισμ',\n",
       " 'πρεογραβματισμ',\n",
       " 'προοραμπματισμ',\n",
       " 'μπρογρψαμματισμ',\n",
       " 'προγραμωατισξμ',\n",
       " 'προγρατματψσμ',\n",
       " 'προχραμμοατισμ',\n",
       " 'βπρογραμματισω',\n",
       " 'ηπρογραμμαοτισμ',\n",
       " 'προγεραυματισμ',\n",
       " 'προγρωμμακτισμ',\n",
       " 'οπρογραμματυισμ',\n",
       " 'προγραμμαιτικμ',\n",
       " 'προγραμματχβμ',\n",
       " 'πργοραζμματισμ',\n",
       " 'προφρξαμματισμ',\n",
       " 'πρθτγραμματισμ',\n",
       " 'πηρογραμματφσμ',\n",
       " 'πβογρωαμματισμ',\n",
       " 'προγψραμμφατισμ',\n",
       " 'πτρογραμαματισμ',\n",
       " 'προγρατμμζτισμ',\n",
       " 'πρροφραμματισμ',\n",
       " 'πρπογραμματισδ',\n",
       " 'προμραμματιχσμ',\n",
       " 'ωπροαγραμματισμ',\n",
       " 'προγεραμματκσμ',\n",
       " 'πρρογγραμματισμ',\n",
       " 'πριγογραμματισμ',\n",
       " 'προγωραμματισμω',\n",
       " 'προγραμομαπισμ',\n",
       " 'προγραμαημτισμ',\n",
       " 'προγραμμαβτιστ',\n",
       " 'προγραμμιατιρσμ',\n",
       " 'ιπρογρωαμματισμ',\n",
       " 'προγραμματιξσυ',\n",
       " 'προγρωαμματχισμ',\n",
       " 'προγραρμματισγμ',\n",
       " 'ηρογραμμβτισμ',\n",
       " 'προγραυηματισμ',\n",
       " 'πεεγραμματισμ',\n",
       " 'πρνογραματισμ',\n",
       " 'πλρογραμματθισμ',\n",
       " 'ιπρογραμμαλτισμ',\n",
       " 'προγραιματισψ',\n",
       " 'προγραμμιτισμβ',\n",
       " 'προνροαμματισμ',\n",
       " 'προγωαψματισμ',\n",
       " 'προγραμγαπισμ',\n",
       " 'προγραμματισκλμ',\n",
       " 'πωρογραμμπτισμ',\n",
       " 'τρογψραμματισμ',\n",
       " 'πργογραμματισμξ',\n",
       " 'προγλαμπατισμ',\n",
       " 'πχροηγραμματισμ',\n",
       " 'προγραμοματιδμ',\n",
       " 'ψπρογραμματισβμ',\n",
       " 'προσραμμαθτισμ',\n",
       " 'προγρφμηματισμ',\n",
       " 'προγραμμδλισμ',\n",
       " 'προγραμμφτισρμ',\n",
       " 'προγραμμζξατισμ',\n",
       " 'δρογραμματχσμ',\n",
       " 'προγρπμματοισμ',\n",
       " 'πρηογραμμιατισμ',\n",
       " 'προγραρμητισμ',\n",
       " 'προυραμμθατισμ',\n",
       " 'προγλαμμγτισμ',\n",
       " 'πωογρζαμματισμ',\n",
       " 'προγραμμδτισμω',\n",
       " 'προγραδμζατισμ',\n",
       " 'ζπρογραμψατισμ',\n",
       " 'προχγρυμματισμ',\n",
       " 'ποοβγραμματισμ',\n",
       " 'προνραμματκσμ',\n",
       " 'προγραμματυρσμ',\n",
       " 'πρσγραμματφισμ',\n",
       " 'ταπρογραμματισμ',\n",
       " 'προγψαμμκατισμ',\n",
       " 'προγναμμνατισμ',\n",
       " 'πβογραμμξατισμ',\n",
       " 'προγγραμμαιτσμ',\n",
       " 'προγφαμμωτισμ',\n",
       " 'πρκογδραμματισμ',\n",
       " 'πχογραξματισμ',\n",
       " 'πργγρεμματισμ',\n",
       " 'προγραμαατλσμ',\n",
       " 'προγραμμθατδσμ',\n",
       " 'μπρογραμμαπτισμ',\n",
       " 'προγναμματισθμ',\n",
       " 'πνρογβαμματισμ',\n",
       " 'προγκαμμαδισμ',\n",
       " 'προμγραμματασμ',\n",
       " 'προγραμμαυτισχ',\n",
       " 'πδρογβαμματισμ',\n",
       " 'πθογραμηματισμ',\n",
       " 'πρδογραμματισσμ',\n",
       " 'προγραμμαητεσμ',\n",
       " 'πμρογραμμρατισμ',\n",
       " 'πρκγραμματισωμ',\n",
       " 'προγραμματικσθμ',\n",
       " 'παρογραμμσατισμ',\n",
       " 'προγλραμματισπμ',\n",
       " 'πγρογραμματβσμ',\n",
       " 'προγραμμαλτισο',\n",
       " 'ποροτραμματισμ',\n",
       " 'προξραγμματισμ',\n",
       " 'πρβγραιμματισμ',\n",
       " 'προγραημμγτισμ',\n",
       " 'πραογαμματισμ',\n",
       " 'ξρογρακματισμ',\n",
       " 'πηρογραμμθτισμ',\n",
       " 'ψπρογφαμματισμ',\n",
       " 'πσογραμματιυσμ',\n",
       " 'προγηραμματιβμ',\n",
       " 'ιφογραμματισμ',\n",
       " 'πζρογραμβματισμ',\n",
       " 'λκπρογραμματισμ',\n",
       " 'προγρραθματισμ',\n",
       " 'πρυγραμματισμρ',\n",
       " 'προγραμμφαχισμ',\n",
       " 'προγραμμαητισφ',\n",
       " 'πγρραμματισμ',\n",
       " 'προγραμματχσδμ',\n",
       " 'λπρνογραμματισμ',\n",
       " 'προγραμμγτιξμ',\n",
       " 'προγραμμζτισι',\n",
       " 'προγραγμρτισμ',\n",
       " 'τπρογρημματισμ',\n",
       " 'προγροβμματισμ',\n",
       " 'πνρογραμμφατισμ',\n",
       " 'σρογραμματπσμ',\n",
       " 'προιγραμυματισμ',\n",
       " 'πηογραμμφατισμ',\n",
       " 'προγραμματπσμφ',\n",
       " 'προγωαμματισπμ',\n",
       " 'προγραμβματιτμ',\n",
       " 'προαγραμματζσμ',\n",
       " 'ππαρογραμματισμ',\n",
       " 'προγραμηαατισμ',\n",
       " 'πφρογρρμματισμ',\n",
       " 'προγραεματισμ',\n",
       " 'πρθογραμματισμμ',\n",
       " 'ηπρογραμματισκμ',\n",
       " 'προγραμμψατισρμ',\n",
       " 'προγρπμματισα',\n",
       " 'πδξρογραμματισμ',\n",
       " 'προγραφματιωσμ',\n",
       " 'προγρεμματισψμ',\n",
       " 'πιρογραμματισμι',\n",
       " 'ρρογραμματισν',\n",
       " 'πρπογρασμματισμ',\n",
       " 'ρπρογραμξματισμ',\n",
       " 'προγρσμματυισμ',\n",
       " 'προγρχμαατισμ',\n",
       " 'ξπρογπαμματισμ',\n",
       " 'προγρακφατισμ',\n",
       " 'προγραμμζρτισμ',\n",
       " 'προγρζαμματισμ',\n",
       " 'γρογραμματισμχ',\n",
       " 'ππρογραμμαπισμ',\n",
       " 'ππρονραμματισμ',\n",
       " 'πεογραμματισμη',\n",
       " 'πρηγραμμαψτισμ',\n",
       " 'προγαμματιφμ',\n",
       " 'προγκραμνατισμ',\n",
       " 'προγξαμματισζ',\n",
       " 'προμραωματισμ',\n",
       " 'πνογραμματισξ',\n",
       " 'προγριμματισθμ',\n",
       " 'προγιαμματγισμ',\n",
       " 'πζρογραηματισμ',\n",
       " 'πρδγραυμματισμ',\n",
       " 'προγραμματκισλ',\n",
       " 'προγδραμμαπισμ',\n",
       " 'προγραμματσσξ',\n",
       " 'προγκραμμαδισμ',\n",
       " 'προγραμματγσλμ',\n",
       " 'πρεοθραμματισμ',\n",
       " 'προγραρμματισχ',\n",
       " 'ωρογρταμματισμ',\n",
       " 'πφογραμματιημ',\n",
       " 'πχογραμκατισμ',\n",
       " 'προγραμμδτιγμ',\n",
       " 'ψπρογραμματπσμ',\n",
       " 'προψγραμματιαμ',\n",
       " 'προγραδμσματισμ',\n",
       " 'προαραμμθτισμ',\n",
       " 'ποργραμματισχμ',\n",
       " 'προρραεματισμ',\n",
       " 'πργραμματισχμ',\n",
       " 'προσρρμματισμ',\n",
       " 'προγσραμμρτισμ',\n",
       " 'προγργαμματιρσμ',\n",
       " 'πρηομγραμματισμ',\n",
       " 'πρθγραμματισμι',\n",
       " 'πριγραμκατισμ',\n",
       " 'πγοαραμματισμ',\n",
       " 'προγραμματγσχ',\n",
       " 'παρογραμμμτισμ',\n",
       " 'προγοραμματιχμ',\n",
       " 'προγρεαμκατισμ',\n",
       " 'φξπρογραμματισμ',\n",
       " 'προγραμμαοισμν',\n",
       " 'τρογραμμτισμ',\n",
       " 'πεογραμματισγ',\n",
       " 'προξραμμζατισμ',\n",
       " 'προγραομματγισμ',\n",
       " 'προνραμματιχσμ',\n",
       " 'κρογρτμματισμ',\n",
       " 'προγραμμειατισμ',\n",
       " 'προγλραμματγισμ',\n",
       " 'ιπρογραμμκτισμ',\n",
       " 'προγραμδρματισμ',\n",
       " 'προγρμμματισσμ',\n",
       " 'φπρογραμμαζτισμ',\n",
       " 'προγραμμματισυμ',\n",
       " 'δπρογρζαμματισμ',\n",
       " 'προγρχφμματισμ',\n",
       " 'ωπρογρυαμματισμ',\n",
       " 'προγραημματιημ',\n",
       " 'πκογμραμματισμ',\n",
       " 'πνρογραμμταισμ',\n",
       " 'προγραμματισψζμ',\n",
       " 'προγραμματησμυ',\n",
       " 'φρογρλμματισμ',\n",
       " 'πρπογραμματοσμ',\n",
       " 'πρνγραμματχισμ',\n",
       " 'προγραπμμλτισμ',\n",
       " 'πρωογβαμματισμ',\n",
       " 'προγυαμματμισμ',\n",
       " 'προγρφμματρισμ',\n",
       " 'ποιογραμματισμ',\n",
       " 'προγραμψατιγσμ',\n",
       " 'πτογραμπματισμ',\n",
       " 'πξρογραμματγσμ',\n",
       " 'προγραζμματιεμ',\n",
       " 'προγραμμθατισυ',\n",
       " 'λπροθραμματισμ',\n",
       " 'προγρνεαμματισμ',\n",
       " 'προγρυμμξατισμ',\n",
       " 'προγραμματισμισ',\n",
       " 'ιπρογραμμαοισμ',\n",
       " 'πωρργραμματισμ',\n",
       " 'προχγραμματιησμ',\n",
       " 'προγραοζατισμ',\n",
       " 'πρβοχγραμματισμ',\n",
       " 'προγραμδατδσμ',\n",
       " 'πρκογραμχματισμ',\n",
       " 'προελγραμματισμ',\n",
       " 'πβρογραμμαωτισμ',\n",
       " 'πρπγραματισμ',\n",
       " 'προγσαμμφατισμ',\n",
       " 'παρλγραμματισμ',\n",
       " 'προγρθαμιατισμ',\n",
       " 'προγραλμματπσμ',\n",
       " 'παογυαμματισμ',\n",
       " 'πρσνραμματισμ',\n",
       " 'προγραιμματισμσ',\n",
       " 'προγγραμματιγμ',\n",
       " 'προγραθματισμξ',\n",
       " 'πλρογραμμυατισμ',\n",
       " 'προγραμμγτιωμ',\n",
       " 'πμογπραμματισμ',\n",
       " 'πρψγαρμματισμ',\n",
       " 'προιραμματιμσμ',\n",
       " 'πρθγραμμαιτσμ',\n",
       " 'προγξαρματισμ',\n",
       " 'πρδογραμδατισμ',\n",
       " 'παοογραμματισμ',\n",
       " 'προγρεαμμαψισμ',\n",
       " 'προγξαγματισμ',\n",
       " 'προγλραμματισνμ',\n",
       " 'προγσαμματζισμ',\n",
       " 'ιπρογργμματισμ',\n",
       " 'προγρθχμματισμ',\n",
       " 'προγραμματτθισμ',\n",
       " 'προγρμαματισμθ',\n",
       " 'υπρογααμματισμ',\n",
       " 'ρπεογραμματισμ',\n",
       " 'προγραμμφτισδμ',\n",
       " 'πξρογσαμματισμ',\n",
       " 'βρογραμμοτισμ',\n",
       " 'προγξραμιματισμ',\n",
       " 'ωπρογραμψματισμ',\n",
       " 'προγραμχματισμρ',\n",
       " 'προγραμμαιτωισμ',\n",
       " 'προγραωμαθισμ',\n",
       " 'προγραμψαττσμ',\n",
       " 'πτρογραμμαισμ',\n",
       " 'πριογρυαμματισμ',\n",
       " 'προγραωμμκατισμ',\n",
       " 'προγρθαμματιξμ',\n",
       " 'πχρογραμμαητισμ',\n",
       " 'πκρογραμματξισμ',\n",
       " 'προγεραμματξισμ',\n",
       " 'πρβογραμματσμ',\n",
       " 'πριογραμματοσμ',\n",
       " 'προγρξτμματισμ',\n",
       " 'εροοραμματισμ',\n",
       " 'πηρογραφματισμ',\n",
       " 'προγρξμματισμχ',\n",
       " 'πργογραλματισμ',\n",
       " 'ρογζαμματισμ',\n",
       " 'ηπρογραμματισημ',\n",
       " 'προυγραλματισμ',\n",
       " 'κπρογραμμβατισμ',\n",
       " 'ψρογραμμαοτισμ',\n",
       " 'πρμηογραμματισμ',\n",
       " 'απροφγραμματισμ',\n",
       " 'πηδρογραμματισμ',\n",
       " 'προγριμμδατισμ',\n",
       " 'προγραμμττδσμ',\n",
       " 'πρλογραμματχισμ',\n",
       " 'περογυαμματισμ',\n",
       " 'βρογγραμματισμ',\n",
       " 'προβγραμμχατισμ',\n",
       " 'πψροδραμματισμ',\n",
       " 'ψπεογραμματισμ',\n",
       " 'προλβγραμματισμ',\n",
       " 'προγραλματζσμ',\n",
       " 'προγρνμματυισμ',\n",
       " 'πωρογραμματισμλ',\n",
       " 'πχρνογραμματισμ',\n",
       " 'παρογραμματισψ',\n",
       " 'προγρπαμμξατισμ',\n",
       " 'προγραμμαξτισμμ',\n",
       " 'τπρογραμμιτισμ',\n",
       " 'πρμογραμματιξμ',\n",
       " 'προγραμμρατισφ',\n",
       " 'προγραμματρισο',\n",
       " 'ιπρογταμματισμ',\n",
       " 'μπρογρξμματισμ',\n",
       " 'πρζοβραμματισμ',\n",
       " 'τπρογραμχατισμ',\n",
       " 'προτγραυμματισμ',\n",
       " 'πορογραμμαιτισμ',\n",
       " 'προγραμομφατισμ',\n",
       " 'προκραμματχισμ',\n",
       " 'πφρογραμματισμο',\n",
       " 'προγξραμματισε',\n",
       " 'πρζγρθαμματισμ',\n",
       " 'προγρμματινσμ',\n",
       " 'προμγραμθατισμ',\n",
       " 'προγρκαμματεισμ',\n",
       " 'πμογψραμματισμ',\n",
       " 'επρογραμμφατισμ',\n",
       " 'προγραμμοτνισμ',\n",
       " 'ρπμγραμματισμ',\n",
       " 'προγραζβατισμ',\n",
       " 'προχραμματρσμ',\n",
       " 'προγραμμρατπισμ',\n",
       " 'γρογραμμαρτισμ',\n",
       " 'προγραμμμτισιμ',\n",
       " 'προγρμαγματισμ',\n",
       " 'προγρβαμνατισμ',\n",
       " 'προγραμβατιρσμ',\n",
       " 'προγραμμαομισμ',\n",
       " 'προγραμματιρσμυ',\n",
       " 'προγραμμψτιβσμ',\n",
       " 'προνγραξματισμ',\n",
       " 'προγαρμματιισμ',\n",
       " 'πχρογραμματισαμ',\n",
       " 'προγβραμματιισμ',\n",
       " 'προγπραμχματισμ',\n",
       " 'χπρογραμμαπτισμ',\n",
       " 'προγραμμαυιβμ',\n",
       " 'προγραμυοματισμ',\n",
       " 'πωρογραμματιαμ',\n",
       " 'πεογραμχατισμ',\n",
       " 'πιογααμματισμ',\n",
       " 'προργραμματισζ',\n",
       " 'παρογραμματισμκ',\n",
       " 'προχραδματισμ',\n",
       " 'ερογρααμματισμ',\n",
       " 'προγβυμματισμ',\n",
       " 'προγρφμεατισμ',\n",
       " 'προγρηαμδατισμ',\n",
       " 'προγρακμματιφμ',\n",
       " 'πσρογραμμυατισμ',\n",
       " 'προγραμσμματισμ',\n",
       " 'πλροτραμματισμ',\n",
       " 'προγρξαμματισζμ',\n",
       " 'πρχογραμματισμξ',\n",
       " 'προγραυμματισβμ',\n",
       " 'προαγραμμζατισμ',\n",
       " 'προγρηαδματισμ',\n",
       " 'προγθαμματζσμ',\n",
       " 'πριογραμμδτισμ',\n",
       " 'προαγραιμματισμ',\n",
       " 'ξθρογραμματισμ',\n",
       " 'προγρψυματισμ',\n",
       " 'προγραμμγτισνμ',\n",
       " 'προγραμματπσμτ',\n",
       " 'ψρογζαμματισμ',\n",
       " 'πτρογραρμματισμ',\n",
       " 'προηραυμματισμ',\n",
       " 'τπρογραμμμτισμ',\n",
       " 'προγκαμματμσμ',\n",
       " 'πδροβγραμματισμ',\n",
       " 'προγραμεματβσμ',\n",
       " 'προγρψμμαψτισμ',\n",
       " 'προγρπαμματιστμ',\n",
       " 'προγραμμαθτισμθ',\n",
       " 'πλογθαμματισμ',\n",
       " 'προγραμαατεσμ',\n",
       " 'προγραμκματκσμ',\n",
       " 'πρδογραμματισκ',\n",
       " 'προγραμμοωισμ',\n",
       " 'πρψογραμματισφ',\n",
       " 'πκρογραμματισψμ',\n",
       " 'προεραμμιατισμ',\n",
       " 'προδγριμματισμ',\n",
       " 'προπραπματισμ',\n",
       " 'προγραμμδαοτισμ',\n",
       " 'πρμγραμματισν',\n",
       " 'προγραμμααιστμ',\n",
       " 'προηγραμμαμισμ',\n",
       " 'προγραψμματισμλ',\n",
       " 'πφρογραμμζτισμ',\n",
       " 'προγραμμαξτισμω',\n",
       " 'παρογραιμματισμ',\n",
       " 'προγραμματιοησμ',\n",
       " 'προγραμματξισα',\n",
       " 'πρψγραψμματισμ',\n",
       " 'προγρδαμματισγμ',\n",
       " 'προγραμματζισμε',\n",
       " 'προθριμματισμ',\n",
       " 'προγραμυματισμχ',\n",
       " 'προγραμματισρ',\n",
       " 'προγραγμμαφισμ',\n",
       " 'προγραμμακτιτμ',\n",
       " 'προτπαμματισμ',\n",
       " 'προγσραμμαζτισμ',\n",
       " 'προγρπμματισχ',\n",
       " 'προγαμματωσμ',\n",
       " 'προγιραμμδατισμ',\n",
       " 'προογραμμαγτισμ',\n",
       " 'σρογραμμαψισμ',\n",
       " 'επρογραμματιχμ',\n",
       " 'προγραγμματισμθ',\n",
       " 'προγκαμματφσμ',\n",
       " 'προγρχαμζατισμ',\n",
       " 'χρογρζαμματισμ',\n",
       " 'προγρααμμτατισμ',\n",
       " 'χρογραιματισμ',\n",
       " 'πηογραμματισμχ',\n",
       " 'προγρβμματδσμ',\n",
       " 'πρξογφαμματισμ',\n",
       " 'πρξογραμματισπμ',\n",
       " 'προγραμμνατισμδ',\n",
       " 'προγραμματισια',\n",
       " 'προγραμκταισμ',\n",
       " 'υπρογραμαματισμ',\n",
       " 'προγραμμαπτισμη',\n",
       " 'πραγραμμαοισμ',\n",
       " 'προγραμματκισμτ',\n",
       " 'προγραμχμβατισμ',\n",
       " 'προγιραμνματισμ',\n",
       " 'πκογραμματισμλ',\n",
       " 'προγχραμφματισμ',\n",
       " 'προγραμματκσμβ',\n",
       " 'προγρμμματισμφ',\n",
       " 'προγραμτματισ',\n",
       " 'δρφγραμματισμ',\n",
       " 'πσογραμματισμλ',\n",
       " 'πχροτραμματισμ',\n",
       " 'ψρογραμνματισμ',\n",
       " 'πραγραμματοσμ',\n",
       " 'πραογραμματιοσμ',\n",
       " 'προγραμπατιισμ',\n",
       " 'προγρραμρατισμ',\n",
       " 'πεογραμματπσμ',\n",
       " 'προγρατμμαπτισμ',\n",
       " 'πνρογρνμματισμ',\n",
       " 'παογραμβατισμ',\n",
       " 'προγραμμαλτιδσμ',\n",
       " 'προγραμμυτιιμ',\n",
       " 'πεγογραμματισμ',\n",
       " 'προγραμμαυτηισμ',\n",
       " 'πρδγραμμαστισμ',\n",
       " 'ρρογρψμματισμ',\n",
       " 'προγραμμγτεσμ',\n",
       " 'προγραμμαντδσμ',\n",
       " 'πρξογραμμητισμ',\n",
       " 'πρνογραμμαζτισμ',\n",
       " 'θρογραμματιασμ',\n",
       " 'προγραμμξτιπμ',\n",
       " 'προγπραμγατισμ',\n",
       " 'ωρογραμματψισμ',\n",
       " 'προγραμματιρσμη',\n",
       " 'προγραμψμαζτισμ',\n",
       " 'σρογραμμαιτσμ',\n",
       " 'προγραμμαθισμε',\n",
       " 'βρογραμμσατισμ',\n",
       " 'προζραμματισξ',\n",
       " 'πρξγραμματισμι',\n",
       " 'προγραρσατισμ',\n",
       " 'προγλραμηατισμ',\n",
       " 'προγωαμματσιμ',\n",
       " 'προγγαχμματισμ',\n",
       " 'προγνυαμματισμ',\n",
       " 'προγρετμματισμ',\n",
       " 'υπρτγραμματισμ',\n",
       " 'προγραιμματθισμ',\n",
       " 'προγρξαμματισγ',\n",
       " 'προγξραμσατισμ',\n",
       " 'προγραμματπφσμ',\n",
       " 'προγραμμαιτσμθ',\n",
       " 'προγραμμοτρσμ',\n",
       " 'προγραμμδδτισμ',\n",
       " 'πυογρμμματισμ',\n",
       " 'προγραμμγατχισμ',\n",
       " 'προργαμματισμβ',\n",
       " 'πσρογραμματισνμ',\n",
       " 'προγραυμαιισμ',\n",
       " 'πνρλογραμματισμ',\n",
       " 'προγθηαμματισμ',\n",
       " 'πβρογραμματπσμ',\n",
       " 'προγραεμζτισμ',\n",
       " 'πργγραμμαωτισμ',\n",
       " 'πγρογσαμματισμ',\n",
       " 'πρψγρπμματισμ',\n",
       " 'προγμρζμματισμ',\n",
       " 'προβραμλατισμ',\n",
       " 'πσογραμματμισμ',\n",
       " 'πζρογραμματισπ',\n",
       " 'πραογραμματιπσμ',\n",
       " 'προγρλυμματισμ',\n",
       " 'επρογραμζατισμ',\n",
       " 'πρβγραμματψσμ',\n",
       " 'προεγραμμμτισμ',\n",
       " 'πυρογραμματοσμ',\n",
       " 'προγθαβμματισμ',\n",
       " 'προγραμθματισμα',\n",
       " 'ρρογηραμματισμ',\n",
       " 'προγραφμματιρμ',\n",
       " 'πραβγραμματισμ',\n",
       " 'νπρογραμμαθτισμ',\n",
       " 'πμκγραμματισμ',\n",
       " 'προγρλαμμοτισμ',\n",
       " 'πρζγραλμματισμ',\n",
       " 'υρογραμματηισμ',\n",
       " 'προφραμξατισμ',\n",
       " 'προγραιμματικμ',\n",
       " 'κρογριαμματισμ',\n",
       " 'προογραμμφατισμ',\n",
       " 'πργγραμμαφισμ',\n",
       " 'προγραμχατισημ',\n",
       " 'προγραμμζθισμ',\n",
       " 'προγρζψμματισμ',\n",
       " 'πρτνγραμματισμ',\n",
       " 'πργγραμμστισμ',\n",
       " 'πχρογρναμματισμ',\n",
       " 'προγρδαμμωατισμ',\n",
       " 'μρογραμμλτισμ',\n",
       " 'πδρπγραμματισμ',\n",
       " 'προπγραμοματισμ',\n",
       " 'προγραμματκσμκ',\n",
       " 'ποργραφμματισμ',\n",
       " 'προγραμματξσμλ',\n",
       " 'προβραμματλισμ',\n",
       " 'προγοαμματλισμ',\n",
       " 'προγθζαμματισμ',\n",
       " 'πφρργραμματισμ',\n",
       " 'προγραμμσατιυμ',\n",
       " 'ποροεγραμματισμ',\n",
       " 'προαγραμματσσμ',\n",
       " 'προγραμμαρτισμθ',\n",
       " 'πρφσογραμματισμ',\n",
       " 'πργοργμματισμ',\n",
       " 'ππογραμμωτισμ',\n",
       " 'προγρανμααισμ',\n",
       " 'ππρογραμματισμγ',\n",
       " 'πρηογραμμχτισμ',\n",
       " 'προγυαμματισξ',\n",
       " 'προγηαμμητισμ',\n",
       " 'προγτραμματσισμ',\n",
       " 'πργγραμχατισμ',\n",
       " 'προξγριαμματισμ',\n",
       " 'προγρδαμματιρσμ',\n",
       " 'προγραμρατιστμ',\n",
       " 'προγραμμαθτιησμ',\n",
       " 'πρμγραμματισυ',\n",
       " 'πριογραμμαψτισμ',\n",
       " 'λρογραμματισμυ',\n",
       " 'φρογραμματισν',\n",
       " 'προγραμμξατνσμ',\n",
       " 'προγραμκματκισμ',\n",
       " 'προιγραμματισθ',\n",
       " 'προγρλμμσατισμ',\n",
       " 'προγραμμαντισομ',\n",
       " 'προσγταμματισμ',\n",
       " 'πρμογραμματισημ',\n",
       " 'ιπρζογραμματισμ',\n",
       " 'προγρβαμματιμσμ',\n",
       " 'προπγριμματισμ',\n",
       " 'προγραμμλγισμ',\n",
       " 'προγραμνματιρμ',\n",
       " 'λρογραμματυσμ',\n",
       " 'προβγραμγματισμ',\n",
       " 'τρογραβμματισμ',\n",
       " 'προγραμμαυικσμ',\n",
       " 'προυραμμαιτισμ',\n",
       " 'προγραμμακτχισμ',\n",
       " 'πρμγραμμξατισμ',\n",
       " 'προγραμματθιγσμ',\n",
       " 'σπρογραμλατισμ',\n",
       " 'απρογραμματησμ',\n",
       " 'προεραμεματισμ',\n",
       " 'πδογραμματγισμ',\n",
       " 'προγρρμμσατισμ',\n",
       " 'προγρξμμωατισμ',\n",
       " 'προγρκμματιεμ',\n",
       " 'παρογφαμματισμ',\n",
       " 'ρροωγραμματισμ',\n",
       " 'προγζαμματισμθ',\n",
       " 'ποξογραμματισμ',\n",
       " 'πρζυραμματισμ',\n",
       " 'προζχαμματισμ',\n",
       " 'πριξγραμματισμ',\n",
       " 'προγριμμαωτισμ',\n",
       " 'προγραμματησμγ',\n",
       " 'ξπρογραθματισμ',\n",
       " 'προγοραμμζατισμ',\n",
       " 'προγραμμαμτσμ',\n",
       " 'προγρακατισμ',\n",
       " 'προγραμκανισμ',\n",
       " 'προγραμμοτισγμ',\n",
       " 'προγραμματισμεα',\n",
       " 'προαγρεμματισμ',\n",
       " 'πρβγραμμαετισμ',\n",
       " 'σρογραμματισχ',\n",
       " 'χπρογραμμαζισμ',\n",
       " 'πγογραμμαλισμ',\n",
       " 'προγρεμματισθμ',\n",
       " 'προεγραμματισχμ',\n",
       " 'προγραμωματφισμ',\n",
       " 'προγμαμματιωσμ',\n",
       " 'απρογραμμαφισμ',\n",
       " 'προτραμματισμψ',\n",
       " 'λπρονγραμματισμ',\n",
       " 'προγραρπατισμ',\n",
       " 'πρλγραμμαηισμ',\n",
       " 'προιεγραμματισμ',\n",
       " 'πρσογραμματισρμ',\n",
       " 'προδραμματιπμ',\n",
       " 'προγγαμματισβ',\n",
       " 'προγραμματιζσχ',\n",
       " 'προγραμμωαλτισμ',\n",
       " 'πρψγραμματιεσμ',\n",
       " 'πυρογραμματιγμ',\n",
       " 'προγρξαμματιρσμ',\n",
       " 'προγραμμαωτισλ',\n",
       " 'προγρηαωματισμ',\n",
       " 'ιπρογραμμυατισμ',\n",
       " 'προγρατματισμγ',\n",
       " 'πριγραμματωσμ',\n",
       " 'προψγραμματγισμ',\n",
       " 'προγραμματλσμζ',\n",
       " 'ηρογραμμδτισμ',\n",
       " 'προγραμοματιοσμ',\n",
       " 'πρεγραμμαυισμ',\n",
       " 'προγροαμμαθτισμ',\n",
       " 'υπρηογραμματισμ',\n",
       " 'απρογρχμματισμ',\n",
       " 'ζπρογραμματισν',\n",
       " 'τρογτραμματισμ',\n",
       " 'προγραμματισμαυ',\n",
       " 'προγραημαγτισμ',\n",
       " 'προγραμματγσι',\n",
       " 'προγριαμματιησμ',\n",
       " 'προγραεματιαμ',\n",
       " 'προγραζματιμσ',\n",
       " 'πβρογραμματισζ',\n",
       " 'προγρανατισμ',\n",
       " 'προγγραμμυτισμ',\n",
       " 'λρογροαμματισμ',\n",
       " 'προγρομμαωτισμ',\n",
       " 'προαγραμμαωτισμ',\n",
       " 'προγφαμματιβσμ',\n",
       " 'πρσψογραμματισμ',\n",
       " 'προγραμξματισρ',\n",
       " 'προγραφμζματισμ',\n",
       " 'επρπογραμματισμ',\n",
       " 'προγραμλθτισμ',\n",
       " 'προγραπματισδ',\n",
       " 'προγραμματιξβσμ',\n",
       " 'προγραβμμπατισμ',\n",
       " 'πρχγραμμχατισμ',\n",
       " 'προγρκμματιμ',\n",
       " 'πιρογραμματιχμ',\n",
       " 'προγραμματιφσθ',\n",
       " 'λρογραμμαδισμ',\n",
       " 'δπρογραμματισμκ',\n",
       " 'προγγαμμαχτισμ',\n",
       " 'προγοαμματιπμ',\n",
       " 'προγρψαμματλσμ',\n",
       " 'προγααραμματισμ',\n",
       " 'πθογραματισμ',\n",
       " 'προγαρμματισυμ',\n",
       " 'προγραμματψιρμ',\n",
       " 'προγραρμαχισμ',\n",
       " 'προγρψαμμαιτισμ',\n",
       " 'προγραμελτισμ',\n",
       " 'προγρπαμτατισμ',\n",
       " 'προγρατμματζσμ',\n",
       " 'προγρζαξματισμ',\n",
       " 'ηπρψγραμματισμ',\n",
       " 'προγρπμματρισμ',\n",
       " 'προγρφαμματισμψ',\n",
       " 'νρογρεαμματισμ',\n",
       " 'προγραμματισμφ',\n",
       " 'προγραμμαστισεμ',\n",
       " 'θρογραμοματισμ',\n",
       " 'νπρογραμματιψσμ',\n",
       " 'προγραμηατιμμ',\n",
       " 'προγρανωματισμ',\n",
       " 'πγρογρπμματισμ',\n",
       " 'προγριαμματισδμ',\n",
       " 'πρρογραμμαγτισμ',\n",
       " 'νρψογραμματισμ',\n",
       " 'ιρογραμματζσμ',\n",
       " 'προγραμωατιζμ',\n",
       " 'τπρογραμματιμ',\n",
       " 'προπραμματυισμ',\n",
       " 'πριγραμματπσμ',\n",
       " 'προγραμμβατρισμ',\n",
       " 'νρογραμμαφτισμ',\n",
       " 'προγρλμλατισμ',\n",
       " 'ποογραμσματισμ',\n",
       " 'πρλογραμμαμτισμ',\n",
       " 'προγεραμματιωσμ',\n",
       " 'ορογαραμματισμ',\n",
       " 'προγραμμαυτισεμ',\n",
       " 'πορογραμματμσμ',\n",
       " 'πσρογραμματιμσ',\n",
       " 'πρτγραμματιμσ',\n",
       " 'λρογραμμοατισμ',\n",
       " 'προγραμμχτγσμ',\n",
       " 'προγρνμωματισμ',\n",
       " 'προγραφμμαγτισμ',\n",
       " 'πφογραμμαυισμ',\n",
       " 'πωοβγραμματισμ',\n",
       " 'πρωογραμματισλμ',\n",
       " 'προγραμματιηξσμ',\n",
       " 'προτγραμματιμσμ',\n",
       " 'προξραμιματισμ',\n",
       " 'προγρπμματισμψ',\n",
       " 'πνρεγραμματισμ',\n",
       " 'προγραμμαλγτισμ',\n",
       " 'ρρογραμυατισμ',\n",
       " 'προγραφμματισχμ',\n",
       " 'οπρογραμπματισμ',\n",
       " 'προγλραμυματισμ',\n",
       " 'προπραμματισμκ',\n",
       " 'προκραλματισμ',\n",
       " 'προγραμματισφμε',\n",
       " 'παογραυμματισμ',\n",
       " 'φπρογραμματμισμ',\n",
       " 'προλγραμματινσμ',\n",
       " 'ρπογραμματισμλ',\n",
       " 'προγεραμματισαμ',\n",
       " 'προτραμζματισμ',\n",
       " 'πκρφογραμματισμ',\n",
       " 'προγραθμμαζτισμ',\n",
       " 'δρογρξαμματισμ',\n",
       " 'λπροεραμματισμ',\n",
       " 'πξογραμγματισμ',\n",
       " 'πργογραμμυατισμ',\n",
       " 'προγλαμματιλμ',\n",
       " 'γπρογραμματιχσμ',\n",
       " 'προγραρμμρατισμ',\n",
       " 'πρπγραμματγσμ',\n",
       " 'προγραμματιεσμμ',\n",
       " 'προγραμηματθσμ',\n",
       " 'προγρζμματιζσμ',\n",
       " 'πηρογρβμματισμ',\n",
       " 'προηραμμαπτισμ',\n",
       " 'ιδπρογραμματισμ',\n",
       " 'πρθογιαμματισμ',\n",
       " 'προγξραμμαητισμ',\n",
       " 'πμρογραμματθσμ',\n",
       " 'γρογραμματισμη',\n",
       " 'προγραμματγδμ',\n",
       " 'προγραμιμαθισμ',\n",
       " 'προγρημπατισμ',\n",
       " 'προγραχμμιτισμ',\n",
       " 'πρλβγραμματισμ',\n",
       " 'κρογρασμματισμ',\n",
       " 'προγραμμαοικσμ',\n",
       " 'προγραμαατισομ',\n",
       " 'προγραμμαμτισομ',\n",
       " 'πρργραμμαωισμ',\n",
       " 'προγκρακματισμ',\n",
       " 'πρψγραμματιωσμ',\n",
       " 'προγραμμοτγσμ',\n",
       " 'προγρνμματισγμ',\n",
       " 'προγραμυατσισμ',\n",
       " 'πρψοδραμματισμ',\n",
       " 'ηπρογραμματιφμ',\n",
       " 'προγρζμματγισμ',\n",
       " 'ιπρογραμμθατισμ',\n",
       " 'προγραμοματισο',\n",
       " 'προυραμματωσμ',\n",
       " 'προγβαμγατισμ',\n",
       " 'προμααμματισμ',\n",
       " 'ποργραμματιμ',\n",
       " 'προδγρκαμματισμ',\n",
       " 'προγραμλττισμ',\n",
       " 'προκραμματιση',\n",
       " 'πρκγραεμματισμ',\n",
       " 'προγραμμιατηισμ',\n",
       " 'προεραμβατισμ',\n",
       " 'ρρογδραμματισμ',\n",
       " 'πγρογκραμματισμ',\n",
       " 'πβροτγραμματισμ',\n",
       " 'φρπογραμματισμ',\n",
       " 'προγρνμμαθισμ',\n",
       " 'πρρογραμματιασμ',\n",
       " 'πζογραμμαρτισμ',\n",
       " 'προγραμματισσα',\n",
       " 'προηγγραμματισμ',\n",
       " 'πρπγραμγατισμ',\n",
       " 'προζγθαμματισμ',\n",
       " 'προγραδχμματισμ',\n",
       " 'προργρπμματισμ',\n",
       " 'προγραμμσαντισμ',\n",
       " 'προγραμματλισκμ',\n",
       " 'νπρογρταμματισμ',\n",
       " 'προγχραμματτσμ',\n",
       " 'προγρφβματισμ',\n",
       " 'προγραμδμιατισμ',\n",
       " 'προγρημμαφτισμ',\n",
       " 'γρογραμματλισμ',\n",
       " 'προγραμματδχσμ',\n",
       " 'υρογραμμθτισμ',\n",
       " 'προγρεαμματισξ',\n",
       " 'προγραμματγστμ',\n",
       " 'πγογρααμματισμ',\n",
       " 'προχραμματξσμ',\n",
       " 'προγρζατμματισμ',\n",
       " 'πραγραμματιζμ',\n",
       " 'λπρογραμμαβτισμ',\n",
       " 'προγξραμματισλ',\n",
       " 'πμρογραμμφτισμ',\n",
       " 'ποηγραμματισμ',\n",
       " 'προγραμσατσμ',\n",
       " 'προγρχαγματισμ',\n",
       " 'πσογραμματιεσμ',\n",
       " 'προγρτμμαζισμ',\n",
       " 'πψογραμματισο',\n",
       " 'πξρογραγμματισμ',\n",
       " 'προερρμματισμ',\n",
       " 'προγραμματηκσμ',\n",
       " 'προγμραμμξατισμ',\n",
       " 'προγραμμχαγισμ',\n",
       " 'ππογραμρματισμ',\n",
       " 'ρπογραμματισμψ',\n",
       " 'ππρογραμαμτισμ',\n",
       " 'προμγραμματισμμ',\n",
       " 'προγραμματβισωμ',\n",
       " 'πμογραμμαεισμ',\n",
       " 'προγραμματιωνμ',\n",
       " 'πυρογραμματισχμ',\n",
       " 'πριγραμμαψτισμ',\n",
       " 'φπρχγραμματισμ',\n",
       " 'προγραμμδψισμ',\n",
       " 'φροχραμματισμ',\n",
       " 'προγραμμαθτισρμ',\n",
       " 'πποχγραμματισμ',\n",
       " 'προγραμδαβισμ',\n",
       " 'προγραηματισμη',\n",
       " 'πφρογχραμματισμ',\n",
       " 'πζογραμμλατισμ',\n",
       " 'προγρξρματισμ',\n",
       " 'προγρααμματεσμ',\n",
       " 'προγτραμμαιισμ',\n",
       " 'πκογραμμκατισμ',\n",
       " 'προγραμμωατδσμ',\n",
       " 'προβραμματησμ',\n",
       " 'πρφογραμματισμψ',\n",
       " 'προγραμματισγνμ',\n",
       " 'προμρλμματισμ',\n",
       " 'φπρογραμμντισμ',\n",
       " 'προγπργαμματισμ',\n",
       " 'ρρμογραμματισμ',\n",
       " 'προγρχμματνσμ',\n",
       " 'προγραμνεατισμ',\n",
       " 'ξροοραμματισμ',\n",
       " 'σπρογιαμματισμ',\n",
       " 'πρξγεραμματισμ',\n",
       " 'προγρξαμματισβ',\n",
       " 'προψγραμματηισμ',\n",
       " 'πραογραμματχσμ',\n",
       " 'προαραμμψατισμ',\n",
       " 'προγρπαμματδισμ',\n",
       " 'προζραομματισμ',\n",
       " 'προγηξμματισμ',\n",
       " 'προγααμματεσμ',\n",
       " 'προγηαμμαστισμ',\n",
       " 'πγρογραμματισζμ',\n",
       " ...}"
      ]
     },
     "execution_count": 251,
     "metadata": {},
     "output_type": "execute_result"
    }
   ],
   "source": [
    "# two edit distances from input word\n",
    "edits2(word)"
   ]
  },
  {
   "cell_type": "code",
   "execution_count": 252,
   "metadata": {},
   "outputs": [
    {
     "data": {
      "text/plain": [
       "{'προγραμματισμο', 'προγραμματιστ'}"
      ]
     },
     "execution_count": 252,
     "metadata": {},
     "output_type": "execute_result"
    }
   ],
   "source": [
    "# get correct words from above set\n",
    "known(edits1(word))"
   ]
  },
  {
   "cell_type": "code",
   "execution_count": 253,
   "metadata": {},
   "outputs": [
    {
     "data": {
      "text/plain": [
       "{'προεραομματισμ',\n",
       " 'υπριογραμματισμ',\n",
       " 'προγραμωματισλμ',\n",
       " 'προγρψμμυατισμ',\n",
       " 'προγρατμμαγισμ',\n",
       " 'προγραμματισμαχ',\n",
       " 'απρογραμμηατισμ',\n",
       " 'προδγραμμαπτισμ',\n",
       " 'θπρογραμματεισμ',\n",
       " 'προγραμματιψωσμ',\n",
       " 'προγραγματιρσμ',\n",
       " 'προγραμλματιασμ',\n",
       " 'προγραμθματισι',\n",
       " 'προχρμματισμ',\n",
       " 'προγζραμματγσμ',\n",
       " 'προγραμματλισβμ',\n",
       " 'προγρεμοματισμ',\n",
       " 'προγραμματκσμν',\n",
       " 'πρζθογραμματισμ',\n",
       " 'προγρμμματτισμ',\n",
       " 'προγραμματγισμ',\n",
       " 'προγρυαμμκτισμ',\n",
       " 'προγραμθατιψσμ',\n",
       " 'πβογραμματισκ',\n",
       " 'προγραμσματγσμ',\n",
       " 'προνγραμματιωμ',\n",
       " 'πρτγραμμτισμ',\n",
       " 'τπρογραμματιεσμ',\n",
       " 'προτραμδατισμ',\n",
       " 'προγραωματιλμ',\n",
       " 'προγρχαμματισμτ',\n",
       " 'προγραμχματισμι',\n",
       " 'μπρογραμματιζσμ',\n",
       " 'προγραμμαδτιοσμ',\n",
       " 'προγρατμματγισμ',\n",
       " 'πθρογραμματιστ',\n",
       " 'πρνογρθαμματισμ',\n",
       " 'προεγηραμματισμ',\n",
       " 'προγραθρατισμ',\n",
       " 'πλογραημματισμ',\n",
       " 'ζπρογραμματισλμ',\n",
       " 'προγραδματισαμ',\n",
       " 'πρθγραμματισημ',\n",
       " 'προγραμμακτιπσμ',\n",
       " 'πμογραμμαωισμ',\n",
       " 'προγρειαμματισμ',\n",
       " 'προγρατμματνισμ',\n",
       " 'προγραμμααισθμ',\n",
       " 'προγφαμμβτισμ',\n",
       " 'πρλογραμμιτισμ',\n",
       " 'προξγραωμματισμ',\n",
       " 'πρπγραμματιμ',\n",
       " 'ψρπογραμματισμ',\n",
       " 'πζοοραμματισμ',\n",
       " 'λπρογργμματισμ',\n",
       " 'προγρψαμμαμισμ',\n",
       " 'προγραμματωιωσμ',\n",
       " 'προγρχμμχατισμ',\n",
       " 'σπρογραμματθσμ',\n",
       " 'προκγρυαμματισμ',\n",
       " 'προτγραμτατισμ',\n",
       " 'προγρξαμμνατισμ',\n",
       " 'χπροβραμματισμ',\n",
       " 'πρριογραμματισμ',\n",
       " 'προυγραλμματισμ',\n",
       " 'προγρηαμμρτισμ',\n",
       " 'πρλγραμματισνμ',\n",
       " 'προγραμματδσαμ',\n",
       " 'προθραμματισμσ',\n",
       " 'βπρογραμμαθτισμ',\n",
       " 'πρζγραμματιβσμ',\n",
       " 'πρηοιγραμματισμ',\n",
       " 'προγραμματισρχμ',\n",
       " 'ερογρδαμματισμ',\n",
       " 'προγραμματανσμ',\n",
       " 'πρπογραμματισγμ',\n",
       " 'προγραμνατιμ',\n",
       " 'προγραμμμσατισμ',\n",
       " 'προχγραμματασμ',\n",
       " 'προγραμλατυσμ',\n",
       " 'προγγρυμματισμ',\n",
       " 'προγραβματρισμ',\n",
       " 'αρογρκαμματισμ',\n",
       " 'προγραμαματγισμ',\n",
       " 'προιγραμματφισμ',\n",
       " 'παζγραμματισμ',\n",
       " 'πκρογρμαμματισμ',\n",
       " 'προγραμψματιβμ',\n",
       " 'προυγραμματρσμ',\n",
       " 'προργραμματισμψ',\n",
       " 'πτροβγραμματισμ',\n",
       " 'δππογραμματισμ',\n",
       " 'προγραμθατισυμ',\n",
       " 'ξπρογραμμαπτισμ',\n",
       " 'πγρογραμμαξισμ',\n",
       " 'πρωογραμμαμτισμ',\n",
       " 'μπρογραμματισψ',\n",
       " 'προαραψμματισμ',\n",
       " 'γρογρζαμματισμ',\n",
       " 'πρεογραβματισμ',\n",
       " 'προοραμπματισμ',\n",
       " 'μπρογρψαμματισμ',\n",
       " 'προγραμωατισξμ',\n",
       " 'προγρατματψσμ',\n",
       " 'προχραμμοατισμ',\n",
       " 'βπρογραμματισω',\n",
       " 'ηπρογραμμαοτισμ',\n",
       " 'προγεραυματισμ',\n",
       " 'προγρωμμακτισμ',\n",
       " 'οπρογραμματυισμ',\n",
       " 'προγραμμαιτικμ',\n",
       " 'προγραμματχβμ',\n",
       " 'πργοραζμματισμ',\n",
       " 'προφρξαμματισμ',\n",
       " 'πρθτγραμματισμ',\n",
       " 'πηρογραμματφσμ',\n",
       " 'πβογρωαμματισμ',\n",
       " 'προγψραμμφατισμ',\n",
       " 'πτρογραμαματισμ',\n",
       " 'προγρατμμζτισμ',\n",
       " 'πρροφραμματισμ',\n",
       " 'πρπογραμματισδ',\n",
       " 'προμραμματιχσμ',\n",
       " 'ωπροαγραμματισμ',\n",
       " 'προγεραμματκσμ',\n",
       " 'πρρογγραμματισμ',\n",
       " 'πριγογραμματισμ',\n",
       " 'προγωραμματισμω',\n",
       " 'προγραμομαπισμ',\n",
       " 'προγραμαημτισμ',\n",
       " 'προγραμμαβτιστ',\n",
       " 'προγραμμιατιρσμ',\n",
       " 'ιπρογρωαμματισμ',\n",
       " 'προγραμματιξσυ',\n",
       " 'προγρωαμματχισμ',\n",
       " 'προγραρμματισγμ',\n",
       " 'ηρογραμμβτισμ',\n",
       " 'προγραυηματισμ',\n",
       " 'πεεγραμματισμ',\n",
       " 'πρνογραματισμ',\n",
       " 'πλρογραμματθισμ',\n",
       " 'ιπρογραμμαλτισμ',\n",
       " 'προγραιματισψ',\n",
       " 'προγραμμιτισμβ',\n",
       " 'προνροαμματισμ',\n",
       " 'προγωαψματισμ',\n",
       " 'προγραμγαπισμ',\n",
       " 'προγραμματισκλμ',\n",
       " 'πωρογραμμπτισμ',\n",
       " 'τρογψραμματισμ',\n",
       " 'πργογραμματισμξ',\n",
       " 'προγλαμπατισμ',\n",
       " 'πχροηγραμματισμ',\n",
       " 'προγραμοματιδμ',\n",
       " 'ψπρογραμματισβμ',\n",
       " 'προσραμμαθτισμ',\n",
       " 'προγρφμηματισμ',\n",
       " 'προγραμμδλισμ',\n",
       " 'προγραμμφτισρμ',\n",
       " 'προγραμμζξατισμ',\n",
       " 'δρογραμματχσμ',\n",
       " 'προγρπμματοισμ',\n",
       " 'πρηογραμμιατισμ',\n",
       " 'προγραρμητισμ',\n",
       " 'προυραμμθατισμ',\n",
       " 'προγλαμμγτισμ',\n",
       " 'πωογρζαμματισμ',\n",
       " 'προγραμμδτισμω',\n",
       " 'προγραδμζατισμ',\n",
       " 'ζπρογραμψατισμ',\n",
       " 'προχγρυμματισμ',\n",
       " 'ποοβγραμματισμ',\n",
       " 'προνραμματκσμ',\n",
       " 'προγραμματυρσμ',\n",
       " 'πρσγραμματφισμ',\n",
       " 'ταπρογραμματισμ',\n",
       " 'προγψαμμκατισμ',\n",
       " 'προγναμμνατισμ',\n",
       " 'πβογραμμξατισμ',\n",
       " 'προγγραμμαιτσμ',\n",
       " 'προγφαμμωτισμ',\n",
       " 'πρκογδραμματισμ',\n",
       " 'πχογραξματισμ',\n",
       " 'πργγρεμματισμ',\n",
       " 'προγραμαατλσμ',\n",
       " 'προγραμμθατδσμ',\n",
       " 'μπρογραμμαπτισμ',\n",
       " 'προγναμματισθμ',\n",
       " 'πνρογβαμματισμ',\n",
       " 'προγκαμμαδισμ',\n",
       " 'προμγραμματασμ',\n",
       " 'προγραμμαυτισχ',\n",
       " 'πδρογβαμματισμ',\n",
       " 'πθογραμηματισμ',\n",
       " 'πρδογραμματισσμ',\n",
       " 'προγραμμαητεσμ',\n",
       " 'πμρογραμμρατισμ',\n",
       " 'πρκγραμματισωμ',\n",
       " 'προγραμματικσθμ',\n",
       " 'παρογραμμσατισμ',\n",
       " 'προγλραμματισπμ',\n",
       " 'πγρογραμματβσμ',\n",
       " 'προγραμμαλτισο',\n",
       " 'ποροτραμματισμ',\n",
       " 'προξραγμματισμ',\n",
       " 'πρβγραιμματισμ',\n",
       " 'προγραημμγτισμ',\n",
       " 'πραογαμματισμ',\n",
       " 'ξρογρακματισμ',\n",
       " 'πηρογραμμθτισμ',\n",
       " 'ψπρογφαμματισμ',\n",
       " 'πσογραμματιυσμ',\n",
       " 'προγηραμματιβμ',\n",
       " 'ιφογραμματισμ',\n",
       " 'πζρογραμβματισμ',\n",
       " 'λκπρογραμματισμ',\n",
       " 'προγρραθματισμ',\n",
       " 'πρυγραμματισμρ',\n",
       " 'προγραμμφαχισμ',\n",
       " 'προγραμμαητισφ',\n",
       " 'πγρραμματισμ',\n",
       " 'προγραμματχσδμ',\n",
       " 'λπρνογραμματισμ',\n",
       " 'προγραμμγτιξμ',\n",
       " 'προγραμμζτισι',\n",
       " 'προγραγμρτισμ',\n",
       " 'τπρογρημματισμ',\n",
       " 'προγροβμματισμ',\n",
       " 'πνρογραμμφατισμ',\n",
       " 'σρογραμματπσμ',\n",
       " 'προιγραμυματισμ',\n",
       " 'πηογραμμφατισμ',\n",
       " 'προγραμματπσμφ',\n",
       " 'προγωαμματισπμ',\n",
       " 'προγραμβματιτμ',\n",
       " 'προαγραμματζσμ',\n",
       " 'ππαρογραμματισμ',\n",
       " 'προγραμηαατισμ',\n",
       " 'πφρογρρμματισμ',\n",
       " 'προγραεματισμ',\n",
       " 'πρθογραμματισμμ',\n",
       " 'ηπρογραμματισκμ',\n",
       " 'προγραμμψατισρμ',\n",
       " 'προγρπμματισα',\n",
       " 'πδξρογραμματισμ',\n",
       " 'προγραφματιωσμ',\n",
       " 'προγρεμματισψμ',\n",
       " 'πιρογραμματισμι',\n",
       " 'ρρογραμματισν',\n",
       " 'πρπογρασμματισμ',\n",
       " 'ρπρογραμξματισμ',\n",
       " 'προγρσμματυισμ',\n",
       " 'προγρχμαατισμ',\n",
       " 'ξπρογπαμματισμ',\n",
       " 'προγρακφατισμ',\n",
       " 'προγραμμζρτισμ',\n",
       " 'προγρζαμματισμ',\n",
       " 'γρογραμματισμχ',\n",
       " 'ππρογραμμαπισμ',\n",
       " 'ππρονραμματισμ',\n",
       " 'πεογραμματισμη',\n",
       " 'πρηγραμμαψτισμ',\n",
       " 'προγαμματιφμ',\n",
       " 'προγκραμνατισμ',\n",
       " 'προγξαμματισζ',\n",
       " 'προμραωματισμ',\n",
       " 'πνογραμματισξ',\n",
       " 'προγριμματισθμ',\n",
       " 'προγιαμματγισμ',\n",
       " 'πζρογραηματισμ',\n",
       " 'πρδγραυμματισμ',\n",
       " 'προγραμματκισλ',\n",
       " 'προγδραμμαπισμ',\n",
       " 'προγραμματσσξ',\n",
       " 'προγκραμμαδισμ',\n",
       " 'προγραμματγσλμ',\n",
       " 'πρεοθραμματισμ',\n",
       " 'προγραρμματισχ',\n",
       " 'ωρογρταμματισμ',\n",
       " 'πφογραμματιημ',\n",
       " 'πχογραμκατισμ',\n",
       " 'προγραμμδτιγμ',\n",
       " 'ψπρογραμματπσμ',\n",
       " 'προψγραμματιαμ',\n",
       " 'προγραδμσματισμ',\n",
       " 'προαραμμθτισμ',\n",
       " 'ποργραμματισχμ',\n",
       " 'προρραεματισμ',\n",
       " 'πργραμματισχμ',\n",
       " 'προσρρμματισμ',\n",
       " 'προγσραμμρτισμ',\n",
       " 'προγργαμματιρσμ',\n",
       " 'πρηομγραμματισμ',\n",
       " 'πρθγραμματισμι',\n",
       " 'πριγραμκατισμ',\n",
       " 'πγοαραμματισμ',\n",
       " 'προγραμματγσχ',\n",
       " 'παρογραμμμτισμ',\n",
       " 'προγοραμματιχμ',\n",
       " 'προγρεαμκατισμ',\n",
       " 'φξπρογραμματισμ',\n",
       " 'προγραμμαοισμν',\n",
       " 'τρογραμμτισμ',\n",
       " 'πεογραμματισγ',\n",
       " 'προξραμμζατισμ',\n",
       " 'προγραομματγισμ',\n",
       " 'προνραμματιχσμ',\n",
       " 'κρογρτμματισμ',\n",
       " 'προγραμμειατισμ',\n",
       " 'προγλραμματγισμ',\n",
       " 'ιπρογραμμκτισμ',\n",
       " 'προγραμδρματισμ',\n",
       " 'προγρμμματισσμ',\n",
       " 'φπρογραμμαζτισμ',\n",
       " 'προγραμμματισυμ',\n",
       " 'δπρογρζαμματισμ',\n",
       " 'προγρχφμματισμ',\n",
       " 'ωπρογρυαμματισμ',\n",
       " 'προγραημματιημ',\n",
       " 'πκογμραμματισμ',\n",
       " 'πνρογραμμταισμ',\n",
       " 'προγραμματισψζμ',\n",
       " 'προγραμματησμυ',\n",
       " 'φρογρλμματισμ',\n",
       " 'πρπογραμματοσμ',\n",
       " 'πρνγραμματχισμ',\n",
       " 'προγραπμμλτισμ',\n",
       " 'πρωογβαμματισμ',\n",
       " 'προγυαμματμισμ',\n",
       " 'προγρφμματρισμ',\n",
       " 'ποιογραμματισμ',\n",
       " 'προγραμψατιγσμ',\n",
       " 'πτογραμπματισμ',\n",
       " 'πξρογραμματγσμ',\n",
       " 'προγραζμματιεμ',\n",
       " 'προγραμμθατισυ',\n",
       " 'λπροθραμματισμ',\n",
       " 'προγρνεαμματισμ',\n",
       " 'προγρυμμξατισμ',\n",
       " 'προγραμματισμισ',\n",
       " 'ιπρογραμμαοισμ',\n",
       " 'πωρργραμματισμ',\n",
       " 'προχγραμματιησμ',\n",
       " 'προγραοζατισμ',\n",
       " 'πρβοχγραμματισμ',\n",
       " 'προγραμδατδσμ',\n",
       " 'πρκογραμχματισμ',\n",
       " 'προελγραμματισμ',\n",
       " 'πβρογραμμαωτισμ',\n",
       " 'πρπγραματισμ',\n",
       " 'προγσαμμφατισμ',\n",
       " 'παρλγραμματισμ',\n",
       " 'προγρθαμιατισμ',\n",
       " 'προγραλμματπσμ',\n",
       " 'παογυαμματισμ',\n",
       " 'πρσνραμματισμ',\n",
       " 'προγραιμματισμσ',\n",
       " 'προγγραμματιγμ',\n",
       " 'προγραθματισμξ',\n",
       " 'πλρογραμμυατισμ',\n",
       " 'προγραμμγτιωμ',\n",
       " 'πμογπραμματισμ',\n",
       " 'πρψγαρμματισμ',\n",
       " 'προιραμματιμσμ',\n",
       " 'πρθγραμμαιτσμ',\n",
       " 'προγξαρματισμ',\n",
       " 'πρδογραμδατισμ',\n",
       " 'παοογραμματισμ',\n",
       " 'προγρεαμμαψισμ',\n",
       " 'προγξαγματισμ',\n",
       " 'προγλραμματισνμ',\n",
       " 'προγσαμματζισμ',\n",
       " 'ιπρογργμματισμ',\n",
       " 'προγρθχμματισμ',\n",
       " 'προγραμματτθισμ',\n",
       " 'προγρμαματισμθ',\n",
       " 'υπρογααμματισμ',\n",
       " 'ρπεογραμματισμ',\n",
       " 'προγραμμφτισδμ',\n",
       " 'πξρογσαμματισμ',\n",
       " 'βρογραμμοτισμ',\n",
       " 'προγξραμιματισμ',\n",
       " 'ωπρογραμψματισμ',\n",
       " 'προγραμχματισμρ',\n",
       " 'προγραμμαιτωισμ',\n",
       " 'προγραωμαθισμ',\n",
       " 'προγραμψαττσμ',\n",
       " 'πτρογραμμαισμ',\n",
       " 'πριογρυαμματισμ',\n",
       " 'προγραωμμκατισμ',\n",
       " 'προγρθαμματιξμ',\n",
       " 'πχρογραμμαητισμ',\n",
       " 'πκρογραμματξισμ',\n",
       " 'προγεραμματξισμ',\n",
       " 'πρβογραμματσμ',\n",
       " 'πριογραμματοσμ',\n",
       " 'προγρξτμματισμ',\n",
       " 'εροοραμματισμ',\n",
       " 'πηρογραφματισμ',\n",
       " 'προγρξμματισμχ',\n",
       " 'πργογραλματισμ',\n",
       " 'ρογζαμματισμ',\n",
       " 'ηπρογραμματισημ',\n",
       " 'προυγραλματισμ',\n",
       " 'κπρογραμμβατισμ',\n",
       " 'ψρογραμμαοτισμ',\n",
       " 'πρμηογραμματισμ',\n",
       " 'απροφγραμματισμ',\n",
       " 'πηδρογραμματισμ',\n",
       " 'προγριμμδατισμ',\n",
       " 'προγραμμττδσμ',\n",
       " 'πρλογραμματχισμ',\n",
       " 'περογυαμματισμ',\n",
       " 'βρογγραμματισμ',\n",
       " 'προβγραμμχατισμ',\n",
       " 'πψροδραμματισμ',\n",
       " 'ψπεογραμματισμ',\n",
       " 'προλβγραμματισμ',\n",
       " 'προγραλματζσμ',\n",
       " 'προγρνμματυισμ',\n",
       " 'πωρογραμματισμλ',\n",
       " 'πχρνογραμματισμ',\n",
       " 'παρογραμματισψ',\n",
       " 'προγρπαμμξατισμ',\n",
       " 'προγραμμαξτισμμ',\n",
       " 'τπρογραμμιτισμ',\n",
       " 'πρμογραμματιξμ',\n",
       " 'προγραμμρατισφ',\n",
       " 'προγραμματρισο',\n",
       " 'ιπρογταμματισμ',\n",
       " 'μπρογρξμματισμ',\n",
       " 'πρζοβραμματισμ',\n",
       " 'τπρογραμχατισμ',\n",
       " 'προτγραυμματισμ',\n",
       " 'πορογραμμαιτισμ',\n",
       " 'προγραμομφατισμ',\n",
       " 'προκραμματχισμ',\n",
       " 'πφρογραμματισμο',\n",
       " 'προγξραμματισε',\n",
       " 'πρζγρθαμματισμ',\n",
       " 'προγρμματινσμ',\n",
       " 'προμγραμθατισμ',\n",
       " 'προγρκαμματεισμ',\n",
       " 'πμογψραμματισμ',\n",
       " 'επρογραμμφατισμ',\n",
       " 'προγραμμοτνισμ',\n",
       " 'ρπμγραμματισμ',\n",
       " 'προγραζβατισμ',\n",
       " 'προχραμματρσμ',\n",
       " 'προγραμμρατπισμ',\n",
       " 'γρογραμμαρτισμ',\n",
       " 'προγραμμμτισιμ',\n",
       " 'προγρμαγματισμ',\n",
       " 'προγρβαμνατισμ',\n",
       " 'προγραμβατιρσμ',\n",
       " 'προγραμμαομισμ',\n",
       " 'προγραμματιρσμυ',\n",
       " 'προγραμμψτιβσμ',\n",
       " 'προνγραξματισμ',\n",
       " 'προγαρμματιισμ',\n",
       " 'πχρογραμματισαμ',\n",
       " 'προγβραμματιισμ',\n",
       " 'προγπραμχματισμ',\n",
       " 'χπρογραμμαπτισμ',\n",
       " 'προγραμμαυιβμ',\n",
       " 'προγραμυοματισμ',\n",
       " 'πωρογραμματιαμ',\n",
       " 'πεογραμχατισμ',\n",
       " 'πιογααμματισμ',\n",
       " 'προργραμματισζ',\n",
       " 'παρογραμματισμκ',\n",
       " 'προχραδματισμ',\n",
       " 'ερογρααμματισμ',\n",
       " 'προγβυμματισμ',\n",
       " 'προγρφμεατισμ',\n",
       " 'προγρηαμδατισμ',\n",
       " 'προγρακμματιφμ',\n",
       " 'πσρογραμμυατισμ',\n",
       " 'προγραμσμματισμ',\n",
       " 'πλροτραμματισμ',\n",
       " 'προγρξαμματισζμ',\n",
       " 'πρχογραμματισμξ',\n",
       " 'προγραυμματισβμ',\n",
       " 'προαγραμμζατισμ',\n",
       " 'προγρηαδματισμ',\n",
       " 'προγθαμματζσμ',\n",
       " 'πριογραμμδτισμ',\n",
       " 'προαγραιμματισμ',\n",
       " 'ξθρογραμματισμ',\n",
       " 'προγρψυματισμ',\n",
       " 'προγραμμγτισνμ',\n",
       " 'προγραμματπσμτ',\n",
       " 'ψρογζαμματισμ',\n",
       " 'πτρογραρμματισμ',\n",
       " 'προηραυμματισμ',\n",
       " 'τπρογραμμμτισμ',\n",
       " 'προγκαμματμσμ',\n",
       " 'πδροβγραμματισμ',\n",
       " 'προγραμεματβσμ',\n",
       " 'προγρψμμαψτισμ',\n",
       " 'προγρπαμματιστμ',\n",
       " 'προγραμμαθτισμθ',\n",
       " 'πλογθαμματισμ',\n",
       " 'προγραμαατεσμ',\n",
       " 'προγραμκματκσμ',\n",
       " 'πρδογραμματισκ',\n",
       " 'προγραμμοωισμ',\n",
       " 'πρψογραμματισφ',\n",
       " 'πκρογραμματισψμ',\n",
       " 'προεραμμιατισμ',\n",
       " 'προδγριμματισμ',\n",
       " 'προπραπματισμ',\n",
       " 'προγραμμδαοτισμ',\n",
       " 'πρμγραμματισν',\n",
       " 'προγραμμααιστμ',\n",
       " 'προηγραμμαμισμ',\n",
       " 'προγραψμματισμλ',\n",
       " 'πφρογραμμζτισμ',\n",
       " 'προγραμμαξτισμω',\n",
       " 'παρογραιμματισμ',\n",
       " 'προγραμματιοησμ',\n",
       " 'προγραμματξισα',\n",
       " 'πρψγραψμματισμ',\n",
       " 'προγρδαμματισγμ',\n",
       " 'προγραμματζισμε',\n",
       " 'προθριμματισμ',\n",
       " 'προγραμυματισμχ',\n",
       " 'προγραμματισρ',\n",
       " 'προγραγμμαφισμ',\n",
       " 'προγραμμακτιτμ',\n",
       " 'προτπαμματισμ',\n",
       " 'προγσραμμαζτισμ',\n",
       " 'προγρπμματισχ',\n",
       " 'προγαμματωσμ',\n",
       " 'προγιραμμδατισμ',\n",
       " 'προογραμμαγτισμ',\n",
       " 'σρογραμμαψισμ',\n",
       " 'επρογραμματιχμ',\n",
       " 'προγραγμματισμθ',\n",
       " 'προγκαμματφσμ',\n",
       " 'προγρχαμζατισμ',\n",
       " 'χρογρζαμματισμ',\n",
       " 'προγρααμμτατισμ',\n",
       " 'χρογραιματισμ',\n",
       " 'πηογραμματισμχ',\n",
       " 'προγρβμματδσμ',\n",
       " 'πρξογφαμματισμ',\n",
       " 'πρξογραμματισπμ',\n",
       " 'προγραμμνατισμδ',\n",
       " 'προγραμματισια',\n",
       " 'προγραμκταισμ',\n",
       " 'υπρογραμαματισμ',\n",
       " 'προγραμμαπτισμη',\n",
       " 'πραγραμμαοισμ',\n",
       " 'προγραμματκισμτ',\n",
       " 'προγραμχμβατισμ',\n",
       " 'προγιραμνματισμ',\n",
       " 'πκογραμματισμλ',\n",
       " 'προγχραμφματισμ',\n",
       " 'προγραμματκσμβ',\n",
       " 'προγρμμματισμφ',\n",
       " 'προγραμτματισ',\n",
       " 'δρφγραμματισμ',\n",
       " 'πσογραμματισμλ',\n",
       " 'πχροτραμματισμ',\n",
       " 'ψρογραμνματισμ',\n",
       " 'πραγραμματοσμ',\n",
       " 'πραογραμματιοσμ',\n",
       " 'προγραμπατιισμ',\n",
       " 'προγρραμρατισμ',\n",
       " 'πεογραμματπσμ',\n",
       " 'προγρατμμαπτισμ',\n",
       " 'πνρογρνμματισμ',\n",
       " 'παογραμβατισμ',\n",
       " 'προγραμμαλτιδσμ',\n",
       " 'προγραμμυτιιμ',\n",
       " 'πεγογραμματισμ',\n",
       " 'προγραμμαυτηισμ',\n",
       " 'πρδγραμμαστισμ',\n",
       " 'ρρογρψμματισμ',\n",
       " 'προγραμμγτεσμ',\n",
       " 'προγραμμαντδσμ',\n",
       " 'πρξογραμμητισμ',\n",
       " 'πρνογραμμαζτισμ',\n",
       " 'θρογραμματιασμ',\n",
       " 'προγραμμξτιπμ',\n",
       " 'προγπραμγατισμ',\n",
       " 'ωρογραμματψισμ',\n",
       " 'προγραμματιρσμη',\n",
       " 'προγραμψμαζτισμ',\n",
       " 'σρογραμμαιτσμ',\n",
       " 'προγραμμαθισμε',\n",
       " 'βρογραμμσατισμ',\n",
       " 'προζραμματισξ',\n",
       " 'πρξγραμματισμι',\n",
       " 'προγραρσατισμ',\n",
       " 'προγλραμηατισμ',\n",
       " 'προγωαμματσιμ',\n",
       " 'προγγαχμματισμ',\n",
       " 'προγνυαμματισμ',\n",
       " 'προγρετμματισμ',\n",
       " 'υπρτγραμματισμ',\n",
       " 'προγραιμματθισμ',\n",
       " 'προγρξαμματισγ',\n",
       " 'προγξραμσατισμ',\n",
       " 'προγραμματπφσμ',\n",
       " 'προγραμμαιτσμθ',\n",
       " 'προγραμμοτρσμ',\n",
       " 'προγραμμδδτισμ',\n",
       " 'πυογρμμματισμ',\n",
       " 'προγραμμγατχισμ',\n",
       " 'προργαμματισμβ',\n",
       " 'πσρογραμματισνμ',\n",
       " 'προγραυμαιισμ',\n",
       " 'πνρλογραμματισμ',\n",
       " 'προγθηαμματισμ',\n",
       " 'πβρογραμματπσμ',\n",
       " 'προγραεμζτισμ',\n",
       " 'πργγραμμαωτισμ',\n",
       " 'πγρογσαμματισμ',\n",
       " 'πρψγρπμματισμ',\n",
       " 'προγμρζμματισμ',\n",
       " 'προβραμλατισμ',\n",
       " 'πσογραμματμισμ',\n",
       " 'πζρογραμματισπ',\n",
       " 'πραογραμματιπσμ',\n",
       " 'προγρλυμματισμ',\n",
       " 'επρογραμζατισμ',\n",
       " 'πρβγραμματψσμ',\n",
       " 'προεγραμμμτισμ',\n",
       " 'πυρογραμματοσμ',\n",
       " 'προγθαβμματισμ',\n",
       " 'προγραμθματισμα',\n",
       " 'ρρογηραμματισμ',\n",
       " 'προγραφμματιρμ',\n",
       " 'πραβγραμματισμ',\n",
       " 'νπρογραμμαθτισμ',\n",
       " 'πμκγραμματισμ',\n",
       " 'προγρλαμμοτισμ',\n",
       " 'πρζγραλμματισμ',\n",
       " 'υρογραμματηισμ',\n",
       " 'προφραμξατισμ',\n",
       " 'προγραιμματικμ',\n",
       " 'κρογριαμματισμ',\n",
       " 'προογραμμφατισμ',\n",
       " 'πργγραμμαφισμ',\n",
       " 'προγραμχατισημ',\n",
       " 'προγραμμζθισμ',\n",
       " 'προγρζψμματισμ',\n",
       " 'πρτνγραμματισμ',\n",
       " 'πργγραμμστισμ',\n",
       " 'πχρογρναμματισμ',\n",
       " 'προγρδαμμωατισμ',\n",
       " 'μρογραμμλτισμ',\n",
       " 'πδρπγραμματισμ',\n",
       " 'προπγραμοματισμ',\n",
       " 'προγραμματκσμκ',\n",
       " 'ποργραφμματισμ',\n",
       " 'προγραμματξσμλ',\n",
       " 'προβραμματλισμ',\n",
       " 'προγοαμματλισμ',\n",
       " 'προγθζαμματισμ',\n",
       " 'πφρργραμματισμ',\n",
       " 'προγραμμσατιυμ',\n",
       " 'ποροεγραμματισμ',\n",
       " 'προαγραμματσσμ',\n",
       " 'προγραμμαρτισμθ',\n",
       " 'πρφσογραμματισμ',\n",
       " 'πργοργμματισμ',\n",
       " 'ππογραμμωτισμ',\n",
       " 'προγρανμααισμ',\n",
       " 'ππρογραμματισμγ',\n",
       " 'πρηογραμμχτισμ',\n",
       " 'προγυαμματισξ',\n",
       " 'προγηαμμητισμ',\n",
       " 'προγτραμματσισμ',\n",
       " 'πργγραμχατισμ',\n",
       " 'προξγριαμματισμ',\n",
       " 'προγρδαμματιρσμ',\n",
       " 'προγραμρατιστμ',\n",
       " 'προγραμμαθτιησμ',\n",
       " 'πρμγραμματισυ',\n",
       " 'πριογραμμαψτισμ',\n",
       " 'λρογραμματισμυ',\n",
       " 'φρογραμματισν',\n",
       " 'προγραμμξατνσμ',\n",
       " 'προγραμκματκισμ',\n",
       " 'προιγραμματισθ',\n",
       " 'προγρλμμσατισμ',\n",
       " 'προγραμμαντισομ',\n",
       " 'προσγταμματισμ',\n",
       " 'πρμογραμματισημ',\n",
       " 'ιπρζογραμματισμ',\n",
       " 'προγρβαμματιμσμ',\n",
       " 'προπγριμματισμ',\n",
       " 'προγραμμλγισμ',\n",
       " 'προγραμνματιρμ',\n",
       " 'λρογραμματυσμ',\n",
       " 'προβγραμγματισμ',\n",
       " 'τρογραβμματισμ',\n",
       " 'προγραμμαυικσμ',\n",
       " 'προυραμμαιτισμ',\n",
       " 'προγραμμακτχισμ',\n",
       " 'πρμγραμμξατισμ',\n",
       " 'προγραμματθιγσμ',\n",
       " 'σπρογραμλατισμ',\n",
       " 'απρογραμματησμ',\n",
       " 'προεραμεματισμ',\n",
       " 'πδογραμματγισμ',\n",
       " 'προγρρμμσατισμ',\n",
       " 'προγρξμμωατισμ',\n",
       " 'προγρκμματιεμ',\n",
       " 'παρογφαμματισμ',\n",
       " 'ρροωγραμματισμ',\n",
       " 'προγζαμματισμθ',\n",
       " 'ποξογραμματισμ',\n",
       " 'πρζυραμματισμ',\n",
       " 'προζχαμματισμ',\n",
       " 'πριξγραμματισμ',\n",
       " 'προγριμμαωτισμ',\n",
       " 'προγραμματησμγ',\n",
       " 'ξπρογραθματισμ',\n",
       " 'προγοραμμζατισμ',\n",
       " 'προγραμμαμτσμ',\n",
       " 'προγρακατισμ',\n",
       " 'προγραμκανισμ',\n",
       " 'προγραμμοτισγμ',\n",
       " 'προγραμματισμεα',\n",
       " 'προαγρεμματισμ',\n",
       " 'πρβγραμμαετισμ',\n",
       " 'σρογραμματισχ',\n",
       " 'χπρογραμμαζισμ',\n",
       " 'πγογραμμαλισμ',\n",
       " 'προγρεμματισθμ',\n",
       " 'προεγραμματισχμ',\n",
       " 'προγραμωματφισμ',\n",
       " 'προγμαμματιωσμ',\n",
       " 'απρογραμμαφισμ',\n",
       " 'προτραμματισμψ',\n",
       " 'λπρονγραμματισμ',\n",
       " 'προγραρπατισμ',\n",
       " 'πρλγραμμαηισμ',\n",
       " 'προιεγραμματισμ',\n",
       " 'πρσογραμματισρμ',\n",
       " 'προδραμματιπμ',\n",
       " 'προγγαμματισβ',\n",
       " 'προγραμματιζσχ',\n",
       " 'προγραμμωαλτισμ',\n",
       " 'πρψγραμματιεσμ',\n",
       " 'πυρογραμματιγμ',\n",
       " 'προγρξαμματιρσμ',\n",
       " 'προγραμμαωτισλ',\n",
       " 'προγρηαωματισμ',\n",
       " 'ιπρογραμμυατισμ',\n",
       " 'προγρατματισμγ',\n",
       " 'πριγραμματωσμ',\n",
       " 'προψγραμματγισμ',\n",
       " 'προγραμματλσμζ',\n",
       " 'ηρογραμμδτισμ',\n",
       " 'προγραμοματιοσμ',\n",
       " 'πρεγραμμαυισμ',\n",
       " 'προγροαμμαθτισμ',\n",
       " 'υπρηογραμματισμ',\n",
       " 'απρογρχμματισμ',\n",
       " 'ζπρογραμματισν',\n",
       " 'τρογτραμματισμ',\n",
       " 'προγραμματισμαυ',\n",
       " 'προγραημαγτισμ',\n",
       " 'προγραμματγσι',\n",
       " 'προγριαμματιησμ',\n",
       " 'προγραεματιαμ',\n",
       " 'προγραζματιμσ',\n",
       " 'πβρογραμματισζ',\n",
       " 'προγρανατισμ',\n",
       " 'προγγραμμυτισμ',\n",
       " 'λρογροαμματισμ',\n",
       " 'προγρομμαωτισμ',\n",
       " 'προαγραμμαωτισμ',\n",
       " 'προγφαμματιβσμ',\n",
       " 'πρσψογραμματισμ',\n",
       " 'προγραμξματισρ',\n",
       " 'προγραφμζματισμ',\n",
       " 'επρπογραμματισμ',\n",
       " 'προγραμλθτισμ',\n",
       " 'προγραπματισδ',\n",
       " 'προγραμματιξβσμ',\n",
       " 'προγραβμμπατισμ',\n",
       " 'πρχγραμμχατισμ',\n",
       " 'προγρκμματιμ',\n",
       " 'πιρογραμματιχμ',\n",
       " 'προγραμματιφσθ',\n",
       " 'λρογραμμαδισμ',\n",
       " 'δπρογραμματισμκ',\n",
       " 'προγγαμμαχτισμ',\n",
       " 'προγοαμματιπμ',\n",
       " 'προγρψαμματλσμ',\n",
       " 'προγααραμματισμ',\n",
       " 'πθογραματισμ',\n",
       " 'προγαρμματισυμ',\n",
       " 'προγραμματψιρμ',\n",
       " 'προγραρμαχισμ',\n",
       " 'προγρψαμμαιτισμ',\n",
       " 'προγραμελτισμ',\n",
       " 'προγρπαμτατισμ',\n",
       " 'προγρατμματζσμ',\n",
       " 'προγρζαξματισμ',\n",
       " 'ηπρψγραμματισμ',\n",
       " 'προγρπμματρισμ',\n",
       " 'προγρφαμματισμψ',\n",
       " 'νρογρεαμματισμ',\n",
       " 'προγραμματισμφ',\n",
       " 'προγραμμαστισεμ',\n",
       " 'θρογραμοματισμ',\n",
       " 'νπρογραμματιψσμ',\n",
       " 'προγραμηατιμμ',\n",
       " 'προγρανωματισμ',\n",
       " 'πγρογρπμματισμ',\n",
       " 'προγριαμματισδμ',\n",
       " 'πρρογραμμαγτισμ',\n",
       " 'νρψογραμματισμ',\n",
       " 'ιρογραμματζσμ',\n",
       " 'προγραμωατιζμ',\n",
       " 'τπρογραμματιμ',\n",
       " 'προπραμματυισμ',\n",
       " 'πριγραμματπσμ',\n",
       " 'προγραμμβατρισμ',\n",
       " 'νρογραμμαφτισμ',\n",
       " 'προγρλμλατισμ',\n",
       " 'ποογραμσματισμ',\n",
       " 'πρλογραμμαμτισμ',\n",
       " 'προγεραμματιωσμ',\n",
       " 'ορογαραμματισμ',\n",
       " 'προγραμμαυτισεμ',\n",
       " 'πορογραμματμσμ',\n",
       " 'πσρογραμματιμσ',\n",
       " 'πρτγραμματιμσ',\n",
       " 'λρογραμμοατισμ',\n",
       " 'προγραμμχτγσμ',\n",
       " 'προγρνμωματισμ',\n",
       " 'προγραφμμαγτισμ',\n",
       " 'πφογραμμαυισμ',\n",
       " 'πωοβγραμματισμ',\n",
       " 'πρωογραμματισλμ',\n",
       " 'προγραμματιηξσμ',\n",
       " 'προτγραμματιμσμ',\n",
       " 'προξραμιματισμ',\n",
       " 'προγρπμματισμψ',\n",
       " 'πνρεγραμματισμ',\n",
       " 'προγραμμαλγτισμ',\n",
       " 'ρρογραμυατισμ',\n",
       " 'προγραφμματισχμ',\n",
       " 'οπρογραμπματισμ',\n",
       " 'προγλραμυματισμ',\n",
       " 'προπραμματισμκ',\n",
       " 'προκραλματισμ',\n",
       " 'προγραμματισφμε',\n",
       " 'παογραυμματισμ',\n",
       " 'φπρογραμματμισμ',\n",
       " 'προλγραμματινσμ',\n",
       " 'ρπογραμματισμλ',\n",
       " 'προγεραμματισαμ',\n",
       " 'προτραμζματισμ',\n",
       " 'πκρφογραμματισμ',\n",
       " 'προγραθμμαζτισμ',\n",
       " 'δρογρξαμματισμ',\n",
       " 'λπροεραμματισμ',\n",
       " 'πξογραμγματισμ',\n",
       " 'πργογραμμυατισμ',\n",
       " 'προγλαμματιλμ',\n",
       " 'γπρογραμματιχσμ',\n",
       " 'προγραρμμρατισμ',\n",
       " 'πρπγραμματγσμ',\n",
       " 'προγραμματιεσμμ',\n",
       " 'προγραμηματθσμ',\n",
       " 'προγρζμματιζσμ',\n",
       " 'πηρογρβμματισμ',\n",
       " 'προηραμμαπτισμ',\n",
       " 'ιδπρογραμματισμ',\n",
       " 'πρθογιαμματισμ',\n",
       " 'προγξραμμαητισμ',\n",
       " 'πμρογραμματθσμ',\n",
       " 'γρογραμματισμη',\n",
       " 'προγραμματγδμ',\n",
       " 'προγραμιμαθισμ',\n",
       " 'προγρημπατισμ',\n",
       " 'προγραχμμιτισμ',\n",
       " 'πρλβγραμματισμ',\n",
       " 'κρογρασμματισμ',\n",
       " 'προγραμμαοικσμ',\n",
       " 'προγραμαατισομ',\n",
       " 'προγραμμαμτισομ',\n",
       " 'πρργραμμαωισμ',\n",
       " 'προγκρακματισμ',\n",
       " 'πρψγραμματιωσμ',\n",
       " 'προγραμμοτγσμ',\n",
       " 'προγρνμματισγμ',\n",
       " 'προγραμυατσισμ',\n",
       " 'πρψοδραμματισμ',\n",
       " 'ηπρογραμματιφμ',\n",
       " 'προγρζμματγισμ',\n",
       " 'ιπρογραμμθατισμ',\n",
       " 'προγραμοματισο',\n",
       " 'προυραμματωσμ',\n",
       " 'προγβαμγατισμ',\n",
       " 'προμααμματισμ',\n",
       " 'ποργραμματιμ',\n",
       " 'προδγρκαμματισμ',\n",
       " 'προγραμλττισμ',\n",
       " 'προκραμματιση',\n",
       " 'πρκγραεμματισμ',\n",
       " 'προγραμμιατηισμ',\n",
       " 'προεραμβατισμ',\n",
       " 'ρρογδραμματισμ',\n",
       " 'πγρογκραμματισμ',\n",
       " 'πβροτγραμματισμ',\n",
       " 'φρπογραμματισμ',\n",
       " 'προγρνμμαθισμ',\n",
       " 'πρρογραμματιασμ',\n",
       " 'πζογραμμαρτισμ',\n",
       " 'προγραμματισσα',\n",
       " 'προηγγραμματισμ',\n",
       " 'πρπγραμγατισμ',\n",
       " 'προζγθαμματισμ',\n",
       " 'προγραδχμματισμ',\n",
       " 'προργρπμματισμ',\n",
       " 'προγραμμσαντισμ',\n",
       " 'προγραμματλισκμ',\n",
       " 'νπρογρταμματισμ',\n",
       " 'προγχραμματτσμ',\n",
       " 'προγρφβματισμ',\n",
       " 'προγραμδμιατισμ',\n",
       " 'προγρημμαφτισμ',\n",
       " 'γρογραμματλισμ',\n",
       " 'προγραμματδχσμ',\n",
       " 'υρογραμμθτισμ',\n",
       " 'προγρεαμματισξ',\n",
       " 'προγραμματγστμ',\n",
       " 'πγογρααμματισμ',\n",
       " 'προχραμματξσμ',\n",
       " 'προγρζατμματισμ',\n",
       " 'πραγραμματιζμ',\n",
       " 'λπρογραμμαβτισμ',\n",
       " 'προγξραμματισλ',\n",
       " 'πμρογραμμφτισμ',\n",
       " 'ποηγραμματισμ',\n",
       " 'προγραμσατσμ',\n",
       " 'προγρχαγματισμ',\n",
       " 'πσογραμματιεσμ',\n",
       " 'προγρτμμαζισμ',\n",
       " 'πψογραμματισο',\n",
       " 'πξρογραγμματισμ',\n",
       " 'προερρμματισμ',\n",
       " 'προγραμματηκσμ',\n",
       " 'προγμραμμξατισμ',\n",
       " 'προγραμμχαγισμ',\n",
       " 'ππογραμρματισμ',\n",
       " 'ρπογραμματισμψ',\n",
       " 'ππρογραμαμτισμ',\n",
       " 'προμγραμματισμμ',\n",
       " 'προγραμματβισωμ',\n",
       " 'πμογραμμαεισμ',\n",
       " 'προγραμματιωνμ',\n",
       " 'πυρογραμματισχμ',\n",
       " 'πριγραμμαψτισμ',\n",
       " 'φπρχγραμματισμ',\n",
       " 'προγραμμδψισμ',\n",
       " 'φροχραμματισμ',\n",
       " 'προγραμμαθτισρμ',\n",
       " 'πποχγραμματισμ',\n",
       " 'προγραμδαβισμ',\n",
       " 'προγραηματισμη',\n",
       " 'πφρογχραμματισμ',\n",
       " 'πζογραμμλατισμ',\n",
       " 'προγρξρματισμ',\n",
       " 'προγρααμματεσμ',\n",
       " 'προγτραμμαιισμ',\n",
       " 'πκογραμμκατισμ',\n",
       " 'προγραμμωατδσμ',\n",
       " 'προβραμματησμ',\n",
       " 'πρφογραμματισμψ',\n",
       " 'προγραμματισγνμ',\n",
       " 'προμρλμματισμ',\n",
       " 'φπρογραμμντισμ',\n",
       " 'προγπργαμματισμ',\n",
       " 'ρρμογραμματισμ',\n",
       " 'προγρχμματνσμ',\n",
       " 'προγραμνεατισμ',\n",
       " 'ξροοραμματισμ',\n",
       " 'σπρογιαμματισμ',\n",
       " 'πρξγεραμματισμ',\n",
       " 'προγρξαμματισβ',\n",
       " 'προψγραμματηισμ',\n",
       " 'πραογραμματχσμ',\n",
       " 'προαραμμψατισμ',\n",
       " 'προγρπαμματδισμ',\n",
       " 'προζραομματισμ',\n",
       " 'προγηξμματισμ',\n",
       " 'προγααμματεσμ',\n",
       " 'προγηαμμαστισμ',\n",
       " 'πγρογραμματισζμ',\n",
       " ...}"
      ]
     },
     "execution_count": 253,
     "metadata": {},
     "output_type": "execute_result"
    }
   ],
   "source": [
    "# two edit distances from input word\n",
    "edits2(word)"
   ]
  },
  {
   "cell_type": "code",
   "execution_count": 254,
   "metadata": {},
   "outputs": [
    {
     "data": {
      "text/plain": [
       "{'προγραμματισμο', 'προγραμματιστ'}"
      ]
     },
     "execution_count": 254,
     "metadata": {},
     "output_type": "execute_result"
    }
   ],
   "source": [
    "# get correct words from above set\n",
    "known(edits2(word))"
   ]
  },
  {
   "cell_type": "code",
   "execution_count": 255,
   "metadata": {},
   "outputs": [
    {
     "data": {
      "text/plain": [
       "{'προγραμματισμο', 'προγραμματιστ'}"
      ]
     },
     "execution_count": 255,
     "metadata": {},
     "output_type": "execute_result"
    }
   ],
   "source": [
    "candidates = (known(edits0(word)) or \n",
    "              known(edits1(word)) or \n",
    "              known(edits2(word)) or \n",
    "              [word])\n",
    "candidates"
   ]
  },
  {
   "cell_type": "code",
   "execution_count": 256,
   "metadata": {},
   "outputs": [],
   "source": [
    "def correct(word):\n",
    "    \"\"\"\n",
    "    Get the best correct spelling for the input word\n",
    "    \"\"\"\n",
    "    # Priority is for edit distance 0, then 1, then 2\n",
    "    # else defaults to the input word itself.\n",
    "    candidates = (known(edits0(word)) or \n",
    "                  known(edits1(word)) or \n",
    "                  known(edits2(word)) or \n",
    "                  [word])\n",
    "# In case there is a tie in the candidates, we resolve it by taking the highest occurring\n",
    "# word from our vocabulary dictionary WORD_COUNTS using the max(candidates, key=WORD_\n",
    "# COUNTS.get) function\n",
    "    return max(candidates, key=WORD_COUNTS.get)"
   ]
  },
  {
   "cell_type": "code",
   "execution_count": 257,
   "metadata": {},
   "outputs": [
    {
     "data": {
      "text/plain": [
       "'προγραμματισμο'"
      ]
     },
     "execution_count": 257,
     "metadata": {},
     "output_type": "execute_result"
    }
   ],
   "source": [
    "correct('προγραμματισμ')"
   ]
  },
  {
   "cell_type": "code",
   "execution_count": 258,
   "metadata": {},
   "outputs": [
    {
     "data": {
      "text/plain": [
       "'ΠΡΟΓΡΑΜΜΑΤΙΣΜ'"
      ]
     },
     "execution_count": 258,
     "metadata": {},
     "output_type": "execute_result"
    }
   ],
   "source": [
    "# this function is case sensitive\n",
    "correct('ΠΡΟΓΡΑΜΜΑΤΙΣΜ')"
   ]
  },
  {
   "cell_type": "code",
   "execution_count": 259,
   "metadata": {},
   "outputs": [],
   "source": [
    "# The logic here is to preserve the original case\n",
    "# of the word, convert it to lowercase, correct its spelling, and finally convert it back to its\n",
    "# original case using the case_of function\n",
    "def correct_match(match):\n",
    "    \"\"\"\n",
    "    Spell-correct word in match, \n",
    "    and preserve proper upper/lower/title case.\n",
    "    \"\"\"\n",
    "    \n",
    "    word = match.group()\n",
    "    def case_of(text):\n",
    "        \"\"\"\n",
    "        Return the case-function appropriate \n",
    "        for text: upper, lower, title, or just str.:\n",
    "            \"\"\"\n",
    "        return (str.upper if text.isupper() else\n",
    "                str.lower if text.islower() else\n",
    "                str.title if text.istitle() else\n",
    "                str)\n",
    "    return case_of(word)(correct(word.lower()))\n",
    "\n",
    "    \n",
    "def correct_text_generic(text):\n",
    "    \"\"\"\n",
    "    Correct all the words within a text, \n",
    "    returning the corrected text.\n",
    "    \"\"\"\n",
    "    return re.sub('[a-zA-Zα-ωΑ-Ω]+', correct_match, text)"
   ]
  },
  {
   "cell_type": "code",
   "execution_count": 260,
   "metadata": {},
   "outputs": [
    {
     "data": {
      "text/plain": [
       "'προγραμματιστ'"
      ]
     },
     "execution_count": 260,
     "metadata": {},
     "output_type": "execute_result"
    }
   ],
   "source": [
    "correct_text_generic('προγραμματισ')"
   ]
  },
  {
   "cell_type": "code",
   "execution_count": 263,
   "metadata": {},
   "outputs": [
    {
     "data": {
      "text/plain": [
       "'προγραμματιστ γλά ολλανδ κώδικ γλώσε είνα λογισμικ'"
      ]
     },
     "execution_count": 263,
     "metadata": {},
     "output_type": "execute_result"
    }
   ],
   "source": [
    "correct_text_generic('προγραμματισ αλλά ολλανδ κώδικ γλώσσ είνα λογισμικ')"
   ]
  },
  {
   "cell_type": "code",
   "execution_count": 290,
   "metadata": {},
   "outputs": [
    {
     "data": {
      "text/plain": [
       "'finally'"
      ]
     },
     "execution_count": 290,
     "metadata": {},
     "output_type": "execute_result"
    }
   ],
   "source": [
    "# This same algorithm is available to be used out-of-the-box in the TextBlob library.\n",
    "# https://textblob.readthedocs.io/en/dev/quickstart.html\n",
    "from textblob import Word\n",
    "\n",
    "w = Word('fianlly')\n",
    "# w = Word('διάλειμμμμμα')\n",
    "w.correct()"
   ]
  },
  {
   "cell_type": "code",
   "execution_count": 122,
   "metadata": {},
   "outputs": [
    {
     "data": {
      "text/plain": [
       "[('διάλειμμμμμα', 0.0)]"
      ]
     },
     "execution_count": 122,
     "metadata": {},
     "output_type": "execute_result"
    }
   ],
   "source": [
    "w.spellcheck()"
   ]
  },
  {
   "cell_type": "code",
   "execution_count": 118,
   "metadata": {},
   "outputs": [
    {
     "data": {
      "text/plain": [
       "[('άλλος', 0.0)]"
      ]
     },
     "execution_count": 118,
     "metadata": {},
     "output_type": "execute_result"
    }
   ],
   "source": [
    "w = Word('άλλος')\n",
    "w.spellcheck()"
   ]
  },
  {
   "cell_type": "code",
   "execution_count": 173,
   "metadata": {},
   "outputs": [
    {
     "ename": "SyntaxError",
     "evalue": "invalid syntax (<ipython-input-173-757a0299ebe8>, line 50)",
     "output_type": "error",
     "traceback": [
      "\u001b[1;36m  File \u001b[1;32m\"<ipython-input-173-757a0299ebe8>\"\u001b[1;36m, line \u001b[1;32m50\u001b[0m\n\u001b[1;33m    print correct('γεις'.decode('utf-8'))\u001b[0m\n\u001b[1;37m                ^\u001b[0m\n\u001b[1;31mSyntaxError\u001b[0m\u001b[1;31m:\u001b[0m invalid syntax\n"
     ]
    }
   ],
   "source": [
    "# Norvig .......\n",
    "# I could write and explain a toy spelling corrector that achieves 80 or 90% accuracy at a processing speed of at least 10 words\n",
    "# per second in about half a page of code.\n",
    "# http://norvig.com/spell-correct.html\n",
    "\n",
    "# -*- coding: utf-8 -*-\n",
    "import codecs\n",
    "import re, collections\n",
    "\n",
    "def words(text):\n",
    "    return text.split()\n",
    "\n",
    "def train(features):\n",
    "    model = collections.defaultdict(lambda: 1)\n",
    "    for f in features:\n",
    "        model[f] += 1\n",
    "    return model\n",
    "\n",
    "\n",
    "# NWORDS = train(words(file('Spelling.txt').read()))\n",
    "NWORDS = train(words(file('big1.txt').read()))\n",
    "\n",
    "alphabet = 'αβγδεζηθικλμνξοπρστυφχψως'.decode('utf-8')\n",
    "\n",
    "def edits1(word):\n",
    "    splits = [(unicode(word[:i]), unicode(word[i:])) for i in range(len(word) + 1)]\n",
    "    deletes = [a + b[1:] for a, b in splits if b]\n",
    "    transposes = [a + b[1] + b[0] + b[2:] for a, b in splits if len(b)>1]\n",
    "    replaces = [a + c + b[1:] for a, b in splits for c in alphabet if b]\n",
    "    inserts = [a + c + b for a, b in splits for c in alphabet]\n",
    "    return set(deletes + transposes + replaces + inserts)\n",
    "\n",
    "def known_edits2(word):\n",
    "    return set(e2 for e1 in edits1(word) for e2 in edits1(e1) if e2 in NWORDS)\n",
    "\n",
    "def known(words):\n",
    "    a=[]\n",
    "    for i in words:\n",
    "        if i.encode('utf-8') in NWORDS:\n",
    "            a=a+i\n",
    "    return set(a)\n",
    "\n",
    "def correct(word):\n",
    "    candidates = known([word]) or known(edits1(word)) or [word] or known_edits2(word)\n",
    "    return max(candidates, key=NWORDS.get)\n",
    "\n",
    "# Μέσα στο spelling.txt βαλτε λίγες λέξεις.\n",
    "# Δοκιμάστε να γράψετε λάθος μια από αυτές.\n",
    "\n",
    "print correct('γεις'.decode('utf-8'))"
   ]
  },
  {
   "cell_type": "markdown",
   "metadata": {},
   "source": [
    "# Stemming"
   ]
  },
  {
   "cell_type": "code",
   "execution_count": 264,
   "metadata": {},
   "outputs": [
    {
     "data": {
      "text/plain": [
       "('jump', 'jump', 'jump', 'τρέχα')"
      ]
     },
     "execution_count": 264,
     "metadata": {},
     "output_type": "execute_result"
    }
   ],
   "source": [
    "# 1. Porter Stemmer (One of the most popular stemmers)\n",
    "# the algorithm is said to have a total of five different phases for reduction of\n",
    "# inflections to their stems, where each phase has its own set of rules\n",
    "from nltk.stem import PorterStemmer\n",
    "ps = PorterStemmer()\n",
    "\n",
    "ps.stem('jumping'), ps.stem('jumps'), ps.stem('jumped'), ps.stem('τρέχα')"
   ]
  },
  {
   "cell_type": "code",
   "execution_count": 85,
   "metadata": {},
   "outputs": [
    {
     "data": {
      "text/plain": [
       "'lie'"
      ]
     },
     "execution_count": 85,
     "metadata": {},
     "output_type": "execute_result"
    }
   ],
   "source": [
    "ps.stem('lying')"
   ]
  },
  {
   "cell_type": "code",
   "execution_count": 86,
   "metadata": {},
   "outputs": [
    {
     "data": {
      "text/plain": [
       "'strang'"
      ]
     },
     "execution_count": 86,
     "metadata": {},
     "output_type": "execute_result"
    }
   ],
   "source": [
    "ps.stem('strange')"
   ]
  },
  {
   "cell_type": "code",
   "execution_count": 265,
   "metadata": {},
   "outputs": [
    {
     "data": {
      "text/plain": [
       "('jump', 'jump', 'jump')"
      ]
     },
     "execution_count": 265,
     "metadata": {},
     "output_type": "execute_result"
    }
   ],
   "source": [
    "# 2. Lancaster Stemmer\n",
    "from nltk.stem import LancasterStemmer\n",
    "ls = LancasterStemmer()\n",
    "\n",
    "ls.stem('jumping'), ls.stem('jumps'), ls.stem('jumped')"
   ]
  },
  {
   "cell_type": "code",
   "execution_count": 88,
   "metadata": {},
   "outputs": [
    {
     "data": {
      "text/plain": [
       "'lying'"
      ]
     },
     "execution_count": 88,
     "metadata": {},
     "output_type": "execute_result"
    }
   ],
   "source": [
    "ls.stem('lying')"
   ]
  },
  {
   "cell_type": "code",
   "execution_count": 91,
   "metadata": {},
   "outputs": [
    {
     "data": {
      "text/plain": [
       "'strange'"
      ]
     },
     "execution_count": 91,
     "metadata": {},
     "output_type": "execute_result"
    }
   ],
   "source": [
    "ls.stem('strange')\n",
    "# You can see the behavior of this stemmer is different from the previous Porter\n",
    "# stemmer."
   ]
  },
  {
   "cell_type": "code",
   "execution_count": 266,
   "metadata": {},
   "outputs": [
    {
     "data": {
      "text/plain": [
       "('jump', 'jump', 'jump', 'τρέχει')"
      ]
     },
     "execution_count": 266,
     "metadata": {},
     "output_type": "execute_result"
    }
   ],
   "source": [
    "# 3. Regex based stemmer\n",
    "from nltk.stem import RegexpStemmer\n",
    "rs = RegexpStemmer('ing$|s$|ed$|ς$', min=4)\n",
    "rs.stem('jumping'), rs.stem('jumps'), rs.stem('jumped'), rs.stem('τρέχεις')"
   ]
  },
  {
   "cell_type": "code",
   "execution_count": 93,
   "metadata": {},
   "outputs": [
    {
     "data": {
      "text/plain": [
       "'ly'"
      ]
     },
     "execution_count": 93,
     "metadata": {},
     "output_type": "execute_result"
    }
   ],
   "source": [
    "rs.stem('lying')"
   ]
  },
  {
   "cell_type": "code",
   "execution_count": 94,
   "metadata": {},
   "outputs": [
    {
     "data": {
      "text/plain": [
       "'strange'"
      ]
     },
     "execution_count": 94,
     "metadata": {},
     "output_type": "execute_result"
    }
   ],
   "source": [
    "rs.stem('strange')"
   ]
  },
  {
   "cell_type": "code",
   "execution_count": 267,
   "metadata": {},
   "outputs": [
    {
     "ename": "ValueError",
     "evalue": "The language 'greek1' is not supported.",
     "output_type": "error",
     "traceback": [
      "\u001b[1;31m---------------------------------------------------------------------------\u001b[0m",
      "\u001b[1;31mValueError\u001b[0m                                Traceback (most recent call last)",
      "\u001b[1;32m<ipython-input-267-67e10569c26e>\u001b[0m in \u001b[0;36m<module>\u001b[1;34m\u001b[0m\n\u001b[0;32m      1\u001b[0m \u001b[1;31m# 4. Snowball Stemmer (13 languages)\u001b[0m\u001b[1;33m\u001b[0m\u001b[1;33m\u001b[0m\u001b[1;33m\u001b[0m\u001b[0m\n\u001b[0;32m      2\u001b[0m \u001b[1;32mfrom\u001b[0m \u001b[0mnltk\u001b[0m\u001b[1;33m.\u001b[0m\u001b[0mstem\u001b[0m \u001b[1;32mimport\u001b[0m \u001b[0mSnowballStemmer\u001b[0m\u001b[1;33m\u001b[0m\u001b[1;33m\u001b[0m\u001b[0m\n\u001b[1;32m----> 3\u001b[1;33m \u001b[0mss\u001b[0m \u001b[1;33m=\u001b[0m \u001b[0mSnowballStemmer\u001b[0m\u001b[1;33m(\u001b[0m\u001b[1;34m\"greek1\"\u001b[0m\u001b[1;33m)\u001b[0m\u001b[1;33m\u001b[0m\u001b[1;33m\u001b[0m\u001b[0m\n\u001b[0m\u001b[0;32m      4\u001b[0m \u001b[0mprint\u001b[0m\u001b[1;33m(\u001b[0m\u001b[1;34m'Supported Languages:'\u001b[0m\u001b[1;33m,\u001b[0m \u001b[0mSnowballStemmer\u001b[0m\u001b[1;33m.\u001b[0m\u001b[0mlanguages\u001b[0m\u001b[1;33m)\u001b[0m\u001b[1;33m\u001b[0m\u001b[1;33m\u001b[0m\u001b[0m\n",
      "\u001b[1;32m~\\anaconda3\\lib\\site-packages\\nltk\\stem\\snowball.py\u001b[0m in \u001b[0;36m__init__\u001b[1;34m(self, language, ignore_stopwords)\u001b[0m\n\u001b[0;32m    109\u001b[0m     \u001b[1;32mdef\u001b[0m \u001b[0m__init__\u001b[0m\u001b[1;33m(\u001b[0m\u001b[0mself\u001b[0m\u001b[1;33m,\u001b[0m \u001b[0mlanguage\u001b[0m\u001b[1;33m,\u001b[0m \u001b[0mignore_stopwords\u001b[0m\u001b[1;33m=\u001b[0m\u001b[1;32mFalse\u001b[0m\u001b[1;33m)\u001b[0m\u001b[1;33m:\u001b[0m\u001b[1;33m\u001b[0m\u001b[1;33m\u001b[0m\u001b[0m\n\u001b[0;32m    110\u001b[0m         \u001b[1;32mif\u001b[0m \u001b[0mlanguage\u001b[0m \u001b[1;32mnot\u001b[0m \u001b[1;32min\u001b[0m \u001b[0mself\u001b[0m\u001b[1;33m.\u001b[0m\u001b[0mlanguages\u001b[0m\u001b[1;33m:\u001b[0m\u001b[1;33m\u001b[0m\u001b[1;33m\u001b[0m\u001b[0m\n\u001b[1;32m--> 111\u001b[1;33m             \u001b[1;32mraise\u001b[0m \u001b[0mValueError\u001b[0m\u001b[1;33m(\u001b[0m\u001b[1;34m\"The language '{0}' is not supported.\"\u001b[0m\u001b[1;33m.\u001b[0m\u001b[0mformat\u001b[0m\u001b[1;33m(\u001b[0m\u001b[0mlanguage\u001b[0m\u001b[1;33m)\u001b[0m\u001b[1;33m)\u001b[0m\u001b[1;33m\u001b[0m\u001b[1;33m\u001b[0m\u001b[0m\n\u001b[0m\u001b[0;32m    112\u001b[0m         \u001b[0mstemmerclass\u001b[0m \u001b[1;33m=\u001b[0m \u001b[0mglobals\u001b[0m\u001b[1;33m(\u001b[0m\u001b[1;33m)\u001b[0m\u001b[1;33m[\u001b[0m\u001b[0mlanguage\u001b[0m\u001b[1;33m.\u001b[0m\u001b[0mcapitalize\u001b[0m\u001b[1;33m(\u001b[0m\u001b[1;33m)\u001b[0m \u001b[1;33m+\u001b[0m \u001b[1;34m\"Stemmer\"\u001b[0m\u001b[1;33m]\u001b[0m\u001b[1;33m\u001b[0m\u001b[1;33m\u001b[0m\u001b[0m\n\u001b[0;32m    113\u001b[0m         \u001b[0mself\u001b[0m\u001b[1;33m.\u001b[0m\u001b[0mstemmer\u001b[0m \u001b[1;33m=\u001b[0m \u001b[0mstemmerclass\u001b[0m\u001b[1;33m(\u001b[0m\u001b[0mignore_stopwords\u001b[0m\u001b[1;33m)\u001b[0m\u001b[1;33m\u001b[0m\u001b[1;33m\u001b[0m\u001b[0m\n",
      "\u001b[1;31mValueError\u001b[0m: The language 'greek1' is not supported."
     ]
    }
   ],
   "source": [
    "# 4. Snowball Stemmer (13 languages)\n",
    "from nltk.stem import SnowballStemmer\n",
    "ss = SnowballStemmer(\"greek1\")\n",
    "print('Supported Languages:', SnowballStemmer.languages)"
   ]
  },
  {
   "cell_type": "code",
   "execution_count": 97,
   "metadata": {},
   "outputs": [
    {
     "data": {
      "text/plain": [
       "'autobahn'"
      ]
     },
     "execution_count": 97,
     "metadata": {},
     "output_type": "execute_result"
    }
   ],
   "source": [
    "# stemming on German words\n",
    "# autobahnen -> cars\n",
    "# autobahn -> car\n",
    "ss.stem('autobahnen')"
   ]
  },
  {
   "cell_type": "code",
   "execution_count": 98,
   "metadata": {},
   "outputs": [
    {
     "data": {
      "text/plain": [
       "'spring'"
      ]
     },
     "execution_count": 98,
     "metadata": {},
     "output_type": "execute_result"
    }
   ],
   "source": [
    "# springen -> jumping\n",
    "# spring -> jump\n",
    "ss.stem('springen')"
   ]
  },
  {
   "cell_type": "code",
   "execution_count": 99,
   "metadata": {},
   "outputs": [
    {
     "data": {
      "text/plain": [
       "'My system keep crash hi crash yesterday, our crash daili'"
      ]
     },
     "execution_count": 99,
     "metadata": {},
     "output_type": "execute_result"
    }
   ],
   "source": [
    "# Porter stemmer is used most frequently\n",
    "def simple_stemmer(text):\n",
    "    ps = nltk.porter.PorterStemmer()\n",
    "    text = ' '.join([ps.stem(word) for word in text.split()])\n",
    "    return text\n",
    "\n",
    "simple_stemmer(\"My system keeps crashing his crashed yesterday, ours crashes daily\")"
   ]
  },
  {
   "cell_type": "code",
   "execution_count": 179,
   "metadata": {},
   "outputs": [
    {
     "name": "stdout",
     "output_type": "stream",
     "text": [
      "Collecting greek-stemmer\n",
      "  Downloading greek_stemmer-0.1.1.tar.gz (6.9 kB)\n",
      "Requirement already satisfied: PyYAML in c:\\users\\user\\anaconda3\\lib\\site-packages (from greek-stemmer) (5.3)\n",
      "Requirement already satisfied: future in c:\\users\\user\\anaconda3\\lib\\site-packages (from greek-stemmer) (0.18.2)\n",
      "Building wheels for collected packages: greek-stemmer\n",
      "  Building wheel for greek-stemmer (setup.py): started\n",
      "  Building wheel for greek-stemmer (setup.py): finished with status 'done'\n",
      "  Created wheel for greek-stemmer: filename=greek_stemmer-0.1.1-py3-none-any.whl size=6740 sha256=8d5aff46146d76637e37c8cb30d3c0925c48e6967344ce271b97d5d1e8b708f8\n",
      "  Stored in directory: c:\\users\\user\\appdata\\local\\pip\\cache\\wheels\\c5\\39\\16\\eec6bf21a071c9e3ff11cda038b91d33fcce20a0b7378f64ac\n",
      "Successfully built greek-stemmer\n",
      "Installing collected packages: greek-stemmer\n",
      "Successfully installed greek-stemmer-0.1.1\n"
     ]
    }
   ],
   "source": [
    "!pip install greek-stemmer"
   ]
  },
  {
   "cell_type": "code",
   "execution_count": 269,
   "metadata": {},
   "outputs": [
    {
     "ename": "UnicodeDecodeError",
     "evalue": "'charmap' codec can't decode byte 0x9f in position 49: character maps to <undefined>",
     "output_type": "error",
     "traceback": [
      "\u001b[1;31m---------------------------------------------------------------------------\u001b[0m",
      "\u001b[1;31mUnicodeDecodeError\u001b[0m                        Traceback (most recent call last)",
      "\u001b[1;32m<ipython-input-269-5b820504a963>\u001b[0m in \u001b[0;36m<module>\u001b[1;34m\u001b[0m\n\u001b[0;32m      3\u001b[0m \u001b[1;31m# encoding=\"cp437\", errors='ignore'\u001b[0m\u001b[1;33m\u001b[0m\u001b[1;33m\u001b[0m\u001b[1;33m\u001b[0m\u001b[0m\n\u001b[0;32m      4\u001b[0m \u001b[1;32mfrom\u001b[0m \u001b[0mgreek_stemmer\u001b[0m \u001b[1;32mimport\u001b[0m \u001b[0mGreekStemmer\u001b[0m\u001b[1;33m\u001b[0m\u001b[1;33m\u001b[0m\u001b[0m\n\u001b[1;32m----> 5\u001b[1;33m \u001b[0mstemmer\u001b[0m \u001b[1;33m=\u001b[0m \u001b[0mGreekStemmer\u001b[0m\u001b[1;33m(\u001b[0m\u001b[1;33m)\u001b[0m\u001b[1;33m\u001b[0m\u001b[1;33m\u001b[0m\u001b[0m\n\u001b[0m\u001b[0;32m      6\u001b[0m \u001b[0mstemmer\u001b[0m\u001b[1;33m.\u001b[0m\u001b[0mstem\u001b[0m\u001b[1;33m(\u001b[0m\u001b[1;34m'ΘΑΛΑΣΣΑ'\u001b[0m\u001b[1;33m)\u001b[0m\u001b[1;33m\u001b[0m\u001b[1;33m\u001b[0m\u001b[0m\n",
      "\u001b[1;32m~\\anaconda3\\lib\\site-packages\\greek_stemmer\\__init__.py\u001b[0m in \u001b[0;36m__init__\u001b[1;34m(self)\u001b[0m\n\u001b[0;32m     33\u001b[0m                                                  flags=re.U | re.I)\n\u001b[0;32m     34\u001b[0m \u001b[1;33m\u001b[0m\u001b[0m\n\u001b[1;32m---> 35\u001b[1;33m         \u001b[0mcustom_rules\u001b[0m \u001b[1;33m=\u001b[0m \u001b[0mself\u001b[0m\u001b[1;33m.\u001b[0m\u001b[0mload_settings\u001b[0m\u001b[1;33m(\u001b[0m\u001b[1;33m)\u001b[0m\u001b[1;33m\u001b[0m\u001b[1;33m\u001b[0m\u001b[0m\n\u001b[0m\u001b[0;32m     36\u001b[0m \u001b[1;33m\u001b[0m\u001b[0m\n\u001b[0;32m     37\u001b[0m         \u001b[0mself\u001b[0m\u001b[1;33m.\u001b[0m\u001b[0mstep_1_exceptions\u001b[0m \u001b[1;33m=\u001b[0m \u001b[0mcustom_rules\u001b[0m\u001b[1;33m[\u001b[0m\u001b[1;34m'step_1_exceptions'\u001b[0m\u001b[1;33m]\u001b[0m\u001b[1;33m\u001b[0m\u001b[1;33m\u001b[0m\u001b[0m\n",
      "\u001b[1;32m~\\anaconda3\\lib\\site-packages\\greek_stemmer\\__init__.py\u001b[0m in \u001b[0;36mload_settings\u001b[1;34m(self)\u001b[0m\n\u001b[0;32m    338\u001b[0m         with open(os.path.join(\n\u001b[0;32m    339\u001b[0m                   os.path.dirname(__file__), 'stemmer.yml'), 'r') as f:\n\u001b[1;32m--> 340\u001b[1;33m             \u001b[0mcustom_rules\u001b[0m \u001b[1;33m=\u001b[0m \u001b[0myaml\u001b[0m\u001b[1;33m.\u001b[0m\u001b[0mload\u001b[0m\u001b[1;33m(\u001b[0m\u001b[0mf\u001b[0m\u001b[1;33m.\u001b[0m\u001b[0mread\u001b[0m\u001b[1;33m(\u001b[0m\u001b[1;33m)\u001b[0m\u001b[1;33m)\u001b[0m\u001b[1;33m\u001b[0m\u001b[1;33m\u001b[0m\u001b[0m\n\u001b[0m\u001b[0;32m    341\u001b[0m         \u001b[1;32mreturn\u001b[0m \u001b[0mcustom_rules\u001b[0m\u001b[1;33m\u001b[0m\u001b[1;33m\u001b[0m\u001b[0m\n\u001b[0;32m    342\u001b[0m \u001b[1;33m\u001b[0m\u001b[0m\n",
      "\u001b[1;32m~\\anaconda3\\lib\\encodings\\cp1253.py\u001b[0m in \u001b[0;36mdecode\u001b[1;34m(self, input, final)\u001b[0m\n\u001b[0;32m     21\u001b[0m \u001b[1;32mclass\u001b[0m \u001b[0mIncrementalDecoder\u001b[0m\u001b[1;33m(\u001b[0m\u001b[0mcodecs\u001b[0m\u001b[1;33m.\u001b[0m\u001b[0mIncrementalDecoder\u001b[0m\u001b[1;33m)\u001b[0m\u001b[1;33m:\u001b[0m\u001b[1;33m\u001b[0m\u001b[1;33m\u001b[0m\u001b[0m\n\u001b[0;32m     22\u001b[0m     \u001b[1;32mdef\u001b[0m \u001b[0mdecode\u001b[0m\u001b[1;33m(\u001b[0m\u001b[0mself\u001b[0m\u001b[1;33m,\u001b[0m \u001b[0minput\u001b[0m\u001b[1;33m,\u001b[0m \u001b[0mfinal\u001b[0m\u001b[1;33m=\u001b[0m\u001b[1;32mFalse\u001b[0m\u001b[1;33m)\u001b[0m\u001b[1;33m:\u001b[0m\u001b[1;33m\u001b[0m\u001b[1;33m\u001b[0m\u001b[0m\n\u001b[1;32m---> 23\u001b[1;33m         \u001b[1;32mreturn\u001b[0m \u001b[0mcodecs\u001b[0m\u001b[1;33m.\u001b[0m\u001b[0mcharmap_decode\u001b[0m\u001b[1;33m(\u001b[0m\u001b[0minput\u001b[0m\u001b[1;33m,\u001b[0m\u001b[0mself\u001b[0m\u001b[1;33m.\u001b[0m\u001b[0merrors\u001b[0m\u001b[1;33m,\u001b[0m\u001b[0mdecoding_table\u001b[0m\u001b[1;33m)\u001b[0m\u001b[1;33m[\u001b[0m\u001b[1;36m0\u001b[0m\u001b[1;33m]\u001b[0m\u001b[1;33m\u001b[0m\u001b[1;33m\u001b[0m\u001b[0m\n\u001b[0m\u001b[0;32m     24\u001b[0m \u001b[1;33m\u001b[0m\u001b[0m\n\u001b[0;32m     25\u001b[0m \u001b[1;32mclass\u001b[0m \u001b[0mStreamWriter\u001b[0m\u001b[1;33m(\u001b[0m\u001b[0mCodec\u001b[0m\u001b[1;33m,\u001b[0m\u001b[0mcodecs\u001b[0m\u001b[1;33m.\u001b[0m\u001b[0mStreamWriter\u001b[0m\u001b[1;33m)\u001b[0m\u001b[1;33m:\u001b[0m\u001b[1;33m\u001b[0m\u001b[1;33m\u001b[0m\u001b[0m\n",
      "\u001b[1;31mUnicodeDecodeError\u001b[0m: 'charmap' codec can't decode byte 0x9f in position 49: character maps to <undefined>"
     ]
    }
   ],
   "source": [
    "# -*- coding: cp1253 -*-\n",
    "\n",
    "# encoding=\"cp437\", errors='ignore'\n",
    "from greek_stemmer import GreekStemmer\n",
    "stemmer = GreekStemmer()\n",
    "stemmer.stem('ΘΑΛΑΣΣΑ')"
   ]
  },
  {
   "cell_type": "markdown",
   "metadata": {},
   "source": [
    "# Lemmatization"
   ]
  },
  {
   "cell_type": "code",
   "execution_count": 270,
   "metadata": {},
   "outputs": [],
   "source": [
    "from nltk.stem import WordNetLemmatizer\n",
    "wnl = WordNetLemmatizer()"
   ]
  },
  {
   "cell_type": "code",
   "execution_count": 271,
   "metadata": {},
   "outputs": [
    {
     "name": "stdout",
     "output_type": "stream",
     "text": [
      "car\n",
      "men\n"
     ]
    }
   ],
   "source": [
    "# lemmatize nouns\n",
    "print(wnl.lemmatize('cars', 'n'))\n",
    "print(wnl.lemmatize('men', 'n'))"
   ]
  },
  {
   "cell_type": "code",
   "execution_count": 102,
   "metadata": {},
   "outputs": [
    {
     "name": "stdout",
     "output_type": "stream",
     "text": [
      "run\n",
      "eat\n"
     ]
    }
   ],
   "source": [
    "# lemmatize verbs\n",
    "print(wnl.lemmatize('running', 'v'))\n",
    "print(wnl.lemmatize('ate', 'v'))"
   ]
  },
  {
   "cell_type": "code",
   "execution_count": 103,
   "metadata": {},
   "outputs": [
    {
     "name": "stdout",
     "output_type": "stream",
     "text": [
      "sad\n",
      "fancy\n"
     ]
    }
   ],
   "source": [
    "# lemmatize adjectives\n",
    "print(wnl.lemmatize('saddest', 'a'))\n",
    "print(wnl.lemmatize('fancier', 'a'))"
   ]
  },
  {
   "cell_type": "code",
   "execution_count": 104,
   "metadata": {},
   "outputs": [
    {
     "name": "stdout",
     "output_type": "stream",
     "text": [
      "ate\n",
      "fancier\n"
     ]
    }
   ],
   "source": [
    "# ineffective lemmatization\n",
    "# if no match is found, the input word is returned unchanged\n",
    "print(wnl.lemmatize('ate', 'n'))\n",
    "print(wnl.lemmatize('fancier', 'v'))"
   ]
  },
  {
   "cell_type": "code",
   "execution_count": 272,
   "metadata": {},
   "outputs": [],
   "source": [
    "# Greek lemmatizer is special because it follows a rule based approach\n",
    "\n",
    "# SpaCy makes things a lot easier since it performs parts of speech tagging and\n",
    "# effective lemmatization for each token in a text document without you worrying about\n",
    "# if you are using lemmatization effectively. The following function can be leveraged for\n",
    "# performing effective lemmatization, thanks to spaCy\n",
    "import spacy\n",
    "# use spacy.load('en') if you have downloaded the language model en directly after install spacy\n",
    "# nlp = spacy.load('en_core_web_sm', parse=True, tag=True, entity=True)\n",
    "\n",
    "import el_core_news_md\n",
    "nlp = el_core_news_md.load()"
   ]
  },
  {
   "cell_type": "code",
   "execution_count": 273,
   "metadata": {},
   "outputs": [
    {
     "data": {
      "text/plain": [
       "'τα καλοκαίρι είναι όμορφος στην Ελλάδα , δεν συμφωνώ φιλαράκο τρέχω ;'"
      ]
     },
     "execution_count": 273,
     "metadata": {},
     "output_type": "execute_result"
    }
   ],
   "source": [
    "# text = 'My system keeps crashing his crashed yesterday, ours crashes daily'\n",
    "text = 'Τα καλοκαίρια είναι όμορφα στην Ελλάδα, δεν συμφωνείς φιλαράκο;'\n",
    "\n",
    "def lemmatize_text(text):\n",
    "    text = nlp(text)\n",
    "    text = ' '.join([word.lemma_ if word.lemma_ != '-PRON-' else word.text for word in text])\n",
    "    return text\n",
    "\n",
    "lemmatize_text(\"Τα καλοκαίρια είναι όμορφα στην Ελλάδα, δεν συμφωνείς φιλαράκο τρέχεις;\")"
   ]
  },
  {
   "cell_type": "markdown",
   "metadata": {},
   "source": [
    "## Removing Stopwords"
   ]
  },
  {
   "cell_type": "code",
   "execution_count": 289,
   "metadata": {},
   "outputs": [
    {
     "name": "stdout",
     "output_type": "stream",
     "text": [
      "αυτά , , stopwords , υπολογιστής είναι\n",
      "['αλλα', 'αν', 'αντι', 'απο', 'αυτα', 'αυτεσ', 'αυτη', 'αυτο', 'αυτοι', 'αυτοσ', 'αυτουσ', 'αυτων', 'αἱ', 'αἳ', 'αἵ', 'αὐτόσ', 'αὐτὸς', 'αὖ', 'γάρ', 'γα', 'γα^', 'γε', 'για', 'γοῦν', 'γὰρ', \"δ'\", 'δέ', 'δή', 'δαί', 'δαίσ', 'δαὶ', 'δαὶς', 'δε', 'δεν', \"δι'\", 'διά', 'διὰ', 'δὲ', 'δὴ', 'δ’', 'εαν', 'ειμαι', 'ειμαστε', 'ειναι', 'εισαι', 'ειστε', 'εκεινα', 'εκεινεσ', 'εκεινη', 'εκεινο', 'εκεινοι', 'εκεινοσ', 'εκεινουσ', 'εκεινων', 'ενω', 'επ', 'επι', 'εἰ', 'εἰμί', 'εἰμὶ', 'εἰς', 'εἰσ', 'εἴ', 'εἴμι', 'εἴτε', 'η', 'θα', 'ισωσ', 'κ', 'καί', 'καίτοι', 'καθ', 'και', 'κατ', 'κατά', 'κατα', 'κατὰ', 'καὶ', 'κι', 'κἀν', 'κἂν', 'μέν', 'μή', 'μήτε', 'μα', 'με', 'μεθ', 'μετ', 'μετά', 'μετα', 'μετὰ', 'μη', 'μην', 'μἐν', 'μὲν', 'μὴ', 'μὴν', 'να', 'ο', 'οι', 'ομωσ', 'οπωσ', 'οσο', 'οτι', 'οἱ', 'οἳ', 'οἷς', 'οὐ', 'οὐδ', 'οὐδέ', 'οὐδείσ', 'οὐδεὶς', 'οὐδὲ', 'οὐδὲν', 'οὐκ', 'οὐχ', 'οὐχὶ', 'οὓς', 'οὔτε', 'οὕτω', 'οὕτως', 'οὕτωσ', 'οὖν', 'οὗ', 'οὗτος', 'οὗτοσ', 'παρ', 'παρά', 'παρα', 'παρὰ', 'περί', 'περὶ', 'ποια', 'ποιεσ', 'ποιο', 'ποιοι', 'ποιοσ', 'ποιουσ', 'ποιων', 'ποτε', 'που', 'ποῦ', 'προ', 'προσ', 'πρόσ', 'πρὸ', 'πρὸς', 'πως', 'πωσ', 'σε', 'στη', 'στην', 'στο', 'στον', 'σόσ', 'σύ', 'σύν', 'σὸς', 'σὺ', 'σὺν', 'τά', 'τήν', 'τί', 'τίς', 'τίσ', 'τα', 'ταῖς', 'τε', 'την', 'τησ', 'τι', 'τινα', 'τις', 'τισ', 'το', 'τοί', 'τοι', 'τοιοῦτος', 'τοιοῦτοσ', 'τον', 'τοτε', 'του', 'τούσ', 'τοὺς', 'τοῖς', 'τοῦ', 'των', 'τό', 'τόν', 'τότε', 'τὰ', 'τὰς', 'τὴν', 'τὸ', 'τὸν', 'τῆς', 'τῆσ', 'τῇ', 'τῶν', 'τῷ', 'ωσ', \"ἀλλ'\", 'ἀλλά', 'ἀλλὰ', 'ἀλλ’', 'ἀπ', 'ἀπό', 'ἀπὸ', 'ἀφ', 'ἂν', 'ἃ', 'ἄλλος', 'ἄλλοσ', 'ἄν', 'ἄρα', 'ἅμα', 'ἐάν', 'ἐγώ', 'ἐγὼ', 'ἐκ', 'ἐμόσ', 'ἐμὸς', 'ἐν', 'ἐξ', 'ἐπί', 'ἐπεὶ', 'ἐπὶ', 'ἐστι', 'ἐφ', 'ἐὰν', 'ἑαυτοῦ', 'ἔτι', 'ἡ', 'ἢ', 'ἣ', 'ἤ', 'ἥ', 'ἧς', 'ἵνα', 'ὁ', 'ὃ', 'ὃν', 'ὃς', 'ὅ', 'ὅδε', 'ὅθεν', 'ὅπερ', 'ὅς', 'ὅσ', 'ὅστις', 'ὅστισ', 'ὅτε', 'ὅτι', 'ὑμόσ', 'ὑπ', 'ὑπέρ', 'ὑπό', 'ὑπὲρ', 'ὑπὸ', 'ὡς', 'ὡσ', 'ὥς', 'ὥστε', 'ὦ', 'ᾧ']\n"
     ]
    }
   ],
   "source": [
    "from nltk.tokenize.toktok import ToktokTokenizer\n",
    "tokenizer = ToktokTokenizer()\n",
    "stopword_list = nltk.corpus.stopwords.words('greek')\n",
    "def remove_stopwords(text, is_lower_case=False, stopwords=stopword_list):\n",
    "    tokens = tokenizer.tokenize(text)\n",
    "    tokens = [token.strip() for token in tokens]\n",
    "    if is_lower_case:\n",
    "        filtered_tokens = [token for token in tokens if token not in stopwords]\n",
    "    else:\n",
    "        filtered_tokens = [token for token in tokens if token.lower() not in stopwords]\n",
    "    filtered_text = ' '.join(filtered_tokens)    \n",
    "    return filtered_text\n",
    "\n",
    "# print (remove_stopwords(\"The, and, if are stopwords, computer is not\"))\n",
    "print (remove_stopwords(\"αυτά, ειμαι, εαν ειναι stopwords, και ο υπολογιστής δεν είναι\"))\n",
    "\n",
    "# There is no universal stopword list, but we use a standard Greek language\n",
    "# stopwords list from NLTK.\n",
    "\n",
    "print (nltk.corpus.stopwords.words('greek'))"
   ]
  },
  {
   "cell_type": "code",
   "execution_count": 212,
   "metadata": {},
   "outputs": [
    {
     "name": "stdout",
     "output_type": "stream",
     "text": [
      "Collecting advertools\n",
      "  Downloading advertools-0.10.6-py2.py3-none-any.whl (242 kB)\n",
      "Collecting scrapy\n",
      "  Downloading Scrapy-2.2.1-py2.py3-none-any.whl (241 kB)\n",
      "Collecting pyasn1\n",
      "  Downloading pyasn1-0.4.8-py2.py3-none-any.whl (77 kB)\n",
      "Requirement already satisfied: pandas in c:\\users\\user\\anaconda3\\lib\\site-packages (from advertools) (1.0.3)\n",
      "Collecting twython\n",
      "  Downloading twython-3.8.2-py3-none-any.whl (33 kB)\n",
      "Collecting w3lib>=1.17.0\n",
      "  Downloading w3lib-1.22.0-py2.py3-none-any.whl (20 kB)\n",
      "Requirement already satisfied: cryptography>=2.0 in c:\\users\\user\\anaconda3\\lib\\site-packages (from scrapy->advertools) (2.8)\n",
      "Collecting zope.interface>=4.1.3\n",
      "  Downloading zope.interface-5.1.0-cp37-cp37m-win_amd64.whl (194 kB)\n",
      "Collecting itemadapter>=0.1.0\n",
      "  Downloading itemadapter-0.1.0-py3-none-any.whl (7.0 kB)\n",
      "Collecting parsel>=1.5.0\n",
      "  Downloading parsel-1.6.0-py2.py3-none-any.whl (13 kB)\n",
      "Collecting Twisted>=17.9.0\n",
      "  Downloading Twisted-20.3.0-cp37-cp37m-win_amd64.whl (3.1 MB)\n",
      "Collecting service-identity>=16.0.0\n",
      "  Downloading service_identity-18.1.0-py2.py3-none-any.whl (11 kB)\n",
      "Collecting cssselect>=0.9.1\n",
      "  Downloading cssselect-1.1.0-py2.py3-none-any.whl (16 kB)\n",
      "Requirement already satisfied: lxml>=3.5.0 in c:\\users\\user\\anaconda3\\lib\\site-packages (from scrapy->advertools) (4.5.0)\n",
      "Collecting PyDispatcher>=2.0.5\n",
      "  Downloading PyDispatcher-2.0.5.tar.gz (34 kB)\n",
      "Collecting protego>=0.1.15\n",
      "  Downloading Protego-0.1.16.tar.gz (3.2 MB)\n",
      "Collecting queuelib>=1.4.2\n",
      "  Downloading queuelib-1.5.0-py2.py3-none-any.whl (13 kB)\n",
      "Requirement already satisfied: pyOpenSSL>=16.2.0 in c:\\users\\user\\anaconda3\\lib\\site-packages (from scrapy->advertools) (19.1.0)\n",
      "Requirement already satisfied: pytz>=2017.2 in c:\\users\\user\\anaconda3\\lib\\site-packages (from pandas->advertools) (2019.3)\n",
      "Requirement already satisfied: numpy>=1.13.3 in c:\\users\\user\\anaconda3\\lib\\site-packages (from pandas->advertools) (1.18.1)\n",
      "Requirement already satisfied: python-dateutil>=2.6.1 in c:\\users\\user\\anaconda3\\lib\\site-packages (from pandas->advertools) (2.8.1)\n",
      "Collecting requests-oauthlib>=0.4.0\n",
      "  Downloading requests_oauthlib-1.3.0-py2.py3-none-any.whl (23 kB)\n",
      "Requirement already satisfied: requests>=2.1.0 in c:\\users\\user\\anaconda3\\lib\\site-packages (from twython->advertools) (2.22.0)\n",
      "Requirement already satisfied: six>=1.4.1 in c:\\users\\user\\anaconda3\\lib\\site-packages (from w3lib>=1.17.0->scrapy->advertools) (1.14.0)\n",
      "Requirement already satisfied: cffi!=1.11.3,>=1.8 in c:\\users\\user\\anaconda3\\lib\\site-packages (from cryptography>=2.0->scrapy->advertools) (1.14.0)\n",
      "Requirement already satisfied: setuptools in c:\\users\\user\\anaconda3\\lib\\site-packages (from zope.interface>=4.1.3->scrapy->advertools) (45.2.0.post20200210)\n",
      "Requirement already satisfied: attrs>=19.2.0 in c:\\users\\user\\anaconda3\\lib\\site-packages (from Twisted>=17.9.0->scrapy->advertools) (19.3.0)\n",
      "Collecting incremental>=16.10.1\n",
      "  Downloading incremental-17.5.0-py2.py3-none-any.whl (16 kB)\n",
      "Collecting Automat>=0.3.0\n",
      "  Downloading Automat-20.2.0-py2.py3-none-any.whl (31 kB)\n",
      "Collecting PyHamcrest!=1.10.0,>=1.9.0\n",
      "  Downloading PyHamcrest-2.0.2-py3-none-any.whl (52 kB)\n",
      "Collecting hyperlink>=17.1.1\n",
      "  Downloading hyperlink-19.0.0-py2.py3-none-any.whl (38 kB)\n",
      "Collecting constantly>=15.1\n",
      "  Downloading constantly-15.1.0-py2.py3-none-any.whl (7.9 kB)\n",
      "Collecting pyasn1-modules\n",
      "  Downloading pyasn1_modules-0.2.8-py2.py3-none-any.whl (155 kB)\n",
      "Collecting oauthlib>=3.0.0\n",
      "  Downloading oauthlib-3.1.0-py2.py3-none-any.whl (147 kB)\n",
      "Requirement already satisfied: certifi>=2017.4.17 in c:\\users\\user\\anaconda3\\lib\\site-packages (from requests>=2.1.0->twython->advertools) (2019.11.28)\n",
      "Requirement already satisfied: idna<2.9,>=2.5 in c:\\users\\user\\anaconda3\\lib\\site-packages (from requests>=2.1.0->twython->advertools) (2.8)\n",
      "Requirement already satisfied: urllib3!=1.25.0,!=1.25.1,<1.26,>=1.21.1 in c:\\users\\user\\anaconda3\\lib\\site-packages (from requests>=2.1.0->twython->advertools) (1.25.8)\n",
      "Requirement already satisfied: chardet<3.1.0,>=3.0.2 in c:\\users\\user\\anaconda3\\lib\\site-packages (from requests>=2.1.0->twython->advertools) (3.0.4)\n",
      "Requirement already satisfied: pycparser in c:\\users\\user\\anaconda3\\lib\\site-packages (from cffi!=1.11.3,>=1.8->cryptography>=2.0->scrapy->advertools) (2.19)\n",
      "Building wheels for collected packages: PyDispatcher, protego\n",
      "  Building wheel for PyDispatcher (setup.py): started\n",
      "  Building wheel for PyDispatcher (setup.py): finished with status 'done'\n",
      "  Created wheel for PyDispatcher: filename=PyDispatcher-2.0.5-py3-none-any.whl size=12552 sha256=140e23cb66e66e8ad64a1b5d73530dccab4259c545fdcb1519f84df1286ab812\n",
      "  Stored in directory: c:\\users\\user\\appdata\\local\\pip\\cache\\wheels\\dc\\d0\\bf\\0cc715c01fce0bace63b46283acf5cc630d5e5dbb4602c54e5\n",
      "  Building wheel for protego (setup.py): started\n",
      "  Building wheel for protego (setup.py): finished with status 'done'\n",
      "  Created wheel for protego: filename=Protego-0.1.16-py3-none-any.whl size=7769 sha256=fe6d524588b81459564469a42d0fa5051892b01862fea532703c9ceb5edd5464\n",
      "  Stored in directory: c:\\users\\user\\appdata\\local\\pip\\cache\\wheels\\ca\\44\\01\\3592ccfbcfaee4ab297c4097e6e9dbe1c7697e3531a39877ab\n",
      "Successfully built PyDispatcher protego\n",
      "Installing collected packages: w3lib, zope.interface, itemadapter, cssselect, parsel, incremental, Automat, PyHamcrest, hyperlink, constantly, Twisted, pyasn1, pyasn1-modules, service-identity, PyDispatcher, protego, queuelib, scrapy, oauthlib, requests-oauthlib, twython, advertools\n",
      "Successfully installed Automat-20.2.0 PyDispatcher-2.0.5 PyHamcrest-2.0.2 Twisted-20.3.0 advertools-0.10.6 constantly-15.1.0 cssselect-1.1.0 hyperlink-19.0.0 incremental-17.5.0 itemadapter-0.1.0 oauthlib-3.1.0 parsel-1.6.0 protego-0.1.16 pyasn1-0.4.8 pyasn1-modules-0.2.8 queuelib-1.5.0 requests-oauthlib-1.3.0 scrapy-2.2.1 service-identity-18.1.0 twython-3.8.2 w3lib-1.22.0 zope.interface-5.1.0\n"
     ]
    },
    {
     "data": {
      "text/plain": [
       "['a', 'about', 'above', 'across', 'after']"
      ]
     },
     "execution_count": 212,
     "metadata": {},
     "output_type": "execute_result"
    }
   ],
   "source": [
    "!pip install advertools\n",
    "import advertools as adv"
   ]
  },
  {
   "cell_type": "code",
   "execution_count": 215,
   "metadata": {},
   "outputs": [
    {
     "data": {
      "text/plain": [
       "['άλλα',\n",
       " 'άλλες',\n",
       " 'άλλη',\n",
       " 'άλλην',\n",
       " 'άλλης',\n",
       " 'άλλο',\n",
       " 'άλλοι',\n",
       " 'άλλον',\n",
       " 'άλλος',\n",
       " 'άλλοτε']"
      ]
     },
     "execution_count": 215,
     "metadata": {},
     "output_type": "execute_result"
    }
   ],
   "source": [
    "adv.stopwords.keys()\n",
    "sorted(adv.stopwords['greek'])[:10]"
   ]
  },
  {
   "cell_type": "markdown",
   "metadata": {},
   "source": [
    "## Bringing it alltogether"
   ]
  },
  {
   "cell_type": "code",
   "execution_count": 222,
   "metadata": {},
   "outputs": [],
   "source": [
    "# to build a text normalizer to preprocess text data.\n",
    "def normalize_corpus(corpus, html_stripping=True, contraction_expansion=True,\n",
    "                     accented_char_removal=False, text_lower_case=True, \n",
    "                     text_lemmatization=True, special_char_removal=True, \n",
    "                     stopword_removal=True, remove_digits=True):\n",
    "    \n",
    "    normalized_corpus = []\n",
    "    # normalize each document in the corpus\n",
    "    for doc in corpus:\n",
    "        # strip HTML\n",
    "        if html_stripping:\n",
    "            doc = strip_html_tags(doc)\n",
    "        # remove accented characters\n",
    "        if accented_char_removal:\n",
    "            doc = remove_accented_chars(doc)\n",
    "        # expand contractions    \n",
    "        if contraction_expansion:\n",
    "            doc = expand_contractions(doc)\n",
    "        # lowercase the text    \n",
    "        if text_lower_case:\n",
    "            doc = doc.lower()\n",
    "        # remove extra newlines\n",
    "        doc = re.sub(r'[\\r|\\n|\\r\\n]+', ' ',doc)\n",
    "        # lemmatize text\n",
    "        if text_lemmatization:\n",
    "            doc = lemmatize_text(doc)\n",
    "        # remove special characters and\\or digits    \n",
    "        if special_char_removal:\n",
    "            # insert spaces between special characters to isolate them    \n",
    "            special_char_pattern = re.compile(r'([{.(-)!}])')\n",
    "            doc = special_char_pattern.sub(\" \\\\1 \", doc)\n",
    "            doc = remove_special_characters(doc, remove_digits=remove_digits)  \n",
    "        # remove extra whitespace\n",
    "        doc = re.sub(' +', ' ', doc)\n",
    "        # remove stopwords\n",
    "        if stopword_removal:\n",
    "            doc = remove_stopwords(doc, is_lower_case=text_lower_case)\n",
    "            \n",
    "        normalized_corpus.append(doc)\n",
    "        \n",
    "    return normalized_corpus"
   ]
  },
  {
   "cell_type": "code",
   "execution_count": 292,
   "metadata": {},
   "outputs": [
    {
     "data": {
      "text/plain": [
       "{'Original': 'Η Python είναι διερμηνευόμενη (interprited), γενικού σκοπού (general-purpose) και υψηλού επιπέδου, γλώσσα προγραμματισμού. Δημιουργήθηκε από τον Ολλανδό Γκίντο βαν Ρόσσουμ (Guido van Rossum) στο ερευνητικό, Ο κύριος στόχος της είναι η αναγνωσιμότητα του κώδικά της και η ευκολία χρήσης της. Το συντακτικό της επιτρέπει.',\n",
       " 'Processed': 'html http http https https head tagη python είναι διερμηνευόμενη interprited γενικός σκοπός generalpurpose υψηλός επιπέδο γλώσσα προγραμματισμού [ ] [ ] [ ] ανήκω στις γλώσσες προστακτικός προγραμματισμός imperative programming υποστηρίζω τόσο διαδικαστικό procedural programming όσο αντικειμενοστρεφός objectoriented programming προγραμματιστικό υπόδειγμα programming paradigm είναι δυναμικός γλώσσα προγραμματισμός dynamically typed υποστηρίζω συλλογή απορριμμάτα garbage collection ή gc iframe urlδημιουργήθηκε από ολλανδό γκίντο βαν ρόσσουμ guido van rossum ερευνητικό κέντρο centrum wiskunde informatica cwi [ ] κυκλοφόρησε πρώτη φορά [ ] [ ] κύριος στόχος της είναι αναγνωσιμότητα κώδικά της ευκολία χρήση της συντακτικό της επιτρέπω στους προγραμματιστής εκφράσω έννοια λιγότερες γραμμή κώδικο από ότι ήταν δυνατόν γλώσσες όπως c ή java [ ] [ ] [ ] διακρίνομαι λόγω ότι έχω πολλός βιβλιοθήκε διευκολύνω ιδιαίτερα αρκετές συνηθισμένες εργασία ταχύτητα εκμάθηση της μειονεκτώ ότι επειδή είναι διερμηνευόμενη είναι πιο αργός από μεταγλωττιζόμενες compiled γλώσσες όπως c c γιαυτό λόγο είναι κατάλληλη γραφή λειτουργικός συστημάτων [ ] http διερμηνευτής της python είναι διαθέσιμος εγκατάσταση πολλά λειτουργικά συστήματο επιτρέπω python εκτέλεση κώδικο ευρείος γκάμος συστημάτα χρησιμοποιώντας εργαλείο τρίτο όπως pyexe ή pyinstaller[ ] κώδικα της python μπορώ πακεταριστώ αυτόνομος εκτελέσιμο προγράμματο μερικά από πιο δημοφιλός λειτουργικά συστήματο επιτρέπω τη διανομή βασισμένος python λογισμικός χρήση αυτά περιβάλλοντος χωρίς απαιτείται εγκατάσταση διερμηνευτή της python httpsη python αναπτύσσομαι ως ανοιχτό λογισμικό open source διαχείρισή της γίνομαι από κερδοσκοπικό οργανισμό python software foundation [ ] κώδικα διανέμομαι άδεια python software foundation license οποία είναι συμβατός gpl όνομας της γλώσσα προέρχομαι από ομάδα άγγλων κωμικός μόντυ πάιθον έχω καμιά σχέση φίδι πύθωνας παρότι λογότυπό της παραπέμπω κάτι τέτοιο [ ] [ ] [ ]'}"
      ]
     },
     "execution_count": 292,
     "metadata": {},
     "output_type": "execute_result"
    }
   ],
   "source": [
    "# put this function in action\n",
    "{'Original': sample_text,\n",
    " 'Processed': normalize_corpus([data])[0]}"
   ]
  },
  {
   "cell_type": "code",
   "execution_count": 314,
   "metadata": {},
   "outputs": [
    {
     "name": "stdout",
     "output_type": "stream",
     "text": [
      "Βικιπαίδεια\n"
     ]
    },
    {
     "data": {
      "text/plain": [
       "'<html><body><div><div id=\"bodyContent\" class=\"mw-body-content\">\\n\\t\\t<p id=\"siteSub\" class=\"noprint\">Από τη Βικιπαίδεια, την ελεύθερη εγκυκλοπαίδεια</p>\\n\\t\\t<p id=\"contentSub\"></p>\\n\\t\\t<p id=\"contentSub2\"></p>\\n\\t\\t\\n\\t\\t<p id=\"jump-to-nav\"></p>\\n\\t\\t<a class=\"mw-jump-link\" href=\"#mw-head\">Μετάβαση στην πλοήγηση</a>\\n\\t\\t<a class=\"mw-jump-link\" href=\"#searchInput\">Πήδηση στην αναζήτηση</a>\\n\\t\\t<div id=\"mw-content-text\" lang=\"el\" dir=\"ltr\" class=\"mw-content-ltr\"><div class=\"mw-parser-output\">\\n\\n<div id=\"pylh_2019_periexomeno\">\\n<div class=\"pylh-aristera\">\\n<div class=\"pylh_2019_plaisio\">\\n<h2><span id=\".CE.95.CF.80.CE.B9.CE.BB.CE.B5.CE.B3.CE.BC.CE.AD.CE.BD.CE.BF_.CE.BB.CE.AE.CE.BC.CE.BC.CE.B1\"></span><span class=\"mw-headline\" id=\"Επιλεγμένο_λήμμα\">Επιλεγμένο λήμμα</span></h2>\\n\\n<p>Η <b><a href=\"/wiki/%CE%A0%CE%AC%CF%80%CE%B9%CF%83%CF%83%CE%B1_%CE%99%CF%89%CE%AC%CE%BD%CE%BD%CE%B1\" class=\"mw-redirect\" title=\"Πάπισσα Ιωάννα\">Πάπισσα Ιωάννα</a></b> είναι μυθιστόρημα του <a href=\"/wiki/%CE%95%CE%BC%CE%BC%CE%B1%CE%BD%CE%BF%CF%85%CE%AE%CE%BB_%CE%A1%CE%BF%CE%90%CE%B4%CE%B7%CF%82\" title=\"Εμμανουήλ Ροΐδης\">Εμμανουήλ Ροΐδη</a> που δημοσιεύτηκε το <a href=\"/wiki/1866\" title=\"1866\">1866</a> με το χαρακτηρισμό «μεσαιωνική μελέτη» σύμφωνα με την άποψη του ίδιου του συγγραφέα. Σε αυτό εξιστορείται ο βίος της Ιωάννας, μίας γυναίκας που κατάφερε να αναρριχηθεί στην ιεραρχία της <a href=\"/wiki/%CE%9A%CE%B1%CE%B8%CE%BF%CE%BB%CE%B9%CE%BA%CE%AE_%CE%95%CE%BA%CE%BA%CE%BB%CE%B7%CF%83%CE%AF%CE%B1\" title=\"Καθολική Εκκλησία\">Ρωμαιοκαθολικής εκκλησίας</a> και να φτάσει μέχρι και το αξίωμα του <a href=\"/wiki/%CE%A0%CE%AC%CF%80%CE%B1%CF%82\" title=\"Πάπας\">Πάπα</a>, προσποιούμενη ότι ήταν άντρας. Το μυθιστόρημα βασίζεται στο σχετικό <a href=\"/wiki/%CE%9C%CE%B5%CF%83%CE%B1%CE%AF%CF%89%CE%BD%CE%B1%CF%82\" title=\"Μεσαίωνας\">μεσαιωνικό</a> <a href=\"/wiki/%CE%98%CF%81%CF%8D%CE%BB%CE%BF%CF%82\" title=\"Θρύλος\">θρύλο</a> της <a href=\"/wiki/%CE%A0%CE%AC%CF%80%CE%B1%CF%82_%CE%99%CF%89%CE%AC%CE%BD%CE%BD%CE%B7%CF%82_%CE%97%CE%84\" title=\"Πάπας Ιωάννης Η΄\">Πάπισσας Ιωάννας</a>, σύμφωνα με τον οποίο μια γυναίκα βρέθηκε στο θρόνο του <a href=\"/wiki/%CE%92%CE%B1%CF%84%CE%B9%CE%BA%CE%B1%CE%BD%CF%8C\" title=\"Βατικανό\">Βατικανού</a> κατά την περίοδο <a href=\"/wiki/855\" title=\"855\">855</a> - <a href=\"/wiki/858\" title=\"858\">858</a>. Το μυθιστόρημα αυτό θεωρείται το σημαντικότερο από τα έργα του Ροΐδη και ένα από τα σπουδαιότερα ελληνικά μυθιστορήματα, το οποίο τελικά <a href=\"/wiki/%CE%98%CF%81%CE%B7%CF%83%CE%BA%CE%B5%CF%85%CF%84%CE%B9%CE%BA%CE%AD%CF%82_%CF%80%CE%BF%CE%B9%CE%BD%CE%AD%CF%82\" title=\"Θρησκευτικές ποινές\">αφορίστηκε</a> <i>\"ως αντιχριστιανικόν και κακόηθες\"</i>, με την υπ\\' αριθ. 5688/4-4-1866 εγκύκλιο της Ι. Συνόδου της <a href=\"/wiki/%CE%9F%CF%81%CE%B8%CF%8C%CE%B4%CE%BF%CE%BE%CE%B7_%CE%95%CE%BA%CE%BA%CE%BB%CE%B7%CF%83%CE%AF%CE%B1_%CF%84%CE%B7%CF%82_%CE%95%CE%BB%CE%BB%CE%AC%CE%B4%CE%BF%CF%82\" class=\"mw-redirect\" title=\"Ορθόδοξη Εκκλησία της Ελλάδος\">Εκκλησίας της Ελλάδος</a>, ενώ ο ίδιος ο Ροΐδης διώχθηκε δικαστικά.\\n</p><p>Η <i>Πάπισσα Ιωάννα</i> έχει τον υπότιτλο «μεσαιωνική μελέτη» και το βιβλίο, εκτός από την καθαυτό αφήγηση (στην οποία υπάρχουν συχνά υποσημειώσεις με επιπρόσθετο πληροφοριακό υλικό), συνοδεύεται από άλλες τρεις ενότητες: έναν πρόλογο του συγγραφέα προς τους αναγνώστες με πληροφορίες ενημερωτικές για την προϊστορία του έργου, την έρευνα, τις πηγές, το ύφος αλλά και την κριτική διάθεση με την οποία αντιμετώπιζε τα εκκλησιαστικά πράγματα, μία εκτενή εισαγωγή με παρουσίαση όλων των μαρτυριών για την ύπαρξη της Πάπισσας Ιωάννας και την ιστορίας της, και μία  ενότητα με εκτενείς σημειώσεις στο τέλος του έργου, όπου παρατίθενται άλλα ιστορικά στοιχεία και σχόλια. \\n</p><p>Η κυρίως αφήγηση εξιστορεί τη ζωή της Ιωάννας από τη γέννηση έως το τέλος της ζωής της. Ξεκινά από την ιστορία των γονέων της, δύο ιεραποστόλων και συνεχίζει με την ένταξή της στον βίο της μοναχής σε νεαρή ηλικία, τη γνωριμία και τον έρωτά της για τον μοναχό Φρουμέντιο, τα ταξίδια τους -με την Ιωάννα μεταμφιεσμένη σε άντρα- στη <a href=\"/wiki/%CE%93%CE%B5%CF%81%CE%BC%CE%B1%CE%BD%CE%AF%CE%B1\" title=\"Γερμανία\">Γερμανία</a>, στην <a href=\"/wiki/%CE%95%CE%BB%CE%B2%CE%B5%CF%84%CE%AF%CE%B1\" title=\"Ελβετία\">Ελβετία</a> και τη <a href=\"/wiki/%CE%93%CE%B1%CE%BB%CE%BB%CE%AF%CE%B1\" title=\"Γαλλία\">Γαλλία</a>, τη μακροχρόνια παραμονή τους στην <a href=\"/wiki/%CE%91%CE%B8%CE%AE%CE%BD%CE%B1\" title=\"Αθήνα\">Αθήνα</a> και την εγκατάσταση της Ιωάννας στη <a href=\"/wiki/%CE%A1%CF%8E%CE%BC%CE%B7\" title=\"Ρώμη\">Ρώμη</a>, την άνοδό της στην εκκλησιαστική ιεραρχία που την οδήγησε τελικά στο παπικό αξίωμα, την ερωτική της σχέση με τον θαλαμηπόλο της, την εγκυμοσύνη και τέλος την αποβολή και τον θάνατό της κατά τη διάρκεια μιας λιτανείας.\\n<small><i><a href=\"/wiki/%CE%A0%CE%AC%CF%80%CE%B9%CF%83%CF%83%CE%B1_%CE%99%CF%89%CE%AC%CE%BD%CE%BD%CE%B1_(%CE%BC%CF%85%CE%B8%CE%B9%CF%83%CF%84%CF%8C%CF%81%CE%B7%CE%BC%CE%B1)\" title=\"Πάπισσα Ιωάννα (μυθιστόρημα)\">(περισσότερα...)</a></i></small> \\n</p>\\n\\n</div>\\n\\n\\n</div>\\n\\n</div>\\n\\n\\n\\n\\n\\n\\n</div><noscript><img src=\"//el.wikipedia.org/wiki/Special:CentralAutoLogin/start?type=1x1\" alt=\"\" title=\"\"></noscript></div>\\n\\t\\t<p id=\"catlinks\" class=\"catlinks catlinks-allhidden\" data-mw=\"interface\"></p>\\n\\t</div>\\n</div></body></html>'"
      ]
     },
     "execution_count": 314,
     "metadata": {},
     "output_type": "execute_result"
    }
   ],
   "source": [
    "import requests\n",
    "from readability import Document\n",
    "\n",
    "response = requests.get('https://bit.ly/33fam7E')\n",
    "doc = Document(response.text)\n",
    "print (doc.title())\n",
    "\n",
    "doc.summary()"
   ]
  },
  {
   "cell_type": "code",
   "execution_count": 315,
   "metadata": {},
   "outputs": [
    {
     "data": {
      "text/plain": [
       "{'Original': 'Η Python είναι διερμηνευόμενη (interprited), γενικού σκοπού (general-purpose) και υψηλού επιπέδου, γλώσσα προγραμματισμού. Δημιουργήθηκε από τον Ολλανδό Γκίντο βαν Ρόσσουμ (Guido van Rossum) στο ερευνητικό, Ο κύριος στόχος της είναι η αναγνωσιμότητα του κώδικά της και η ευκολία χρήσης της. Το συντακτικό της επιτρέπει.',\n",
       " 'Processed': 'python είναι διερμηνευόμενη interprited γενικός σκοπός generalpurpose υψηλός επιπέδο γλώσσα προγραμματισμός δημιουργήθηκε από ολλανδό γκίντο βαν ρόσσουμ guido van rossum ερευνητικό κύριος στόχος της είναι αναγνωσιμότητα κώδικά της ευκολία χρήση της συντακτικό της επιτρέπω',\n",
       " 'Processed1': 'βικιπαίδειος πύλη κύριος από τη βικιπαίδειο ελεύθερη εγκυκλοπαίδειο μετάβαση πλοήγηση πήδηση αναζήτηση mwparseroutput firstheading display none mwparseroutput pylh__kefalida background lineargradient to bottomfffeff borderbottom solid px adfc marginbottom rem mwparseroutput pylh__kordela background url httpsupload wikimedia orgwikipediacommons aaawikipedia logov o svg norepeat px px backgroundsize px pxpadding rem rem rem fontfamily open sans sansserif mwparseroutput pylh__ bloctitlos display inlineblock marginleft rem marginbottom rem textalign left lineheight color mwparseroutput pylh__ bloctitlos h marginpaddingborder none fontsize fontweight bold fontfamily open sans sansserif color mwparseroutput pylh__ bloctitlos p marginpadding fontsize mwparseroutput pylh__ blocsyndesmos textalign center fontsize fontweight bold mwparseroutput pylh__ syndesmosmobile marginbottom rem mwparseroutput pylh__periexomeno after clear bothdisplay tablecontent mwparseroutput pylh__plaisio boxshadow rem borderradius rempadding rem marginbottom rem mwparseroutput pylh__plaisio h letterspacing em borderbottom solid rem bddfbmargin rem rem mwparseroutput pylh__pied padding em fontsize textalign right mwparseroutput infomain backgroundcolor ffafd media minwidth px mwparseroutput pylh__periexomeno display flex mwparseroutput pylh__periexomeno pylharistera mwparseroutput pylh__periexomeno pylhdexia display flex flexdirection column mwparseroutput pylh__periexomeno pylhdexia minwidth mwparseroutput pylh__plaisio nthchild flexgrow mwparseroutput pylh__plaisio nthchild flexgrow mwparseroutput pylh__plaisio nthchild flexgrow mwparseroutput pylharistera pylh__plaisio marginright rem καλώς ήλθατε βικιπαίδειο ελεύθερη εγκυκλοπαίδειο γράφω συμμετοχικά τέχνη ιστορία επιστήμη τεχνολογία γεωγραφία κατάλογος θεματικός πυλά επιλεγμένος λήμμα πάπισσα ιωάννα είναι μυθιστόρημα εμμανουήλ ροδη δημοσιεύτηκε χαρακτηρισμό μεσαιωνικός μελέτη σύμφωνα άποψη ίδιος συγγραφέας αυτό εξιστορείται βίος της ιωάννας μίας γυναίκα κατάφερε αναρριχηθώ ιεραρχία της ρωμαιοκαθολικός εκκλησία φτάσω μέχρι αξίωμα πάπας προσποιούμενη ότι ήταν άντρας μυθιστόρημα βασίζομαι σχετικό μεσαιωνικό θρύλο της πάπισσας ιωάννας σύμφωνα οποίο μια γυναίκα βρέθηκε θρόνο βατικανού περίοδο μυθιστόρημα αυτό θεωρείται σημαντικότερος από έργο ροδη ένα από σπουδαιότερος ελληνικά μυθιστορήματας οποίο τελικά αφορίστηκε ως αντιχριστιανικόν κακόηθες υπ αριθ εγκύκλιο της ι συνόδο της εκκλησία της ελλάδος ενώ ίδιος ροδης διώχθηκε δικαστικά πάπισσα ιωάννα έχω υπότιτλος μεσαιωνικός μελέτη βιβλίο εκτός από καθαυτό αφήγηση οποία υπάρχω συχνά υποσημειώσει επιπρόσθετος πληροφοριακό υλικό συνοδεύομαι από άλλες τρεις ενότητα έναν πρόλογο συγγραφέας προς τους αναγνώστα πληροφορία ενημερωτικός προστορία έργο έρευνα πηγή ύφος αλλά κριτική διάθεση οποία αντιμετώπιζε εκκλησιαστικά πράγματο μία εκτενός εισαγωγή παρουσίαση όλος μαρτυριά ύπαρξη της πάπισσας ιωάννας ιστορία της μία ενότητα εκτενείς σημειώσεις τέλος έργο όπου παρατίθενται άλλα ιστορικά στοιχείο σχόλιο κυρίως αφήγηση εξιστορώ τη ζωή της ιωάννας από τη γέννηση έως τέλος της ζωή της ξεκινώ από ιστορία γονέο της δύο ιεραποστόλος συνεχίζω ένταξή της βίο της μοναχός νεαρός ηλικία τη γνωριμία έρωτά της μοναχό φρουμέντιο ταξίδιο τους ιωάννα μεταμφιεσμένη άντρο γερμανία ελβετία τη γαλλία τη μακροχρόνιος παραμονή τους αθήνα εγκατάσταση της ιωάννας ρώμη άνοδό της εκκλησιαστικός ιεραρχία οδήγησε τελικά παπικό αξίωμα ερωτικός της σχέση θαλαμηπόλο της εγκυμοσύνη τέλος αποβολή θάνατό της τη διάρκειας μιας λιτανεία περισσότερος άλλα προβεβλημένα λήμματα σαν σήμερα ιουλίου δολοφονείται βασιλεύ της ιταλίας ουμβέρτος μόντσα θρόνο διαδέχομαι βίκτωρ εμμανουήλ γ λονδίνο υπογράφομαι πρωτόκολλο ίδρυση αυτόνομος κράτου όνομας αλβανία αδόλφος χίτλερ γίνομαι πρόεδρος εθνικοσοσιαλιστικoύ κόμματος γερμανός εργατής περισσότερος αυτό μήνας ή αυτή ημέρα τρέχοντος γεγονότας συνεχίζομαι πανδημία κορονοός πολλός χώρα εφαρμόζω γενικός καραντίνα όλη επικράτεια κλείνω σύνορά τους πεθαίνω πρόεδρος μπουρούντι πιερ νκουρουνζίζα ολυμπιακός αγώνε διεξάγομαι τόκιο από ιουλίου έως αυγούστο αναβάλλομαι έτος λόγω της ανησυχία πανδημία κορονοός περισσότερος τρέχοντος γεγονότας παρουσίαση βικιπαίδειο ή wikipedia είναι ένα συλλογικό εγκυκλοπαιδικό εγχείρημα έχω συσταθώ διαδίκτυο παγκόσμιο πολύγλωσσο λειτουργώ αρχή wiki βικιπαίδειο έχω ως στόχο παρέχω ελεύθερα επαναχρησιμοποιήσιμος περιεχόμενο αντικειμενικά επαληθεύσιμος στοιχείο καθένας μπορώ τροποποιήσω βελτιώσω έργο ορίζομαι από ιδρυτικός αρχές περιεχόμενό είναι υπό άδεια creative commons bysa μπορώ αντιγραφώ επαναχρησιμοποιηθώ πλαίσιο της ίδιας άδεια ακόμα εμπορικούς σκοπούς επιφύλαξη της συμμόρφωση τους όρου της άδεια σήμερα ελληνικός βικιπαίδειο περιλαμβάνω λήμματο ενεργούς εγγεγραμμένους συνεισφέροντες συμμετοχή καθένας μπορώ διαδικτυακά δημοσιεύσω άμεσα περιεχόμενο αρκώ ακολουθήσω τους βασικούς κανόνα καθορίζομαι από κοινότητα π χ επαληθευσιμότηα περιεχομένο ή αποδοχή λημμάτο πολλός σελίδα βοήθεια είναι διαθέσιμες συμπεριλαμβανομένων ξεκινήσω ένα λήμμα επεξεργαστείτε ένα λήμμα ή τοποθετήσω μια εικόνα διστάσω θέσω οποιοδήποτε ερώτημας περιεχόμενος βοήθεια γνωρίζω ότι μάρκο τύλλιος τίρα ένας απελεύθερος αρχαίος ρώμη στενός συνεργάτης κικέρωνα θεωρείται ως ένας από τους πρωτοπόρου της στενογραφία άγιος βασίλης ή αβασίλης αποτελώ σήμερα μια διεθνός λαογραφικός μορφή οποία διανέμω δώρο παιδί ενηλίκου υπήρξαν καλός τη διάρκειας χρόνο δυτικό χριστιανισμό ταυτίζομαι άγιος νικόλαο πυανεψιών ήταν τέταρτος μήνας αττικός ημερολογίο έχω πάρω όνομά από ομώνυμος έθιμο θέσπομαι θησέας σήμαινε κυριολεκτικά ημέρα της φασολάδα προτάσει αρχείο mwparseroutput sisterprojectslist textalign leftbackground transparentmarginpxdisplay flex flexwrap wrap mwparseroutput sisterprojectslist div width minwidth em whitespace nowrapdisplay inlineblock flex mwparseroutput sisterprojectslist div div display inlineblock verticalalign middlepaddingpx px mwparseroutput sisterprojectslist div div firstchild minwidth px textalign center λειτουργία της βικιπαίδεια υποστηρίζομαι από κερδοσκοπικό οργανισμό wikimedia foundation οποίος λειτουργώ άλλους πολύγλωσσου ελεύθερος περιεχομένο ιστοχώρου commons κοινό αποθετήριο πολυμέσα wikisource βιβλιοθήκη ελεύθερος πηγή wikidata ελεύθερη γνωσιακός βάση wikibooks ελεύθερα εκπαιδευτικά εγχειρίδιο wiktionary ελεύθερος λεξικό wikinews ελεύθερη ειδησεογραφία wikiquote συλλογή αποφθεγμάτο wikivoyage ταξιδιωτικός οδηγός wikispecies ταξινομικός κατάλογος wikiversity μαθησιακά εργαλείο mediawiki ανάπτυξη λογισμικός wiki metawiki συντονισμός εγχειρημάτο wikimedia ανακτήθηκε από httpsel wikipedia orgwindex phptitleπύληκύριαoldid μενού πλοήγηση προσωπικά εργαλείο χωρίς σύνδεσησυζήτηση αυτή ipσυνεισφορέςδημιουργία λογαριασμούσύνδεση ονοματοχώροι αρχικός σελίδασυζήτηση παραλλαγή προβολή ανάγνωσηεμφάνιση κώδικαπροβολή ιστορικός περισσότερος αναζήτηση πλοήγηση κύριος πύληκατάλογος λημμάτωνπροβεβλημένα λήμματατρέχοντα γεγονότατυχαίο λήμμα συμμετοχή βοήθειαπύλη κοινότηταςαγοράπρόσφατες αλλαγέςεπικοινωνίαδωρεές εργαλείο συνδέσει προς εδώσχετικός αλλαγέςειδικές σελίδεςσταθερός σύνδεσμοςπληροφορίες σελίδαςαντικείμενο wikidata εκτύπωση εξαγωγή δημιουργία βιβλίουκατέβασμα ως pdfέκδοση εκτύπωση άλλα εγχειρήματο wikimedia commonsmediawikimetawikiwikispeciesβικιβιβλίαwikidatawikimaniaβικινέαβικιφθέγματαβικιθήκηβικιεπιστήμιοβικιταξίδιαβικιλεξικό άλλες γλώσσες qafr afachafrikaansakanalemannischaragonsngliscasturianuatikamekwaymar aruazrbaycancabaliboarischemaitkabikol central bislamabanjarbamanankan brezhonegbosanski catalchavacano de zamboangam ngd ngng cebuanochamoruchoctawtsetshesthesecorsunhiyawwin qrmtatarcaetinakaszbsczi cymraegdanskdeutschthujzazakidolnoserbskieegbeemilin e rumagnlenglishesperantoespaoleestieuskaraestremeufulfuldesuomivrona vosa vakavitifroysktfranaisarpetannordfriiskfurlanfryskgaeilgegagauzkriyl gwiyannengidhliggalegoavae gychi konknnibahasa hulontalogaelghausa hakk nghawaiifiji hindihiri motuhrvatskihornjoserbscekreyl ayisyenmagyarotsihererointerlinguabahasa indonesiainterlingueigboiupiakilokanoidoslenskaitalianoinuktitutpatoisla lojban jawaqaraqalpaqshataqbaylitkabykongogkykwanyamakalaallisut kanuri ripoarischkurdkernoweklatinaladinoltzebuergeschlingua franca novalugandalimburgsligurelumbaartlingla lietuvilatgaulatvieubasa banyumasanmalagasy moriminangkabau bahasa melayumaltimvskokemirandsdorerin naoeronhuatlnapulitanoplattdtschnedersaksies oshiwambonederlandsnorsk nynorsknorsk bokmlnovialnouormandsesotho sa leboadin bizaadchichewaoccitanlivvinkarjalaoromoopangasinankapampanganpapiamentupicarddeitschplzischnorfuk pitkernpolskipiemontisποντιακάportugusruna simirumantschromani hibkirundiromnarmneashtitarandnekinyarwanda sardusicilianuscotsdavvismegiellasngsrpskohrvatski simple englishsloveninasloveninagagana samoachishonasoomaaligashqip srpskisranantongosiswatisesothoseeltersksundasvenskakiswahililnskisakizayatetuntrkmenetagalogsetswanalea fakatongatok pisintrkexitsonga tatarachitumbukatwireo tahiti uyghurcheozbekchatshivendavnetovepsn kelting vi twestvlamsvolap kwalonwinaraywolofisixhosayorbvahcuenghzeuwsb nl mg isizulu επεξεργασίας συνδέσμο τελευταίος τροποποίηση δεκεμβρίο όλος κείμενο είναι διαθέσιμος υπό creative commons attributionsharealike license μπορώ ισχύω πρόσθετος όροι χρησιμοποιώντας αυτό ιστότοπο συμφωνείτε στους όρου χρήση πολιτική ιδιωτικότητα wikipedia είναι καταχωρημένος σήμα wikimedia foundation inc ενός κερδοσκοπικός οργανισμός πολιτικός προσωπικός δεδομένα τη βικιπαίδειος αποποίηση ευθυνή προγραμματιστής στατιστικά δήλωση cookie προβολή κινητού'}"
      ]
     },
     "execution_count": 315,
     "metadata": {},
     "output_type": "execute_result"
    }
   ],
   "source": [
    "# put this function in action\n",
    "{'Original': sample_text,\n",
    " 'Processed': normalize_corpus([sample_text])[0],\n",
    " 'Processed1': normalize_corpus([response.content])[0]}"
   ]
  },
  {
   "cell_type": "code",
   "execution_count": null,
   "metadata": {},
   "outputs": [],
   "source": []
  }
 ],
 "metadata": {
  "anaconda-cloud": {},
  "kernelspec": {
   "display_name": "Python 3",
   "language": "python",
   "name": "python3"
  },
  "language_info": {
   "codemirror_mode": {
    "name": "ipython",
    "version": 3
   },
   "file_extension": ".py",
   "mimetype": "text/x-python",
   "name": "python",
   "nbconvert_exporter": "python",
   "pygments_lexer": "ipython3",
   "version": "3.7.6"
  }
 },
 "nbformat": 4,
 "nbformat_minor": 2
}
